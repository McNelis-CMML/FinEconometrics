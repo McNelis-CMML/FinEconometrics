{
 "cells": [
  {
   "cell_type": "code",
   "execution_count": 2,
   "metadata": {},
   "outputs": [
    {
     "name": "stdout",
     "output_type": "stream",
     "text": [
      "Requirement already satisfied: pandas in c:\\users\\mcnelis\\anaconda3\\lib\\site-packages (1.3.4)\n",
      "Requirement already satisfied: python-dateutil>=2.7.3 in c:\\users\\mcnelis\\anaconda3\\lib\\site-packages (from pandas) (2.8.2)\n",
      "Requirement already satisfied: pytz>=2017.3 in c:\\users\\mcnelis\\anaconda3\\lib\\site-packages (from pandas) (2021.3)\n",
      "Requirement already satisfied: numpy>=1.17.3 in c:\\users\\mcnelis\\anaconda3\\lib\\site-packages (from pandas) (1.20.3)\n",
      "Requirement already satisfied: six>=1.5 in c:\\users\\mcnelis\\anaconda3\\lib\\site-packages (from python-dateutil>=2.7.3->pandas) (1.16.0)\n",
      "Requirement already satisfied: numpy in c:\\users\\mcnelis\\anaconda3\\lib\\site-packages (1.20.3)\n",
      "Requirement already satisfied: matplotlib in c:\\users\\mcnelis\\anaconda3\\lib\\site-packages (3.4.3)\n",
      "Requirement already satisfied: python-dateutil>=2.7 in c:\\users\\mcnelis\\anaconda3\\lib\\site-packages (from matplotlib) (2.8.2)\n",
      "Requirement already satisfied: kiwisolver>=1.0.1 in c:\\users\\mcnelis\\anaconda3\\lib\\site-packages (from matplotlib) (1.3.1)\n",
      "Requirement already satisfied: cycler>=0.10 in c:\\users\\mcnelis\\anaconda3\\lib\\site-packages (from matplotlib) (0.10.0)\n",
      "Requirement already satisfied: pyparsing>=2.2.1 in c:\\users\\mcnelis\\anaconda3\\lib\\site-packages (from matplotlib) (3.0.4)\n",
      "Requirement already satisfied: pillow>=6.2.0 in c:\\users\\mcnelis\\anaconda3\\lib\\site-packages (from matplotlib) (8.4.0)\n",
      "Requirement already satisfied: numpy>=1.16 in c:\\users\\mcnelis\\anaconda3\\lib\\site-packages (from matplotlib) (1.20.3)\n",
      "Requirement already satisfied: six in c:\\users\\mcnelis\\anaconda3\\lib\\site-packages (from cycler>=0.10->matplotlib) (1.16.0)\n",
      "Requirement already satisfied: statsmodels in c:\\users\\mcnelis\\anaconda3\\lib\\site-packages (0.12.2)\n",
      "Requirement already satisfied: numpy>=1.15 in c:\\users\\mcnelis\\anaconda3\\lib\\site-packages (from statsmodels) (1.20.3)\n",
      "Requirement already satisfied: scipy>=1.1 in c:\\users\\mcnelis\\anaconda3\\lib\\site-packages (from statsmodels) (1.7.1)\n",
      "Requirement already satisfied: pandas>=0.21 in c:\\users\\mcnelis\\anaconda3\\lib\\site-packages (from statsmodels) (1.3.4)\n",
      "Requirement already satisfied: patsy>=0.5 in c:\\users\\mcnelis\\anaconda3\\lib\\site-packages (from statsmodels) (0.5.2)\n",
      "Requirement already satisfied: python-dateutil>=2.7.3 in c:\\users\\mcnelis\\anaconda3\\lib\\site-packages (from pandas>=0.21->statsmodels) (2.8.2)\n",
      "Requirement already satisfied: pytz>=2017.3 in c:\\users\\mcnelis\\anaconda3\\lib\\site-packages (from pandas>=0.21->statsmodels) (2021.3)\n",
      "Requirement already satisfied: six in c:\\users\\mcnelis\\anaconda3\\lib\\site-packages (from patsy>=0.5->statsmodels) (1.16.0)\n",
      "Collecting sklearn\n",
      "  Using cached sklearn-0.0.tar.gz (1.1 kB)\n",
      "Requirement already satisfied: scikit-learn in c:\\users\\mcnelis\\anaconda3\\lib\\site-packages (from sklearn) (0.24.2)\n",
      "Requirement already satisfied: threadpoolctl>=2.0.0 in c:\\users\\mcnelis\\anaconda3\\lib\\site-packages (from scikit-learn->sklearn) (2.2.0)\n",
      "Requirement already satisfied: numpy>=1.13.3 in c:\\users\\mcnelis\\anaconda3\\lib\\site-packages (from scikit-learn->sklearn) (1.20.3)\n",
      "Requirement already satisfied: joblib>=0.11 in c:\\users\\mcnelis\\anaconda3\\lib\\site-packages (from scikit-learn->sklearn) (1.1.0)\n",
      "Requirement already satisfied: scipy>=0.19.1 in c:\\users\\mcnelis\\anaconda3\\lib\\site-packages (from scikit-learn->sklearn) (1.7.1)\n",
      "Building wheels for collected packages: sklearn\n",
      "  Building wheel for sklearn (setup.py): started\n",
      "  Building wheel for sklearn (setup.py): finished with status 'done'\n",
      "  Created wheel for sklearn: filename=sklearn-0.0-py2.py3-none-any.whl size=1309 sha256=770e40910634dacb77370875107c18d26bfba0df18baa6d8fc7e146b8e25df64\n",
      "  Stored in directory: c:\\users\\mcnelis\\appdata\\local\\pip\\cache\\wheels\\e4\\7b\\98\\b6466d71b8d738a0c547008b9eb39bf8676d1ff6ca4b22af1c\n",
      "Successfully built sklearn\n",
      "Installing collected packages: sklearn\n",
      "Successfully installed sklearn-0.0\n"
     ]
    },
    {
     "ename": "ModuleNotFoundError",
     "evalue": "No module named 'pandas'",
     "output_type": "error",
     "traceback": [
      "\u001b[1;31m---------------------------------------------------------------------------\u001b[0m",
      "\u001b[1;31mModuleNotFoundError\u001b[0m                       Traceback (most recent call last)",
      "Input \u001b[1;32mIn [2]\u001b[0m, in \u001b[0;36m<cell line: 6>\u001b[1;34m()\u001b[0m\n\u001b[0;32m      4\u001b[0m get_ipython()\u001b[38;5;241m.\u001b[39msystem(\u001b[38;5;124m'\u001b[39m\u001b[38;5;124mpip install statsmodels\u001b[39m\u001b[38;5;124m'\u001b[39m)\n\u001b[0;32m      5\u001b[0m get_ipython()\u001b[38;5;241m.\u001b[39msystem(\u001b[38;5;124m'\u001b[39m\u001b[38;5;124mpip install sklearn\u001b[39m\u001b[38;5;124m'\u001b[39m)\n\u001b[1;32m----> 6\u001b[0m \u001b[38;5;28;01mimport\u001b[39;00m \u001b[38;5;21;01mpandas\u001b[39;00m \u001b[38;5;28;01mas\u001b[39;00m \u001b[38;5;21;01mpd\u001b[39;00m\n\u001b[0;32m      7\u001b[0m \u001b[38;5;28;01mimport\u001b[39;00m \u001b[38;5;21;01mnumpy\u001b[39;00m \u001b[38;5;28;01mas\u001b[39;00m \u001b[38;5;21;01mnp\u001b[39;00m\n\u001b[0;32m      8\u001b[0m \u001b[38;5;28;01mimport\u001b[39;00m \u001b[38;5;21;01mmatplotlib\u001b[39;00m\u001b[38;5;21;01m.\u001b[39;00m\u001b[38;5;21;01mpyplot\u001b[39;00m \u001b[38;5;28;01mas\u001b[39;00m \u001b[38;5;21;01mplt\u001b[39;00m\n",
      "\u001b[1;31mModuleNotFoundError\u001b[0m: No module named 'pandas'"
     ]
    }
   ],
   "source": [
    "\n",
    "import pandas as pd\n",
    "import numpy as np\n",
    "import matplotlib.pyplot as plt\n",
    "import statsmodels.api as sm\n",
    "from sklearn.covariance import MinCovDet\n",
    "from statsmodels.graphics.tsaplots import plot_acf\n",
    "from scipy.stats import t, f, chi2\n",
    "%matplotlib inline"
   ]
  },
  {
   "cell_type": "markdown",
   "metadata": {},
   "source": [
    "$\\textbf{Empirical Exercise-Week 8}$  Exchange rate dynamics: Comparing Euro and Sterling. File: sterling.csv. Text: p. 610, 13.12"
   ]
  },
  {
   "cell_type": "code",
   "execution_count": 10,
   "metadata": {},
   "outputs": [
    {
     "data": {
      "text/plain": [
       "[<matplotlib.lines.Line2D at 0x260512b3b48>,\n",
       " <matplotlib.lines.Line2D at 0x2605230aec8>]"
      ]
     },
     "execution_count": 10,
     "metadata": {},
     "output_type": "execute_result"
    },
    {
     "data": {
      "image/png": "[encoded data removed]",
      "text/plain": [
       "<Figure size 432x288 with 1 Axes>"
      ]
     },
     "metadata": {
      "needs_background": "light"
     },
     "output_type": "display_data"
    }
   ],
   "source": [
    "Tab1 = pd.read_csv('sterling.csv')\n",
    "date11 = Tab1.iloc[:,0]\n",
    "date1 = np.array(Tab1.iloc[:,0]); euro = np.array(Tab1.iloc[:,1])\n",
    "sterling = np.array(Tab1.iloc[:,2])\n",
    "plt.plot(date11, np.array([euro, sterling]).T)"
   ]
  },
  {
   "cell_type": "code",
   "execution_count": 3,
   "metadata": {},
   "outputs": [
    {
     "data": {
      "text/plain": [
       "[array([0.64138905, 0.40777258]), array([403.13127191,  41.04694578])]"
      ]
     },
     "execution_count": 3,
     "metadata": {},
     "output_type": "execute_result"
    }
   ],
   "source": [
    "leuro = np.log(euro);  lsterling = np.log(sterling);\n",
    "x = leuro; y = sterling;\n",
    "xx = np.array([np.ones(len(y)), leuro]).T\n",
    "results1 = sm.OLS(y,xx).fit()\n",
    "[results1.params, results1.tvalues]"
   ]
  },
  {
   "cell_type": "code",
   "execution_count": 43,
   "metadata": {},
   "outputs": [
    {
     "data": {
      "text/plain": [
       "[<matplotlib.lines.Line2D at 0x1c25c20e90>]"
      ]
     },
     "execution_count": 43,
     "metadata": {},
     "output_type": "execute_result"
    },
    {
     "data": {
      "image/png": "[encoded data removed]",
      "text/plain": [
       "<Figure size 432x288 with 1 Axes>"
      ]
     },
     "metadata": {
      "needs_background": "light"
     },
     "output_type": "display_data"
    }
   ],
   "source": [
    "cvec = results1.resid\n",
    "plt.plot(date1, cvec)  # plot coitegrating vector"
   ]
  },
  {
   "cell_type": "code",
   "execution_count": 4,
   "metadata": {},
   "outputs": [],
   "source": [
    "from statsmodels.tsa.vector_ar.vecm import VECM"
   ]
  },
  {
   "cell_type": "code",
   "execution_count": 5,
   "metadata": {},
   "outputs": [
    {
     "data": {
      "text/plain": [
       "array([[ 0.20421968, -0.2957218 ],\n",
       "       [ 0.26607592, -0.38529319]])"
      ]
     },
     "execution_count": 5,
     "metadata": {},
     "output_type": "execute_result"
    }
   ],
   "source": [
    "yy = np.array([leuro, lsterling]).T\n",
    "results1=VECM(yy,coint_rank=1,k_ar_diff=4,deterministic='co').fit()\n",
    "results1.alpha.dot(results1.beta.T)"
   ]
  },
  {
   "cell_type": "code",
   "execution_count": 6,
   "metadata": {},
   "outputs": [
    {
     "data": {
      "text/html": [
       "<table class=\"simpletable\">\n",
       "<caption>Det. terms outside the coint. relation & lagged endog. parameters for equation y1</caption>\n",
       "<tr>\n",
       "    <td></td>       <th>coef</th>     <th>std err</th>      <th>z</th>      <th>P>|z|</th>  <th>[0.025</th>    <th>0.975]</th>  \n",
       "</tr>\n",
       "<tr>\n",
       "  <th>const</th> <td>   -0.1345</td> <td>    0.070</td> <td>   -1.934</td> <td> 0.053</td> <td>   -0.271</td> <td>    0.002</td>\n",
       "</tr>\n",
       "<tr>\n",
       "  <th>L1.y1</th> <td>    0.1903</td> <td>    0.164</td> <td>    1.162</td> <td> 0.245</td> <td>   -0.131</td> <td>    0.511</td>\n",
       "</tr>\n",
       "<tr>\n",
       "  <th>L1.y2</th> <td>   -0.3347</td> <td>    0.203</td> <td>   -1.648</td> <td> 0.099</td> <td>   -0.733</td> <td>    0.063</td>\n",
       "</tr>\n",
       "<tr>\n",
       "  <th>L2.y1</th> <td>    0.0366</td> <td>    0.164</td> <td>    0.223</td> <td> 0.824</td> <td>   -0.285</td> <td>    0.358</td>\n",
       "</tr>\n",
       "<tr>\n",
       "  <th>L2.y2</th> <td>    0.0433</td> <td>    0.204</td> <td>    0.212</td> <td> 0.832</td> <td>   -0.357</td> <td>    0.444</td>\n",
       "</tr>\n",
       "<tr>\n",
       "  <th>L3.y1</th> <td>   -0.2869</td> <td>    0.160</td> <td>   -1.795</td> <td> 0.073</td> <td>   -0.600</td> <td>    0.026</td>\n",
       "</tr>\n",
       "<tr>\n",
       "  <th>L3.y2</th> <td>    0.3199</td> <td>    0.200</td> <td>    1.601</td> <td> 0.109</td> <td>   -0.072</td> <td>    0.712</td>\n",
       "</tr>\n",
       "<tr>\n",
       "  <th>L4.y1</th> <td>   -0.3323</td> <td>    0.161</td> <td>   -2.064</td> <td> 0.039</td> <td>   -0.648</td> <td>   -0.017</td>\n",
       "</tr>\n",
       "<tr>\n",
       "  <th>L4.y2</th> <td>    0.3629</td> <td>    0.190</td> <td>    1.911</td> <td> 0.056</td> <td>   -0.009</td> <td>    0.735</td>\n",
       "</tr>\n",
       "</table>\n",
       "<table class=\"simpletable\">\n",
       "<caption>Det. terms outside the coint. relation & lagged endog. parameters for equation y2</caption>\n",
       "<tr>\n",
       "    <td></td>       <th>coef</th>     <th>std err</th>      <th>z</th>      <th>P>|z|</th>  <th>[0.025</th>    <th>0.975]</th>  \n",
       "</tr>\n",
       "<tr>\n",
       "  <th>const</th> <td>   -0.1739</td> <td>    0.051</td> <td>   -3.413</td> <td> 0.001</td> <td>   -0.274</td> <td>   -0.074</td>\n",
       "</tr>\n",
       "<tr>\n",
       "  <th>L1.y1</th> <td>    0.2692</td> <td>    0.120</td> <td>    2.243</td> <td> 0.025</td> <td>    0.034</td> <td>    0.504</td>\n",
       "</tr>\n",
       "<tr>\n",
       "  <th>L1.y2</th> <td>   -0.3455</td> <td>    0.149</td> <td>   -2.320</td> <td> 0.020</td> <td>   -0.637</td> <td>   -0.054</td>\n",
       "</tr>\n",
       "<tr>\n",
       "  <th>L2.y1</th> <td>   -0.0304</td> <td>    0.120</td> <td>   -0.253</td> <td> 0.800</td> <td>   -0.266</td> <td>    0.205</td>\n",
       "</tr>\n",
       "<tr>\n",
       "  <th>L2.y2</th> <td>    0.0844</td> <td>    0.150</td> <td>    0.563</td> <td> 0.574</td> <td>   -0.209</td> <td>    0.378</td>\n",
       "</tr>\n",
       "<tr>\n",
       "  <th>L3.y1</th> <td>   -0.2983</td> <td>    0.117</td> <td>   -2.545</td> <td> 0.011</td> <td>   -0.528</td> <td>   -0.069</td>\n",
       "</tr>\n",
       "<tr>\n",
       "  <th>L3.y2</th> <td>    0.3435</td> <td>    0.147</td> <td>    2.344</td> <td> 0.019</td> <td>    0.056</td> <td>    0.631</td>\n",
       "</tr>\n",
       "<tr>\n",
       "  <th>L4.y1</th> <td>   -0.1265</td> <td>    0.118</td> <td>   -1.072</td> <td> 0.284</td> <td>   -0.358</td> <td>    0.105</td>\n",
       "</tr>\n",
       "<tr>\n",
       "  <th>L4.y2</th> <td>    0.2730</td> <td>    0.139</td> <td>    1.960</td> <td> 0.050</td> <td> 6.56e-05</td> <td>    0.546</td>\n",
       "</tr>\n",
       "</table>\n",
       "<table class=\"simpletable\">\n",
       "<caption>Loading coefficients (alpha) for equation y1</caption>\n",
       "<tr>\n",
       "   <td></td>      <th>coef</th>     <th>std err</th>      <th>z</th>      <th>P>|z|</th>  <th>[0.025</th>    <th>0.975]</th>  \n",
       "</tr>\n",
       "<tr>\n",
       "  <th>ec1</th> <td>    0.2042</td> <td>    0.107</td> <td>    1.902</td> <td> 0.057</td> <td>   -0.006</td> <td>    0.415</td>\n",
       "</tr>\n",
       "</table>\n",
       "<table class=\"simpletable\">\n",
       "<caption>Loading coefficients (alpha) for equation y2</caption>\n",
       "<tr>\n",
       "   <td></td>      <th>coef</th>     <th>std err</th>      <th>z</th>      <th>P>|z|</th>  <th>[0.025</th>    <th>0.975]</th>  \n",
       "</tr>\n",
       "<tr>\n",
       "  <th>ec1</th> <td>    0.2661</td> <td>    0.079</td> <td>    3.381</td> <td> 0.001</td> <td>    0.112</td> <td>    0.420</td>\n",
       "</tr>\n",
       "</table>\n",
       "<table class=\"simpletable\">\n",
       "<caption>Cointegration relations for loading-coefficients-column 1</caption>\n",
       "<tr>\n",
       "     <td></td>       <th>coef</th>     <th>std err</th>      <th>z</th>      <th>P>|z|</th>  <th>[0.025</th>    <th>0.975]</th>  \n",
       "</tr>\n",
       "<tr>\n",
       "  <th>beta.1</th> <td>    1.0000</td> <td>        0</td> <td>        0</td> <td> 0.000</td> <td>    1.000</td> <td>    1.000</td>\n",
       "</tr>\n",
       "<tr>\n",
       "  <th>beta.2</th> <td>   -1.4481</td> <td>    0.080</td> <td>  -18.141</td> <td> 0.000</td> <td>   -1.605</td> <td>   -1.292</td>\n",
       "</tr>\n",
       "</table>"
      ],
      "text/plain": [
       "<class 'statsmodels.iolib.summary.Summary'>\n",
       "\"\"\"\n",
       "Det. terms outside the coint. relation & lagged endog. parameters for equation y1\n",
       "==============================================================================\n",
       "                 coef    std err          z      P>|z|      [0.025      0.975]\n",
       "------------------------------------------------------------------------------\n",
       "const         -0.1345      0.070     -1.934      0.053      -0.271       0.002\n",
       "L1.y1          0.1903      0.164      1.162      0.245      -0.131       0.511\n",
       "L1.y2         -0.3347      0.203     -1.648      0.099      -0.733       0.063\n",
       "L2.y1          0.0366      0.164      0.223      0.824      -0.285       0.358\n",
       "L2.y2          0.0433      0.204      0.212      0.832      -0.357       0.444\n",
       "L3.y1         -0.2869      0.160     -1.795      0.073      -0.600       0.026\n",
       "L3.y2          0.3199      0.200      1.601      0.109      -0.072       0.712\n",
       "L4.y1         -0.3323      0.161     -2.064      0.039      -0.648      -0.017\n",
       "L4.y2          0.3629      0.190      1.911      0.056      -0.009       0.735\n",
       "Det. terms outside the coint. relation & lagged endog. parameters for equation y2\n",
       "==============================================================================\n",
       "                 coef    std err          z      P>|z|      [0.025      0.975]\n",
       "------------------------------------------------------------------------------\n",
       "const         -0.1739      0.051     -3.413      0.001      -0.274      -0.074\n",
       "L1.y1          0.2692      0.120      2.243      0.025       0.034       0.504\n",
       "L1.y2         -0.3455      0.149     -2.320      0.020      -0.637      -0.054\n",
       "L2.y1         -0.0304      0.120     -0.253      0.800      -0.266       0.205\n",
       "L2.y2          0.0844      0.150      0.563      0.574      -0.209       0.378\n",
       "L3.y1         -0.2983      0.117     -2.545      0.011      -0.528      -0.069\n",
       "L3.y2          0.3435      0.147      2.344      0.019       0.056       0.631\n",
       "L4.y1         -0.1265      0.118     -1.072      0.284      -0.358       0.105\n",
       "L4.y2          0.2730      0.139      1.960      0.050    6.56e-05       0.546\n",
       "                 Loading coefficients (alpha) for equation y1                 \n",
       "==============================================================================\n",
       "                 coef    std err          z      P>|z|      [0.025      0.975]\n",
       "------------------------------------------------------------------------------\n",
       "ec1            0.2042      0.107      1.902      0.057      -0.006       0.415\n",
       "                 Loading coefficients (alpha) for equation y2                 \n",
       "==============================================================================\n",
       "                 coef    std err          z      P>|z|      [0.025      0.975]\n",
       "------------------------------------------------------------------------------\n",
       "ec1            0.2661      0.079      3.381      0.001       0.112       0.420\n",
       "          Cointegration relations for loading-coefficients-column 1           \n",
       "==============================================================================\n",
       "                 coef    std err          z      P>|z|      [0.025      0.975]\n",
       "------------------------------------------------------------------------------\n",
       "beta.1         1.0000          0          0      0.000       1.000       1.000\n",
       "beta.2        -1.4481      0.080    -18.141      0.000      -1.605      -1.292\n",
       "==============================================================================\n",
       "\"\"\""
      ]
     },
     "execution_count": 6,
     "metadata": {},
     "output_type": "execute_result"
    }
   ],
   "source": [
    "results1.summary()"
   ]
  },
  {
   "cell_type": "code",
   "execution_count": null,
   "metadata": {},
   "outputs": [],
   "source": []
  }
 ],
 "metadata": {
  "kernelspec": {
   "display_name": "Python 3 (ipykernel)",
   "language": "python",
   "name": "python3"
  },
  "language_info": {
   "codemirror_mode": {
    "name": "ipython",
    "version": 3
   },
   "file_extension": ".py",
   "mimetype": "text/x-python",
   "name": "python",
   "nbconvert_exporter": "python",
   "pygments_lexer": "ipython3",
   "version": "3.9.9"
  }
 },
 "nbformat": 4,
 "nbformat_minor": 2
}
