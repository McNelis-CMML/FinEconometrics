{
 "cells": [
  {
   "cell_type": "markdown",
   "metadata": {},
   "source": [
    "$\\textbf{Empirical Exercise-Week 3}$  Page 189, Problem 4.27\n",
    "Let's look at a similar example from your book, related wages to experience in the work force, as well as to gender and racial differences.  It is a larger data set with the same variables.  We are asked to compare regression coefficients for four different groups baased on gender and racial categories.  It is, de facto, an empirical investigation of work-force discrimination. \n",
    "\n",
    "You are free to use the LeSage toolbox or the Matlab built-in regress function.\n"
   ]
  },
  {
   "cell_type": "code",
   "execution_count": 11,
   "metadata": {},
   "outputs": [
    {
     "name": "stdout",
     "output_type": "stream",
     "text": [
      "\n",
      "ans =\n",
      "\n",
      "  23x1 cell array\n",
      "\n",
      "    {'age'      }\n",
      "    {'asian'    }\n",
      "    {'black'    }\n",
      "    {'divorced' }\n",
      "    {'educ'     }\n",
      "    {'exper'    }\n",
      "    {'faminc'   }\n",
      "    {'female'   }\n",
      "    {'hrswork'  }\n",
      "    {'insure'   }\n",
      "    {'married'  }\n",
      "    {'mcaid'    }\n",
      "    {'mcare'    }\n",
      "    {'metro'    }\n",
      "    {'midwest'  }\n",
      "    {'nchild'   }\n",
      "    {'northeast'}\n",
      "    {'single'   }\n",
      "    {'south'    }\n",
      "    {'union'    }\n",
      "    {'wage'     }\n",
      "    {'west'     }\n",
      "    {'white'    }\n",
      "\n",
      "\n"
     ]
    }
   ],
   "source": [
    "clear all;\n",
    "clear all\n",
    "Tab1 = readtable('cps5.csv');\n",
    "Names = Tab1.Properties.VariableNames;\n",
    "Names'"
   ]
  },
  {
   "cell_type": "code",
   "execution_count": 12,
   "metadata": {},
   "outputs": [
    {
     "name": "stdout",
     "output_type": "stream",
     "text": [
      "\n",
      "Your variables are:\n",
      "\n",
      "Aframer  Asian    Names    Tab1     ans      educ     exper    female   single   wage     white    \n",
      "\n",
      "\n"
     ]
    }
   ],
   "source": [
    "Asian = Tab1(:,2); Aframer = Tab1(:,3); exper = Tab1(:,6); female = Tab1(:,8); \n",
    "wage = Tab1(:,21); white = Tab1(:,23);  educ = Tab1(:,5);  \n",
    "single = Tab1(:,18);\n",
    "who"
   ]
  },
  {
   "cell_type": "code",
   "execution_count": 13,
   "metadata": {},
   "outputs": [
    {
     "name": "stdout",
     "output_type": "stream",
     "text": [
      "\n"
     ]
    }
   ],
   "source": [
    "Asian1 = table2array(Asian); \n",
    "Aframer1= table2array(Aframer); exper1 = table2array(exper); female1 = table2array(female);\n",
    "wage1 = table2array(wage); white1 = table2array(white);  educ1 = table2array(educ);\n",
    "single1 = table2array(single);\n"
   ]
  },
  {
   "cell_type": "markdown",
   "metadata": {},
   "source": [
    "Now lets do a dummy variable approach related wage to experience but with indicators for various groups."
   ]
  },
  {
   "cell_type": "code",
   "execution_count": 15,
   "metadata": {},
   "outputs": [
    {
     "name": "stdout",
     "output_type": "stream",
     "text": [
      "\n",
      "ans =\n",
      "\n",
      "  -13.0963  -15.2873  -10.9053\n",
      "    0.1488    0.1242    0.1733\n",
      "    2.5644    2.4594    2.6694\n",
      "   -0.5618   -1.8388    0.7152\n",
      "   -2.7741   -4.3372   -1.2111\n",
      "   -3.9533   -4.5225   -3.3841\n",
      "   -2.9436   -3.6561   -2.2310\n",
      "\n",
      "\n",
      "STATS =\n",
      "\n",
      "    0.2192  458.2397         0  201.8304\n",
      "\n",
      "\n"
     ]
    }
   ],
   "source": [
    "y = (wage1); \n",
    "x = [ones(length(y),1) exper1 educ1 white1 Aframer1 female1 single1];\n",
    "[Bols Bint Resid Res1 STATS]  = regress(y,x);\n",
    "[Bols Bint]\n",
    "STATS"
   ]
  },
  {
   "cell_type": "markdown",
   "metadata": {},
   "source": [
    "We extract from the data set subsets of data by gender and race (African American and white)."
   ]
  },
  {
   "cell_type": "code",
   "execution_count": 16,
   "metadata": {},
   "outputs": [
    {
     "name": "stdout",
     "output_type": "stream",
     "text": [
      "\n"
     ]
    }
   ],
   "source": [
    "Data1 = [wage1 ones(9799,1) exper1];\n",
    "\n",
    "WhiteMale = female1(:,1)==0 & white1(:,1)==1;\n",
    "AframerMale = Aframer1(:,1) == 1 & female1(:,1)==0;\n",
    "WhiteFemale =  female1(:,1)==1 & white1(:,1)== 1;\n",
    "AframerFemale = Aframer1(:,1) == 1 & female1(:,1)== 1;"
   ]
  },
  {
   "cell_type": "code",
   "execution_count": 17,
   "metadata": {},
   "outputs": [
    {
     "name": "stdout",
     "output_type": "stream",
     "text": [
      "\n"
     ]
    }
   ],
   "source": [
    "Data_WhiteMale = Data1(WhiteMale,:);\n",
    "Data_AframerMale = Data1(AframerMale,:);\n",
    "Data_WhiteFemale = Data1(WhiteFemale,:);\n",
    "Data_AframerFemale = Data1(AframerFemale,:);"
   ]
  },
  {
   "cell_type": "code",
   "execution_count": 18,
   "metadata": {},
   "outputs": [
    {
     "name": "stdout",
     "output_type": "stream",
     "text": [
      "\n"
     ]
    }
   ],
   "source": [
    "CV_WhiteMale =  100 * std(Data_WhiteMale(:,1))/mean(Data_WhiteMale(:,1));\n",
    "CV_AframerMale =  100 * std(Data_AframerMale(:,1))/mean(Data_AframerMale(:,1));\n",
    "CV_WhiteFemale =  100 * std(Data_WhiteFemale(:,1))/mean(Data_WhiteFemale(:,1));\n",
    "CV_AframerFemale =  100 * std(Data_AframerFemale(:,1))/mean(Data_AframerFemale(:,1));"
   ]
  },
  {
   "cell_type": "code",
   "execution_count": 19,
   "metadata": {},
   "outputs": [
    {
     "name": "stdout",
     "output_type": "stream",
     "text": [
      "\n",
      "ans =\n",
      "\n",
      "   61.0780   56.6434   79.8826   68.7235\n",
      "\n",
      "\n"
     ]
    }
   ],
   "source": [
    "[CV_WhiteMale CV_AframerMale CV_WhiteFemale CV_AframerFemale]"
   ]
  },
  {
   "cell_type": "markdown",
   "metadata": {},
   "source": [
    "We see that white females have greater variation in their wages, then African American females, relative to their male counterparts."
   ]
  },
  {
   "cell_type": "markdown",
   "metadata": {},
   "source": [
    "Lets do a regression for each subset, of (wage) on a constant and experience."
   ]
  },
  {
   "cell_type": "code",
   "execution_count": 20,
   "metadata": {},
   "outputs": [
    {
     "name": "stdout",
     "output_type": "stream",
     "text": [
      "\n"
     ]
    }
   ],
   "source": [
    "yy_WhiteMale = (Data_WhiteMale(:,1)); xx_WhiteMale = Data_WhiteMale(:,2:end);\n",
    "yy_AframerMale = (Data_AframerMale(:,1)); xx_AframerMale = Data_AframerMale(:,2:end);\n",
    "yy_WhiteFemale = (Data_WhiteFemale(:,1)); xx_WhiteFemale = Data_WhiteFemale(:,2:end);\n",
    "yy_AframerFemale = (Data_AframerFemale(:,1)); \n",
    "xx_AframerFemale = Data_AframerFemale(:,2:end);\n"
   ]
  },
  {
   "cell_type": "code",
   "execution_count": 23,
   "metadata": {},
   "outputs": [
    {
     "name": "stdout",
     "output_type": "stream",
     "text": [
      "\n"
     ]
    }
   ],
   "source": [
    "[WhiteMale_B, WhiteMale_Bint] = regress(yy_WhiteMale, xx_WhiteMale);\n",
    "[WhiteFemale_B, WhiteFemale_Bint] = regress(yy_WhiteFemale, xx_WhiteFemale);\n",
    "[AframerMale_B AframerMale_Bint] = regress(yy_AframerMale, xx_AframerMale);\n",
    "[AframerFemale_B AframerFemale_Bint] = regress(yy_AframerFemale, xx_AframerFemale);"
   ]
  },
  {
   "cell_type": "markdown",
   "metadata": {},
   "source": [
    "Let's look at the confidence intervals for the experience coefficient for the four subsets"
   ]
  },
  {
   "cell_type": "code",
   "execution_count": 25,
   "metadata": {},
   "outputs": [
    {
     "name": "stdout",
     "output_type": "stream",
     "text": [
      "\n",
      "ans =\n",
      "\n",
      "    0.1260    0.1927\n",
      "    0.0108    0.0986\n",
      "    0.0226    0.1913\n",
      "   -0.0094    0.1852\n",
      "\n",
      "\n"
     ]
    }
   ],
   "source": [
    "[WhiteMale_Bint(2,:); WhiteFemale_Bint(2,:); AframerMale_Bint(2,:); ...\n",
    "AframerFemale_Bint(2,:)]"
   ]
  },
  {
   "cell_type": "markdown",
   "metadata": {},
   "source": [
    "You readily see that while male coefficient is always above that of White Females, but not always above that of African Amerians, both males and females."
   ]
  },
  {
   "cell_type": "code",
   "execution_count": 97,
   "metadata": {},
   "outputs": [
    {
     "name": "stdout",
     "output_type": "stream",
     "text": [
      "\n"
     ]
    }
   ],
   "source": [
    "save Exercise_Week3"
   ]
  },
  {
   "cell_type": "code",
   "execution_count": null,
   "metadata": {},
   "outputs": [],
   "source": []
  }
 ],
 "metadata": {
  "kernelspec": {
   "display_name": "Matlab",
   "language": "matlab",
   "name": "matlab"
  },
  "language_info": {
   "codemirror_mode": "octave",
   "file_extension": ".m",
   "help_links": [
    {
     "text": "MetaKernel Magics",
     "url": "https://metakernel.readthedocs.io/en/latest/source/README.html"
    }
   ],
   "mimetype": "text/x-octave",
   "name": "matlab",
   "version": "0.16.11"
  }
 },
 "nbformat": 4,
 "nbformat_minor": 2
}
