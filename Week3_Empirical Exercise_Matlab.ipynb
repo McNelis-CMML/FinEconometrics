{
 "cells": [
  {
   "cell_type": "markdown",
   "metadata": {},
   "source": [
    "$\\textbf{Empirical Exercise-Week 3}$  Page 189, Problem 4.27\n",
    "Let's look at a similar example from your book, related wages to experience in the work force, as well as to gender and racial differences.  It is a larger data set with the same variables.  We are asked to compare regression coefficients for four different groups baased on gender and racial categories.  It is, de facto, an empirical investigation of work-force discrimination. \n",
    "\n",
    "You are free to use the LeSage toolbox or the Matlab built-in regress function.\n"
   ]
  },
  {
   "cell_type": "code",
   "execution_count": 77,
   "metadata": {},
   "outputs": [
    {
     "name": "stdout",
     "output_type": "stream",
     "text": [
      "\n",
      "ans =\n",
      "\n",
      "  23x1 cell array\n",
      "\n",
      "    {'age'      }\n",
      "    {'asian'    }\n",
      "    {'black'    }\n",
      "    {'divorced' }\n",
      "    {'educ'     }\n",
      "    {'exper'    }\n",
      "    {'faminc'   }\n",
      "    {'female'   }\n",
      "    {'hrswork'  }\n",
      "    {'insure'   }\n",
      "    {'married'  }\n",
      "    {'mcaid'    }\n",
      "    {'mcare'    }\n",
      "    {'metro'    }\n",
      "    {'midwest'  }\n",
      "    {'nchild'   }\n",
      "    {'northeast'}\n",
      "    {'single'   }\n",
      "    {'south'    }\n",
      "    {'union'    }\n",
      "    {'wage'     }\n",
      "    {'west'     }\n",
      "    {'white'    }\n",
      "\n",
      "\n"
     ]
    }
   ],
   "source": [
    "clear all;\n",
    "addpath(genpath('c:\\LeSage7'));\n",
    "clear all\n",
    "Tab1 = readtable('cps5.csv');\n",
    "Names = Tab1.Properties.VariableNames;\n",
    "Names'"
   ]
  },
  {
   "cell_type": "code",
   "execution_count": 80,
   "metadata": {},
   "outputs": [
    {
     "name": "stdout",
     "output_type": "stream",
     "text": [
      "\n",
      "Your variables are:\n",
      "\n",
      "Aframer  Asian    Names    Tab1     ans      educ     exper    female   single   wage     white    \n",
      "\n",
      "\n"
     ]
    }
   ],
   "source": [
    "Asian = Tab1(:,2); Aframer = Tab1(:,3); exper = Tab1(:,6); female = Tab1(:,8); \n",
    "wage = Tab1(:,21); white = Tab1(:,23);  educ = Tab1(:,5);  \n",
    "single = Tab1(:,18);\n",
    "who"
   ]
  },
  {
   "cell_type": "code",
   "execution_count": 81,
   "metadata": {},
   "outputs": [
    {
     "name": "stdout",
     "output_type": "stream",
     "text": [
      "\n"
     ]
    }
   ],
   "source": [
    "Asian1 = table2array(Asian); \n",
    "Aframer1= table2array(Aframer); exper1 = table2array(exper); female1 = table2array(female);\n",
    "wage1 = table2array(wage); white1 = table2array(white);  educ1 = table2array(educ);\n",
    "single1 = table2array(single);\n"
   ]
  },
  {
   "cell_type": "markdown",
   "metadata": {},
   "source": [
    "Now lets do a dummy variable approach related wage to experience but with indicators for various groups."
   ]
  },
  {
   "cell_type": "code",
   "execution_count": 83,
   "metadata": {},
   "outputs": [
    {
     "name": "stdout",
     "output_type": "stream",
     "text": [
      "\n",
      "ans =\n",
      "\n",
      "  -13.0963  -15.2873  -10.9053\n",
      "    0.1488    0.1242    0.1733\n",
      "    2.5644    2.4594    2.6694\n",
      "   -0.5618   -1.8388    0.7152\n",
      "   -2.7741   -4.3372   -1.2111\n",
      "   -3.9533   -4.5225   -3.3841\n",
      "   -2.9436   -3.6561   -2.2310\n",
      "\n",
      "\n",
      "STATS =\n",
      "\n",
      "    0.2192  458.2397         0  201.8304\n",
      "\n",
      "\n"
     ]
    }
   ],
   "source": [
    "y = (wage1); \n",
    "x = [ones(length(y),1) exper1 educ1 white1 Aframer1 female1 single1];\n",
    "[Bols Bint Resid Res1 STATS]  = regress(y,x);\n",
    "[Bols Bint]\n",
    "STATS"
   ]
  },
  {
   "cell_type": "markdown",
   "metadata": {},
   "source": [
    "We extract from the data set subsets of data by gender and race (African American and white)."
   ]
  },
  {
   "cell_type": "code",
   "execution_count": 89,
   "metadata": {},
   "outputs": [
    {
     "name": "stdout",
     "output_type": "stream",
     "text": [
      "\n"
     ]
    }
   ],
   "source": [
    "Data1 = [wage1 ones(9799,1) exper1];\n",
    "\n",
    "WhiteMale = female1(:,1)==0 & white1(:,1)==1;\n",
    "AframerMale = Aframer1(:,1) == 1 & female1(:,1)==0;\n",
    "WhiteFemale =  female1(:,1)==1 & white1(:,1)== 1;\n",
    "AframerFemale = Aframer1(:,1) == 1 & female1(:,1)== 1;"
   ]
  },
  {
   "cell_type": "code",
   "execution_count": 90,
   "metadata": {},
   "outputs": [
    {
     "name": "stdout",
     "output_type": "stream",
     "text": [
      "\n"
     ]
    }
   ],
   "source": [
    "Data_WhiteMale = Data1(WhiteMale,:);\n",
    "Data_AframerMale = Data1(AframerMale,:);\n",
    "Data_WhiteFemale = Data1(WhiteFemale,:);\n",
    "Data_AframerFemale = Data1(AframerFemale,:);"
   ]
  },
  {
   "cell_type": "code",
   "execution_count": 91,
   "metadata": {},
   "outputs": [
    {
     "name": "stdout",
     "output_type": "stream",
     "text": [
      "\n"
     ]
    }
   ],
   "source": [
    "CV_WhiteMale =  100 * std(Data_WhiteMale(:,1))/mean(Data_WhiteMale(:,1));\n",
    "CV_AframerMale =  100 * std(Data_AframerMale(:,1))/mean(Data_AframerMale(:,1));\n",
    "CV_WhiteFemale =  100 * std(Data_WhiteFemale(:,1))/mean(Data_WhiteFemale(:,1));\n",
    "CV_AframerFemale =  100 * std(Data_AframerFemale(:,1))/mean(Data_AframerFemale(:,1));"
   ]
  },
  {
   "cell_type": "code",
   "execution_count": 10,
   "metadata": {},
   "outputs": [
    {
     "name": "stdout",
     "output_type": "stream",
     "text": [
      "\n",
      "ans =\n",
      "\n",
      "   61.0780   56.6434   79.8826   68.7235\n",
      "\n",
      "\n"
     ]
    }
   ],
   "source": [
    "[CV_WhiteMale CV_AframerMale CV_WhiteFemale CV_AframerFemale]"
   ]
  },
  {
   "cell_type": "markdown",
   "metadata": {},
   "source": [
    "We see that white females have greater variation in their wages, then African American females, relative to their male counterparts."
   ]
  },
  {
   "cell_type": "markdown",
   "metadata": {},
   "source": [
    "Lets do a regression for each subset, of (wage) on a constant and experience."
   ]
  },
  {
   "cell_type": "code",
   "execution_count": 92,
   "metadata": {},
   "outputs": [
    {
     "name": "stdout",
     "output_type": "stream",
     "text": [
      "\n"
     ]
    }
   ],
   "source": [
    "yy_WhiteMale = (Data_WhiteMale(:,1)); xx_WhiteMale = Data_WhiteMale(:,2:end);\n",
    "yy_AframerMale = (Data_AframerMale(:,1)); xx_AframerMale = Data_AframerMale(:,2:end);\n",
    "yy_WhiteFemale = (Data_WhiteFemale(:,1)); xx_WhiteFemale = Data_WhiteFemale(:,2:end);\n",
    "yy_AframerFemale = (Data_AframerFemale(:,1)); \n",
    "xx_AframerFemale = Data_AframerFemale(:,2:end);\n"
   ]
  },
  {
   "cell_type": "code",
   "execution_count": 93,
   "metadata": {},
   "outputs": [
    {
     "name": "stdout",
     "output_type": "stream",
     "text": [
      "\n"
     ]
    }
   ],
   "source": [
    "results_WhiteMale = ols(yy_WhiteMale, xx_WhiteMale);\n",
    "results_WhiteFemale = ols(yy_WhiteFemale, xx_WhiteFemale);\n",
    "results_AframerMale = ols(yy_AframerMale, xx_AframerMale);\n",
    "results_AframerFemale = ols(yy_AframerFemale, xx_AframerFemale);"
   ]
  },
  {
   "cell_type": "markdown",
   "metadata": {},
   "source": [
    "Let's look at the confidence intervals for the experience coefficient for the four subsets"
   ]
  },
  {
   "cell_type": "code",
   "execution_count": 95,
   "metadata": {},
   "outputs": [
    {
     "name": "stdout",
     "output_type": "stream",
     "text": [
      "\n",
      "ans =\n",
      "\n",
      "    0.1260    0.1927\n",
      "    0.0108    0.0986\n",
      "    0.0226    0.1913\n",
      "   -0.0094    0.1852\n",
      "\n",
      "\n"
     ]
    }
   ],
   "source": [
    "[results_WhiteMale.bint(2,:); results_WhiteFemale.bint(2,:); results_AframerMale.bint(2,:); ...\n",
    "results_AframerFemale.bint(2,:)]"
   ]
  },
  {
   "cell_type": "markdown",
   "metadata": {},
   "source": [
    "You readily see that while male coefficient is always above that of White Females, but not always above that of African Amerians, both males and females."
   ]
  },
  {
   "cell_type": "code",
   "execution_count": 96,
   "metadata": {},
   "outputs": [
    {
     "name": "stdout",
     "output_type": "stream",
     "text": [
      "\n",
      "ans =\n",
      "\n",
      "    0.0182\n",
      "    0.0016\n",
      "    0.0152\n",
      "    0.0067\n",
      "\n",
      "\n"
     ]
    }
   ],
   "source": [
    "[results_WhiteMale.rsqr; results_WhiteFemale.rsqr; results_AframerMale.rsqr; ...\n",
    "results_AframerFemale.rsqr]"
   ]
  },
  {
   "cell_type": "markdown",
   "metadata": {},
   "source": [
    "Above we see the overall goodness of fit. The highest  R2R2  measure is for the white males."
   ]
  },
  {
   "cell_type": "code",
   "execution_count": 97,
   "metadata": {},
   "outputs": [
    {
     "name": "stdout",
     "output_type": "stream",
     "text": [
      "\n"
     ]
    }
   ],
   "source": [
    "save Exercise_Week3"
   ]
  },
  {
   "cell_type": "code",
   "execution_count": 98,
   "metadata": {},
   "outputs": [
    {
     "name": "stdout",
     "output_type": "stream",
     "text": [
      "\n"
     ]
    }
   ],
   "source": [
    "Tab2 = readtable('newbroiler.csv');\n"
   ]
  },
  {
   "cell_type": "code",
   "execution_count": 99,
   "metadata": {},
   "outputs": [
    {
     "name": "stdout",
     "output_type": "stream",
     "text": [
      "\n",
      "ans =\n",
      "\n",
      "  10x1 cell array\n",
      "\n",
      "    {'year'  }\n",
      "    {'q'     }\n",
      "    {'y'     }\n",
      "    {'p'     }\n",
      "    {'pb'    }\n",
      "    {'pcorn' }\n",
      "    {'pf'    }\n",
      "    {'qprod' }\n",
      "    {'lexpts'}\n",
      "    {'popgro'}\n",
      "\n",
      "\n"
     ]
    }
   ],
   "source": [
    "Names = Tab2.Properties.VariableNames;\n",
    "Names'"
   ]
  },
  {
   "cell_type": "code",
   "execution_count": 29,
   "metadata": {},
   "outputs": [
    {
     "name": "stdout",
     "output_type": "stream",
     "text": [
      "\n"
     ]
    }
   ],
   "source": [
    "q = Tab2(:,2);  q = table2array(q);\n",
    "p = Tab2(:,4);  p = table2array(p);"
   ]
  },
  {
   "cell_type": "code",
   "execution_count": 30,
   "metadata": {},
   "outputs": [
    {
     "name": "stdout",
     "output_type": "stream",
     "text": [
      "\n"
     ]
    }
   ],
   "source": [
    "y = log(q);\n",
    "x = [ones(length(y),1), log(p)];"
   ]
  },
  {
   "cell_type": "code",
   "execution_count": 33,
   "metadata": {},
   "outputs": [
    {
     "name": "stdout",
     "output_type": "stream",
     "text": [
      "\n"
     ]
    }
   ],
   "source": [
    "[B,BINT,R,RINT,STATS] = regress(y,x);"
   ]
  },
  {
   "cell_type": "code",
   "execution_count": 34,
   "metadata": {},
   "outputs": [
    {
     "name": "stdout",
     "output_type": "stream",
     "text": [
      "\n",
      "ans =\n",
      "\n",
      "    3.7169    3.6720    3.7619\n",
      "   -1.1214   -1.2193   -1.0234\n",
      "\n",
      "\n"
     ]
    }
   ],
   "source": [
    "[B BINT]"
   ]
  },
  {
   "cell_type": "code",
   "execution_count": 35,
   "metadata": {},
   "outputs": [
    {
     "name": "stdout",
     "output_type": "stream",
     "text": [
      "\n",
      "STATS =\n",
      "\n",
      "    0.9136  528.9623    0.0000    0.0139\n",
      "\n",
      "\n"
     ]
    }
   ],
   "source": [
    "STATS\n"
   ]
  },
  {
   "cell_type": "code",
   "execution_count": 36,
   "metadata": {},
   "outputs": [
    {
     "name": "stdout",
     "output_type": "stream",
     "text": [
      " REGRESS Multiple linear regression using least squares.\n",
      "    B = REGRESS(Y,X) returns the vector B of regression coefficients in the\n",
      "    linear model Y = X*B.  X is an n-by-p design matrix, with rows\n",
      "    corresponding to observations and columns to predictor variables.  Y is\n",
      "    an n-by-1 vector of response observations.\n",
      " \n",
      "    [B,BINT] = REGRESS(Y,X) returns a matrix BINT of 95% confidence\n",
      "    intervals for B.\n",
      " \n",
      "    [B,BINT,R] = REGRESS(Y,X) returns a vector R of residuals.\n",
      " \n",
      "    [B,BINT,R,RINT] = REGRESS(Y,X) returns a matrix RINT of intervals that\n",
      "    can be used to diagnose outliers.  If RINT(i,:) does not contain zero,\n",
      "    then the i-th residual is larger than would be expected, at the 5%\n",
      "    significance level.  This is evidence that the I-th observation is an\n",
      "    outlier.\n",
      " \n",
      "    [B,BINT,R,RINT,STATS] = REGRESS(Y,X) returns a vector STATS containing, in\n",
      "    the following order, the R-square statistic, the F statistic and p value\n",
      "    for the full model, and an estimate of the error variance.\n",
      " \n",
      "    [...] = REGRESS(Y,X,ALPHA) uses a 100*(1-ALPHA)% confidence level to\n",
      "    compute BINT, and a (100*ALPHA)% significance level to compute RINT.\n",
      " \n",
      "    X should include a column of ones so that the model contains a constant\n",
      "    term.  The F statistic and p value are computed under the assumption\n",
      "    that the model contains a constant term, and they are not correct for\n",
      "    models without a constant.  The R-square value is one minus the ratio of\n",
      "    the error sum of squares to the total sum of squares.  This value can\n",
      "    be negative for models without a constant, which indicates that the\n",
      "    model is not appropriate for the data.\n",
      " \n",
      "    If columns of X are linearly dependent, REGRESS sets the maximum\n",
      "    possible number of elements of B to zero to obtain a \"basic solution\",\n",
      "    and returns zeros in elements of BINT corresponding to the zero\n",
      "    elements of B.\n",
      " \n",
      "    REGRESS treats NaNs in X or Y as missing values, and removes them.\n",
      " \n",
      "    See also LSCOV, POLYFIT, REGSTATS, ROBUSTFIT, STEPWISE.\n",
      "\n",
      "    Documentation for regress\n",
      "       doc regress\n",
      "\n",
      "    Folders named regress\n",
      "\n",
      "       LeSage7\\regress\n",
      "\n",
      "\n"
     ]
    }
   ],
   "source": [
    "help regress"
   ]
  },
  {
   "cell_type": "code",
   "execution_count": 37,
   "metadata": {},
   "outputs": [
    {
     "name": "stdout",
     "output_type": "stream",
     "text": [
      "\n"
     ]
    },
    {
     "data": {
      "image/png": "[encoded data removed]",
      "text/plain": [
       "<IPython.core.display.Image object>"
      ]
     },
     "metadata": {},
     "output_type": "display_data"
    }
   ],
   "source": [
    "plot(R)"
   ]
  },
  {
   "cell_type": "code",
   "execution_count": 38,
   "metadata": {},
   "outputs": [
    {
     "name": "stdout",
     "output_type": "stream",
     "text": [
      "\n"
     ]
    },
    {
     "data": {
      "image/png": "[encoded data removed]",
      "text/plain": [
       "<IPython.core.display.Image object>"
      ]
     },
     "metadata": {},
     "output_type": "display_data"
    }
   ],
   "source": [
    "histfit(R)"
   ]
  },
  {
   "cell_type": "code",
   "execution_count": 39,
   "metadata": {},
   "outputs": [
    {
     "name": "stdout",
     "output_type": "stream",
     "text": [
      "\n",
      "h =\n",
      "\n",
      "     0\n",
      "\n",
      "\n"
     ]
    }
   ],
   "source": [
    "h = jbtest(R)"
   ]
  },
  {
   "cell_type": "code",
   "execution_count": 40,
   "metadata": {},
   "outputs": [
    {
     "name": "stdout",
     "output_type": "stream",
     "text": [
      "\n"
     ]
    }
   ],
   "source": [
    "y = (q);\n",
    "x = [ones(length(y),1), (1./p)];\n",
    "[b bint r rint stats] = regress(y,x);"
   ]
  },
  {
   "cell_type": "code",
   "execution_count": 41,
   "metadata": {},
   "outputs": [
    {
     "name": "stdout",
     "output_type": "stream",
     "text": [
      "\n",
      "b =\n",
      "\n",
      "   -6.0244\n",
      "   48.3650\n",
      "\n",
      "\n"
     ]
    }
   ],
   "source": [
    "b"
   ]
  },
  {
   "cell_type": "code",
   "execution_count": 42,
   "metadata": {},
   "outputs": [
    {
     "name": "stdout",
     "output_type": "stream",
     "text": [
      "\n",
      "bint =\n",
      "\n",
      "  -10.1604   -1.8883\n",
      "   43.2207   53.5093\n",
      "\n",
      "\n"
     ]
    }
   ],
   "source": [
    "bint"
   ]
  },
  {
   "cell_type": "code",
   "execution_count": 43,
   "metadata": {},
   "outputs": [
    {
     "name": "stdout",
     "output_type": "stream",
     "text": [
      "\n",
      "stats =\n",
      "\n",
      "    0.8770  356.5985    0.0000   18.0192\n",
      "\n",
      "\n"
     ]
    }
   ],
   "source": [
    "stats\n"
   ]
  },
  {
   "cell_type": "code",
   "execution_count": 44,
   "metadata": {},
   "outputs": [
    {
     "name": "stdout",
     "output_type": "stream",
     "text": [
      "\n"
     ]
    },
    {
     "data": {
      "image/png": "[encoded data removed]",
      "text/plain": [
       "<IPython.core.display.Image object>"
      ]
     },
     "metadata": {},
     "output_type": "display_data"
    }
   ],
   "source": [
    "histfit(r)\n"
   ]
  },
  {
   "cell_type": "code",
   "execution_count": 45,
   "metadata": {},
   "outputs": [
    {
     "name": "stdout",
     "output_type": "stream",
     "text": [
      "\n",
      "hh =\n",
      "\n",
      "     0\n",
      "\n",
      "\n"
     ]
    }
   ],
   "source": [
    "hh = jbtest(r)"
   ]
  },
  {
   "cell_type": "markdown",
   "metadata": {},
   "source": [
    "Now lets look at the quantity produced as a function of the price of corn."
   ]
  },
  {
   "cell_type": "code",
   "execution_count": null,
   "metadata": {},
   "outputs": [],
   "source": []
  }
 ],
 "metadata": {
  "kernelspec": {
   "display_name": "Matlab",
   "language": "matlab",
   "name": "matlab"
  },
  "language_info": {
   "codemirror_mode": "octave",
   "file_extension": ".m",
   "help_links": [
    {
     "text": "MetaKernel Magics",
     "url": "https://metakernel.readthedocs.io/en/latest/source/README.html"
    }
   ],
   "mimetype": "text/x-octave",
   "name": "matlab",
   "version": "0.16.11"
  }
 },
 "nbformat": 4,
 "nbformat_minor": 2
}
