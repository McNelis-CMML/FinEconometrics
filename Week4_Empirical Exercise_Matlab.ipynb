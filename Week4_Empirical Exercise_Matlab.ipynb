{
 "cells": [
  {
   "cell_type": "markdown",
   "metadata": {},
   "source": [
    "$\\textbf{Empirical Exercise-Week 4}$  Page 245, Problem 5.28\n",
    "Let's look at an example about the auction market for art. "
   ]
  },
  {
   "cell_type": "code",
   "execution_count": 1,
   "metadata": {},
   "outputs": [
    {
     "name": "stdout",
     "output_type": "stream",
     "text": [
      "\n"
     ]
    }
   ],
   "source": [
    "clear all\n",
    "\n",
    "Tab1 = readtable('ashcan_small.csv');  sold = Tab1(:,1);  "
   ]
  },
  {
   "cell_type": "code",
   "execution_count": 2,
   "metadata": {},
   "outputs": [
    {
     "name": "stdout",
     "output_type": "stream",
     "text": [
      "\n",
      "ans =\n",
      "\n",
      "  1x10 table\n",
      "\n",
      "    sold    date_auctn    years_old    rhammer    inchsq    signed    creation    age    yob     drec\n",
      "    ____    __________    _________    _______    ______    ______    ________    ___    ____    ____\n",
      "\n",
      "     1        2008.8       104.75      0.17327    81.04       1         1904      39     1865     1  \n",
      "\n",
      "\n",
      "Your variables are:\n",
      "\n",
      "Tab1  ans   sold  \n",
      "\n",
      "\n"
     ]
    }
   ],
   "source": [
    "Tab1(1,:)\n",
    "who"
   ]
  },
  {
   "cell_type": "code",
   "execution_count": 3,
   "metadata": {},
   "outputs": [
    {
     "name": "stdout",
     "output_type": "stream",
     "text": [
      "\n"
     ]
    }
   ],
   "source": [
    " rhammer = Tab1(:,4);  inchsq = Tab1(:,5); yrsold = Tab1(:,3);  "
   ]
  },
  {
   "cell_type": "code",
   "execution_count": 4,
   "metadata": {},
   "outputs": [
    {
     "name": "stdout",
     "output_type": "stream",
     "text": [
      "\n"
     ]
    }
   ],
   "source": [
    "rhammer1 = table2array(rhammer); inchsq1 = table2array(inchsq); yrsold1 = table2array(yrsold); \n",
    "sold1 = table2array(sold);\n",
    "dummy = (sold1== 1); %  only use data for iterms which are sold\n",
    "rhammer2 = rhammer1(dummy,:); inchsq2 = inchsq1(dummy,:)/10; yrsold2 = yrsold1(dummy,:);"
   ]
  },
  {
   "cell_type": "code",
   "execution_count": 5,
   "metadata": {},
   "outputs": [
    {
     "name": "stdout",
     "output_type": "stream",
     "text": [
      "\n"
     ]
    }
   ],
   "source": [
    "y = log(rhammer2);  xxx = [ones(length(y),1) yrsold2 inchsq2];"
   ]
  },
  {
   "cell_type": "code",
   "execution_count": 6,
   "metadata": {},
   "outputs": [
    {
     "name": "stdout",
     "output_type": "stream",
     "text": [
      "\n",
      "BINT =\n",
      "\n",
      "   -1.1663    0.6762\n",
      "    0.0110    0.0322\n",
      "    0.0213    0.0321\n",
      "\n",
      "\n"
     ]
    }
   ],
   "source": [
    "[B, BINT, R, STATS]= regress(y,xxx);\n",
    "BINT"
   ]
  },
  {
   "cell_type": "markdown",
   "metadata": {},
   "source": [
    "Answer to question: how much paintings appreciate in one year, between 1.1% and 3.22% at the 95 percent level of confidence"
   ]
  },
  {
   "cell_type": "markdown",
   "metadata": {},
   "source": [
    "With a 95% confidence interval we can also say that an extra 10 square inches will appreciate a painting betweeh 2.13% and 3.21%. We can reject the null hypothesis that an extra 10 inches will appreciate a painting by 2% in favor of the one-sided alternative that the appreciation will be greater than 2%."
   ]
  },
  {
   "cell_type": "code",
   "execution_count": 7,
   "metadata": {},
   "outputs": [
    {
     "name": "stdout",
     "output_type": "stream",
     "text": [
      "\n"
     ]
    }
   ],
   "source": [
    "xxxx = [ones(length(y),1) yrsold2 inchsq2 inchsq2 .^2];   % Created quadratic term"
   ]
  },
  {
   "cell_type": "code",
   "execution_count": 8,
   "metadata": {},
   "outputs": [
    {
     "name": "stdout",
     "output_type": "stream",
     "text": [
      "\n",
      "BINT1 =\n",
      "\n",
      "   -1.8628   -0.0522\n",
      "    0.0128    0.0331\n",
      "    0.0459    0.0665\n",
      "   -0.0002   -0.0001\n",
      "\n",
      "\n"
     ]
    }
   ],
   "source": [
    "[B1 BINT1] = regress(y,xxxx);\n",
    "BINT1"
   ]
  },
  {
   "cell_type": "markdown",
   "metadata": {},
   "source": [
    "The addition of the quadratic term does not change the confidence interval for age."
   ]
  },
  {
   "cell_type": "code",
   "execution_count": 9,
   "metadata": {},
   "outputs": [
    {
     "name": "stdout",
     "output_type": "stream",
     "text": [
      "\n",
      "ans =\n",
      "\n",
      "   25.4062\n",
      "\n",
      "\n"
     ]
    }
   ],
   "source": [
    "median(inchsq2)"
   ]
  },
  {
   "cell_type": "markdown",
   "metadata": {},
   "source": [
    "Confidence interval for changing by 50, 250, 900 square inches"
   ]
  },
  {
   "cell_type": "code",
   "execution_count": 10,
   "metadata": {},
   "outputs": [
    {
     "name": "stdout",
     "output_type": "stream",
     "text": [
      "\n",
      "ans =\n",
      "\n",
      "    0.0641    0.1655\n",
      "    0.3206    0.8277\n",
      "    1.1543    2.9797\n",
      "\n",
      "\n"
     ]
    }
   ],
   "source": [
    "[BINT1(2,:)*5 ; BINT1(2,:)*25; BINT1(2,:)*90]"
   ]
  },
  {
   "cell_type": "markdown",
   "metadata": {},
   "source": [
    "Confidence interval for price-maximizing size of painting: $inchsq2^{*} = .5 * beta2/beta3$"
   ]
  },
  {
   "cell_type": "code",
   "execution_count": 11,
   "metadata": {},
   "outputs": [
    {
     "name": "stdout",
     "output_type": "stream",
     "text": [
      "\n",
      "ans =\n",
      "\n",
      "   94.8419  257.0542\n",
      "\n",
      "\n"
     ]
    }
   ],
   "source": [
    "-[.5*BINT1(3,1)/BINT1(4,1)  .5*BINT1(3,2)/BINT1(4,2)]"
   ]
  },
  {
   "cell_type": "markdown",
   "metadata": {},
   "source": [
    "Answer is the expected log price and the 95% confidence level. Remember that a negative log value is still a positive price."
   ]
  },
  {
   "cell_type": "code",
   "execution_count": 13,
   "metadata": {},
   "outputs": [
    {
     "name": "stdout",
     "output_type": "stream",
     "text": [
      "\n"
     ]
    }
   ],
   "source": [
    "save Exercise_Week4;  clear all"
   ]
  },
  {
   "cell_type": "code",
   "execution_count": null,
   "metadata": {},
   "outputs": [],
   "source": []
  }
 ],
 "metadata": {
  "kernelspec": {
   "display_name": "Matlab",
   "language": "matlab",
   "name": "matlab"
  },
  "language_info": {
   "codemirror_mode": "octave",
   "file_extension": ".m",
   "help_links": [
    {
     "text": "MetaKernel Magics",
     "url": "https://metakernel.readthedocs.io/en/latest/source/README.html"
    }
   ],
   "mimetype": "text/x-octave",
   "name": "matlab",
   "version": "0.16.11"
  }
 },
 "nbformat": 4,
 "nbformat_minor": 2
}
