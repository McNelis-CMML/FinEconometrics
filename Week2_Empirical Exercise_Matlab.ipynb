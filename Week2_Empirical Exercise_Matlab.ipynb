{
 "cells": [
  {
   "cell_type": "markdown",
   "metadata": {},
   "source": [
    "$\\textbf{Empirical Exercise-Week 2}$  Page 141, Problem 3.26\n",
    "Lets look at the example from your book, related wages to experience in the world force."
   ]
  },
  {
   "cell_type": "code",
   "execution_count": 5,
   "metadata": {},
   "outputs": [
    {
     "name": "stdout",
     "output_type": "stream",
     "text": [
      "\n",
      "ans =\n",
      "\n",
      "  1x10 table\n",
      "\n",
      "    black    educ    exper    faminc    female    metro    midwest    south    wage     west\n",
      "    _____    ____    _____    ______    ______    _____    _______    _____    _____    ____\n",
      "\n",
      "      0       13      45        0         1         1         0         0      44.44     1  \n",
      "\n",
      "\n"
     ]
    }
   ],
   "source": [
    "Tab1 = readtable('cps5_small.csv');\n",
    "size(Tab1);\n",
    "Tab1(1,:)"
   ]
  },
  {
   "cell_type": "code",
   "execution_count": 6,
   "metadata": {},
   "outputs": [
    {
     "name": "stdout",
     "output_type": "stream",
     "text": [
      "\n"
     ]
    }
   ],
   "source": [
    "wage = Tab1(:,9); exper = Tab1(:,3); metro = Tab1(:,6);\n",
    "educ = Tab1(:,2);\n",
    "wage1 = table2array(wage); exper1 = table2array(exper);\n",
    "educ1 = table2array(educ);\n",
    "metro1 = table2array(metro);\n",
    "\n"
   ]
  },
  {
   "cell_type": "code",
   "execution_count": 7,
   "metadata": {},
   "outputs": [
    {
     "name": "stdout",
     "output_type": "stream",
     "text": [
      "\n"
     ]
    }
   ],
   "source": [
    "yy = wage1; xx = [ones(1200,1) exper1];   % create regression variabels;\n",
    "[B,BINT,R,RINT,STATS] = regress(yy,xx);   "
   ]
  },
  {
   "cell_type": "code",
   "execution_count": 8,
   "metadata": {},
   "outputs": [
    {
     "name": "stdout",
     "output_type": "stream",
     "text": [
      "\n",
      "ans =\n",
      "\n",
      "   21.6231   19.8811   23.3651\n",
      "    0.0863    0.0215    0.1511\n",
      "\n",
      "\n"
     ]
    }
   ],
   "source": [
    "[B BINT]"
   ]
  },
  {
   "cell_type": "code",
   "execution_count": 9,
   "metadata": {},
   "outputs": [
    {
     "name": "stdout",
     "output_type": "stream",
     "text": [
      "\n"
     ]
    },
    {
     "data": {
      "image/png": "[encoded data removed]",
      "text/plain": [
       "<IPython.core.display.Image object>"
      ]
     },
     "metadata": {},
     "output_type": "display_data"
    }
   ],
   "source": [
    "histfit(R)"
   ]
  },
  {
   "cell_type": "code",
   "execution_count": 11,
   "metadata": {},
   "outputs": [
    {
     "name": "stdout",
     "output_type": "stream",
     "text": [
      "\n",
      "ans =\n",
      "\n",
      "    1.0000    0.0010\n",
      "\n",
      "\n"
     ]
    }
   ],
   "source": [
    "[h, pval] = jbtest(R); warning off;\n",
    "[h, pval]\n"
   ]
  },
  {
   "cell_type": "markdown",
   "metadata": {},
   "source": [
    "T stat for the coefficient is 2.61. We have 1200 observations and 2 regressors, so we have 1198 degress of freedom. We are asked to do a one-tailed test of significance."
   ]
  },
  {
   "cell_type": "code",
   "execution_count": 34,
   "metadata": {},
   "outputs": [
    {
     "name": "stdout",
     "output_type": "stream",
     "text": [
      " TCDF   Student's T cumulative distribution function (cdf).\n",
      "    P = TCDF(X,V) computes the cdf for Student's T distribution\n",
      "    with V degrees of freedom, at the values in X.\n",
      " \n",
      "    The size of P is the common size of X and V. A scalar input\n",
      "    functions as a constant matrix of the same size as the other input.\n",
      " \n",
      "    P = TCDF(X,V,'upper') computes the upper tail probability of the\n",
      "    Student's T distribution with V degrees of freedom, at the values in X.\n",
      " \n",
      "    See also TINV, TPDF, TRND, TSTAT, CDF.\n",
      "\n",
      "    Documentation for tcdf\n",
      "       doc tcdf\n",
      "\n",
      "    Other functions named tcdf\n",
      "\n",
      "       gpuArray/tcdf\n",
      "\n",
      "\n"
     ]
    }
   ],
   "source": [
    "help tcdf  %  Evaluate the p-value for the reported t-stat, 2.61, at 1198 degrees of freedom"
   ]
  },
  {
   "cell_type": "markdown",
   "metadata": {},
   "source": [
    "So at a one-tailed 5 percent test, we can reject the null hypothesis that the coefficeint of experience is zero. Next question: extract the data for metro1==1, do a regression for the folks living in a metro area. It is easy, see below.  We put the dummy for the metro1 in the first column, then create an indicator WhichRow for Metro1 == 1, then extract the rows and columns 2 to end from the Data matrix. "
   ]
  },
  {
   "cell_type": "code",
   "execution_count": 12,
   "metadata": {},
   "outputs": [
    {
     "name": "stdout",
     "output_type": "stream",
     "text": [
      "\n"
     ]
    }
   ],
   "source": [
    "Data = [metro1 yy xx(:,1:2)];  % Combine data set with metro1 and the y and x variables\n",
    "WhichRow = Data(:,1)==1;   % Find indicator for metro1 = 1;\n",
    "Data1 = Data(WhichRow,2:end);   % Extrat the data for metro1 == 1;\n",
    "yyy = Data1(:,1); xxx = Data1(:,2:end);\n",
    "[B1,BINT1,R1,RINT1,STATS1] = regress(yyy,xxx);\n",
    "\n"
   ]
  },
  {
   "cell_type": "code",
   "execution_count": 15,
   "metadata": {},
   "outputs": [
    {
     "name": "stdout",
     "output_type": "stream",
     "text": [
      "\n",
      "ans =\n",
      "\n",
      "   21.8886   19.8882   23.8891\n",
      "    0.1128    0.0374    0.1882\n",
      "\n",
      "\n"
     ]
    }
   ],
   "source": [
    "[B1,BINT1]"
   ]
  },
  {
   "cell_type": "code",
   "execution_count": 16,
   "metadata": {},
   "outputs": [
    {
     "name": "stdout",
     "output_type": "stream",
     "text": [
      "\n",
      "Your variables are:\n",
      "\n",
      "B         BINT      Data      R         RINT      STATS     Tab1      ans       educ1     exper1    metro     pval      wage1     xxx       yyy       \n",
      "B1        BINT1     Data1     R1        RINT1     STATS1    WhichRow  educ      exper     h         metro1    wage      xx        yy        \n",
      "\n",
      "\n"
     ]
    }
   ],
   "source": [
    "who"
   ]
  },
  {
   "cell_type": "code",
   "execution_count": 17,
   "metadata": {},
   "outputs": [
    {
     "name": "stdout",
     "output_type": "stream",
     "text": [
      "\n"
     ]
    }
   ],
   "source": [
    "xx1 = [xx educ1];"
   ]
  },
  {
   "cell_type": "markdown",
   "metadata": {},
   "source": [
    "We see that living in a metro area, experience has a strong effect that the total sample. How about the non-metro area?"
   ]
  },
  {
   "cell_type": "code",
   "execution_count": 18,
   "metadata": {},
   "outputs": [
    {
     "name": "stdout",
     "output_type": "stream",
     "text": [
      "\n"
     ]
    }
   ],
   "source": [
    "Data = [metro1 yy xx(:,1:2)];  % Combine data set with metro1 and the y and x variables\n",
    "WhichRow = Data(:,1)==0;   % Find indicator for metro1 = 1;\n",
    "Data1 = Data(WhichRow,2:end);   % Extrat the data for metro1 == 0;\n",
    "yyyy = Data1(:,1); xxxx = Data1(:,2:end);\n",
    "[B2,BINT2,R2,RINT2,STATS2] = regress(yyyy,xxxx);"
   ]
  },
  {
   "cell_type": "code",
   "execution_count": 20,
   "metadata": {},
   "outputs": [
    {
     "name": "stdout",
     "output_type": "stream",
     "text": [
      "\n",
      "ans =\n",
      "\n",
      "   19.4103   16.4775   22.3431\n",
      "    0.0132   -0.0901    0.1165\n",
      "\n",
      "\n"
     ]
    }
   ],
   "source": [
    "[B2,BINT2]\n",
    "save Week2_results"
   ]
  },
  {
   "cell_type": "markdown",
   "metadata": {},
   "source": [
    "We see that living in a non-metro area means that experience has a much lower effect on wage and the effect is not statistically different from zero. So experience matters a lot more in metro areas than non-metro areas."
   ]
  },
  {
   "cell_type": "code",
   "execution_count": null,
   "metadata": {},
   "outputs": [],
   "source": []
  }
 ],
 "metadata": {
  "kernelspec": {
   "display_name": "Matlab",
   "language": "matlab",
   "name": "matlab"
  },
  "language_info": {
   "codemirror_mode": "octave",
   "file_extension": ".m",
   "help_links": [
    {
     "text": "MetaKernel Magics",
     "url": "https://metakernel.readthedocs.io/en/latest/source/README.html"
    }
   ],
   "mimetype": "text/x-octave",
   "name": "matlab",
   "version": "0.16.11"
  }
 },
 "nbformat": 4,
 "nbformat_minor": 2
}
