{
 "cells": [
  {
   "cell_type": "markdown",
   "metadata": {},
   "source": [
    "$\\textbf{Empirical Exercise-Week 2}$  Page 141, Problem 3.26\n",
    "Lets look at the example from your book, related wages to experience in the world force."
   ]
  },
  {
   "cell_type": "code",
   "execution_count": 13,
   "metadata": {},
   "outputs": [
    {
     "name": "stdout",
     "output_type": "stream",
     "text": [
      "\n"
     ]
    }
   ],
   "source": [
    "clear all\n",
    "addpath(genpath('c:\\LeSage7'));\n",
    "Tab1 = readtable('cps5_small.csv');"
   ]
  },
  {
   "cell_type": "code",
   "execution_count": 14,
   "metadata": {},
   "outputs": [
    {
     "name": "stdout",
     "output_type": "stream",
     "text": [
      "\n",
      "ans =\n",
      "\n",
      "        1200          10\n",
      "\n",
      "\n",
      "ans =\n",
      "\n",
      "  1x10 table\n",
      "\n",
      "    black    educ    exper    faminc    female    metro    midwest    south    wage     west\n",
      "    _____    ____    _____    ______    ______    _____    _______    _____    _____    ____\n",
      "\n",
      "      0       13      45        0         1         1         0         0      44.44     1  \n",
      "\n",
      "\n"
     ]
    }
   ],
   "source": [
    "size(Tab1)\n",
    "Tab1(1,:)"
   ]
  },
  {
   "cell_type": "code",
   "execution_count": 31,
   "metadata": {},
   "outputs": [
    {
     "name": "stdout",
     "output_type": "stream",
     "text": [
      "\n"
     ]
    }
   ],
   "source": [
    "wage = Tab1(:,9); exper = Tab1(:,3); metro = Tab1(:,6);\n",
    "educ = Tab1(:,2);\n",
    "wage1 = table2array(wage); exper1 = table2array(exper);\n",
    "educ1 = table2array(educ);\n",
    "metro1 = table2array(metro);\n",
    "addpath(genpath('c:\\LeSage7'));\n"
   ]
  },
  {
   "cell_type": "code",
   "execution_count": 17,
   "metadata": {},
   "outputs": [
    {
     "name": "stdout",
     "output_type": "stream",
     "text": [
      "\n"
     ]
    }
   ],
   "source": [
    "yy = wage1; xx = [ones(1200,1) exper1];   % create regression variabels;\n",
    "result1 = ols(yy,xx);   "
   ]
  },
  {
   "cell_type": "code",
   "execution_count": 18,
   "metadata": {},
   "outputs": [
    {
     "name": "stdout",
     "output_type": "stream",
     "text": [
      "\n",
      "result11 = \n",
      "\n",
      "  struct with fields:\n",
      "\n",
      "     meth: 'ols'\n",
      "        y: [1200x1 double]\n",
      "     nobs: 1200\n",
      "     nvar: 3\n",
      "     beta: [3x1 double]\n",
      "     yhat: [1200x1 double]\n",
      "    resid: [1200x1 double]\n",
      "     sige: 227.0609\n",
      "     bstd: [3x1 double]\n",
      "     bint: [3x2 double]\n",
      "    tstat: [3x1 double]\n",
      "     rsqr: 0.0210\n",
      "     rbar: 0.0194\n",
      "       dw: 1.9807\n",
      "\n",
      "\n"
     ]
    }
   ],
   "source": [
    "yy = wage1; xx = [ones(1200,1) exper1 metro1];   % create regression variabels;\n",
    "result11 = ols(yy,xx)"
   ]
  },
  {
   "cell_type": "code",
   "execution_count": 19,
   "metadata": {},
   "outputs": [
    {
     "name": "stdout",
     "output_type": "stream",
     "text": [
      "\n",
      "ans =\n",
      "\n",
      "   17.3891   13.2090\n",
      "    0.0942    2.8680\n",
      "    4.9279    4.3299\n",
      "\n",
      "\n"
     ]
    }
   ],
   "source": [
    "[result11.beta result11.tstat]"
   ]
  },
  {
   "cell_type": "code",
   "execution_count": 10,
   "metadata": {},
   "outputs": [
    {
     "name": "stdout",
     "output_type": "stream",
     "text": [
      "\n",
      "result11 = \n",
      "\n",
      "  struct with fields:\n",
      "\n",
      "     meth: 'ols'\n",
      "        y: [1200x1 double]\n",
      "     nobs: 1200\n",
      "     nvar: 3\n",
      "     beta: [3x1 double]\n",
      "     yhat: [1200x1 double]\n",
      "    resid: [1200x1 double]\n",
      "     sige: 227.0609\n",
      "     bstd: [3x1 double]\n",
      "     bint: [3x2 double]\n",
      "    tstat: [3x1 double]\n",
      "     rsqr: 0.0210\n",
      "     rbar: 0.0194\n",
      "       dw: 1.9807\n",
      "\n",
      "\n"
     ]
    }
   ],
   "source": [
    "result11"
   ]
  },
  {
   "cell_type": "code",
   "execution_count": 20,
   "metadata": {},
   "outputs": [
    {
     "name": "stdout",
     "output_type": "stream",
     "text": [
      "\n"
     ]
    },
    {
     "data": {
      "image/png": "[encoded data removed]",
      "text/plain": [
       "<IPython.core.display.Image object>"
      ]
     },
     "metadata": {},
     "output_type": "display_data"
    }
   ],
   "source": [
    "resid11 = result11.resid;\n",
    "histfit(resid11)"
   ]
  },
  {
   "cell_type": "code",
   "execution_count": 21,
   "metadata": {},
   "outputs": [
    {
     "name": "stdout",
     "output_type": "stream",
     "text": [
      "Warning: P is less than the smallest tabulated value, returning 0.001.\n",
      "> In jbtest (line 136)\n",
      "\n",
      "ans =\n",
      "\n",
      "    1.0000    0.0010\n",
      "\n",
      "\n"
     ]
    }
   ],
   "source": [
    "[h, pval] = jbtest(resid11); warning off;\n",
    "[h, pval]\n"
   ]
  },
  {
   "cell_type": "markdown",
   "metadata": {},
   "source": [
    "T stat for the coefficient is 2.61. We have 1200 observations and 2 regressors, so we have 1198 degress of freedom. We are asked to do a one-tailed test of significance."
   ]
  },
  {
   "cell_type": "code",
   "execution_count": 34,
   "metadata": {},
   "outputs": [
    {
     "name": "stdout",
     "output_type": "stream",
     "text": [
      " TCDF   Student's T cumulative distribution function (cdf).\n",
      "    P = TCDF(X,V) computes the cdf for Student's T distribution\n",
      "    with V degrees of freedom, at the values in X.\n",
      " \n",
      "    The size of P is the common size of X and V. A scalar input\n",
      "    functions as a constant matrix of the same size as the other input.\n",
      " \n",
      "    P = TCDF(X,V,'upper') computes the upper tail probability of the\n",
      "    Student's T distribution with V degrees of freedom, at the values in X.\n",
      " \n",
      "    See also TINV, TPDF, TRND, TSTAT, CDF.\n",
      "\n",
      "    Documentation for tcdf\n",
      "       doc tcdf\n",
      "\n",
      "    Other functions named tcdf\n",
      "\n",
      "       gpuArray/tcdf\n",
      "\n",
      "\n"
     ]
    }
   ],
   "source": [
    "help tcdf  %  Evaluate the p-value for the reported t-stat, 2.61, at 1198 degrees of freedom"
   ]
  },
  {
   "cell_type": "code",
   "execution_count": 35,
   "metadata": {},
   "outputs": [
    {
     "name": "stdout",
     "output_type": "stream",
     "text": [
      "\n"
     ]
    }
   ],
   "source": [
    "pval1 = tcdf(result11.tstat, 1198);"
   ]
  },
  {
   "cell_type": "code",
   "execution_count": 10,
   "metadata": {},
   "outputs": [
    {
     "name": "stdout",
     "output_type": "stream",
     "text": [
      "\n",
      "pval1 =\n",
      "\n",
      "    1.0000\n",
      "    0.9954\n",
      "\n",
      "\n"
     ]
    }
   ],
   "source": [
    "pval1"
   ]
  },
  {
   "cell_type": "markdown",
   "metadata": {},
   "source": [
    "The pval1 gives the area to the left of the distributon. We look at the area to the right, the probability that the null of zero is true even though we reject it.  "
   ]
  },
  {
   "cell_type": "code",
   "execution_count": 36,
   "metadata": {},
   "outputs": [
    {
     "name": "stdout",
     "output_type": "stream",
     "text": [
      "\n",
      "pval =\n",
      "\n",
      "    0.0021\n",
      "\n",
      "\n"
     ]
    }
   ],
   "source": [
    "pval = 1- pval1(2)"
   ]
  },
  {
   "cell_type": "markdown",
   "metadata": {},
   "source": [
    "So at a one-tailed 5 percent test, we can reject the null hypothesis that the coefficeint of experience is zero. Next question: extract the data for metro1==1, do a regression for the folks living in a metro area. It is easy, see below.  We put the dummy for the metro1 in the first column, then create an indicator WhichRow for Metro1 == 1, then extract the rows and columns 2 to end from the Data matrix. "
   ]
  },
  {
   "cell_type": "code",
   "execution_count": 41,
   "metadata": {},
   "outputs": [
    {
     "name": "stdout",
     "output_type": "stream",
     "text": [
      "\n"
     ]
    }
   ],
   "source": [
    "Data = [metro1 yy xx(:,1:2)];  % Combine data set with metro1 and the y and x variables\n",
    "WhichRow = Data(:,1)==1;   % Find indicator for metro1 = 1;\n",
    "Data1 = Data(WhichRow,2:end);   % Extrat the data for metro1 == 1;\n",
    "yyy = Data1(:,1); xxx = Data1(:,2:end);\n",
    "result2 = ols(yyy,xxx);\n",
    "\n"
   ]
  },
  {
   "cell_type": "code",
   "execution_count": 42,
   "metadata": {},
   "outputs": [
    {
     "name": "stdout",
     "output_type": "stream",
     "text": [
      "\n",
      "ans =\n",
      "\n",
      "   21.8886   21.4720\n",
      "    0.1128    2.9360\n",
      "\n",
      "\n"
     ]
    }
   ],
   "source": [
    "[result2.beta result2.tstat]"
   ]
  },
  {
   "cell_type": "code",
   "execution_count": 22,
   "metadata": {},
   "outputs": [
    {
     "name": "stdout",
     "output_type": "stream",
     "text": [
      "\n",
      "Your variables are:\n",
      "\n",
      "Tab1      ans       exper     exper1    h         metro     metro1    pval      resid11   result1   result11  wage      wage1     xx        yy        \n",
      "\n",
      "\n"
     ]
    }
   ],
   "source": [
    "who"
   ]
  },
  {
   "cell_type": "code",
   "execution_count": 24,
   "metadata": {},
   "outputs": [
    {
     "name": "stdout",
     "output_type": "stream",
     "text": [
      " REGRESS Multiple linear regression using least squares.\n",
      "    B = REGRESS(Y,X) returns the vector B of regression coefficients in the\n",
      "    linear model Y = X*B.  X is an n-by-p design matrix, with rows\n",
      "    corresponding to observations and columns to predictor variables.  Y is\n",
      "    an n-by-1 vector of response observations.\n",
      " \n",
      "    [B,BINT] = REGRESS(Y,X) returns a matrix BINT of 95% confidence\n",
      "    intervals for B.\n",
      " \n",
      "    [B,BINT,R] = REGRESS(Y,X) returns a vector R of residuals.\n",
      " \n",
      "    [B,BINT,R,RINT] = REGRESS(Y,X) returns a matrix RINT of intervals that\n",
      "    can be used to diagnose outliers.  If RINT(i,:) does not contain zero,\n",
      "    then the i-th residual is larger than would be expected, at the 5%\n",
      "    significance level.  This is evidence that the I-th observation is an\n",
      "    outlier.\n",
      " \n",
      "    [B,BINT,R,RINT,STATS] = REGRESS(Y,X) returns a vector STATS containing, in\n",
      "    the following order, the R-square statistic, the F statistic and p value\n",
      "    for the full model, and an estimate of the error variance.\n",
      " \n",
      "    [...] = REGRESS(Y,X,ALPHA) uses a 100*(1-ALPHA)% confidence level to\n",
      "    compute BINT, and a (100*ALPHA)% significance level to compute RINT.\n",
      " \n",
      "    X should include a column of ones so that the model contains a constant\n",
      "    term.  The F statistic and p value are computed under the assumption\n",
      "    that the model contains a constant term, and they are not correct for\n",
      "    models without a constant.  The R-square value is one minus the ratio of\n",
      "    the error sum of squares to the total sum of squares.  This value can\n",
      "    be negative for models without a constant, which indicates that the\n",
      "    model is not appropriate for the data.\n",
      " \n",
      "    If columns of X are linearly dependent, REGRESS sets the maximum\n",
      "    possible number of elements of B to zero to obtain a \"basic solution\",\n",
      "    and returns zeros in elements of BINT corresponding to the zero\n",
      "    elements of B.\n",
      " \n",
      "    REGRESS treats NaNs in X or Y as missing values, and removes them.\n",
      " \n",
      "    See also LSCOV, POLYFIT, REGSTATS, ROBUSTFIT, STEPWISE.\n",
      "\n",
      "    Documentation for regress\n",
      "       doc regress\n",
      "\n",
      "    Folders named regress\n",
      "\n",
      "       LeSage7\\regress\n",
      "\n",
      "\n"
     ]
    }
   ],
   "source": [
    "help regress;"
   ]
  },
  {
   "cell_type": "code",
   "execution_count": 33,
   "metadata": {},
   "outputs": [
    {
     "name": "stdout",
     "output_type": "stream",
     "text": [
      "\n"
     ]
    }
   ],
   "source": [
    "xx1 = [xx educ1];"
   ]
  },
  {
   "cell_type": "markdown",
   "metadata": {},
   "source": [
    "We see that living in a metro area, experience has a strong effect that the total sample. How about the non-metro area?"
   ]
  },
  {
   "cell_type": "code",
   "execution_count": 43,
   "metadata": {},
   "outputs": [
    {
     "name": "stdout",
     "output_type": "stream",
     "text": [
      "\n"
     ]
    }
   ],
   "source": [
    "Data = [metro1 yy xx(:,1:2)];  % Combine data set with metro1 and the y and x variables\n",
    "WhichRow = Data(:,1)==0;   % Find indicator for metro1 = 1;\n",
    "Data1 = Data(WhichRow,2:end);   % Extrat the data for metro1 == 0;\n",
    "yyyy = Data1(:,1); xxxx = Data1(:,2:end);\n",
    "result3 = ols(yyyy,xxxx);"
   ]
  },
  {
   "cell_type": "code",
   "execution_count": 44,
   "metadata": {},
   "outputs": [
    {
     "name": "stdout",
     "output_type": "stream",
     "text": [
      "\n",
      "ans =\n",
      "\n",
      "   19.4103   13.0462\n",
      "    0.0132    0.2522\n",
      "\n",
      "\n"
     ]
    }
   ],
   "source": [
    "[result3.beta result3.tstat]\n",
    "save Week2_results"
   ]
  },
  {
   "cell_type": "markdown",
   "metadata": {},
   "source": [
    "We see that living in a non-metro area means that experience has a much lower effect on wage and the effect is not statistically different from zero. So experience matters a lot more in metro areas than non-metro areas."
   ]
  },
  {
   "cell_type": "code",
   "execution_count": 34,
   "metadata": {},
   "outputs": [
    {
     "name": "stdout",
     "output_type": "stream",
     "text": [
      "\n"
     ]
    }
   ],
   "source": [
    "[B BINT R RINT STATS] = regress(yy,xx1);"
   ]
  },
  {
   "cell_type": "code",
   "execution_count": 35,
   "metadata": {},
   "outputs": [
    {
     "name": "stdout",
     "output_type": "stream",
     "text": [
      "\n",
      "ans =\n",
      "\n",
      "  -20.2204  -24.7536  -15.6872\n",
      "    0.2044    0.1466    0.2622\n",
      "    3.5272    1.5593    5.4952\n",
      "    2.5477    2.2819    2.8135\n",
      "\n",
      "\n"
     ]
    }
   ],
   "source": [
    "[B BINT]"
   ]
  },
  {
   "cell_type": "code",
   "execution_count": null,
   "metadata": {},
   "outputs": [],
   "source": []
  }
 ],
 "metadata": {
  "kernelspec": {
   "display_name": "Matlab",
   "language": "matlab",
   "name": "matlab"
  },
  "language_info": {
   "codemirror_mode": "octave",
   "file_extension": ".m",
   "help_links": [
    {
     "text": "MetaKernel Magics",
     "url": "https://metakernel.readthedocs.io/en/latest/source/README.html"
    }
   ],
   "mimetype": "text/x-octave",
   "name": "matlab",
   "version": "0.16.11"
  }
 },
 "nbformat": 4,
 "nbformat_minor": 2
}
