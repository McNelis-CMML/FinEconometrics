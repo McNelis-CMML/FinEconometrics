{
 "cells": [
  {
   "cell_type": "code",
   "execution_count": 1,
   "metadata": {},
   "outputs": [],
   "source": [
    "import pandas as pd\n",
    "import numpy as np\n",
    "import matplotlib.pyplot as plt\n",
    "import statsmodels.api as sm"
   ]
  },
  {
   "cell_type": "markdown",
   "metadata": {},
   "source": [
    "$\\textbf{Empirical Exercise-Week 3}$  Page 189, Problem 4.27\n",
    "Let's look at a similar example from your book, related wages to experience in the work force, as well as to gender and racial differences.  It is a larger data set with the same variables.  We are asked to compare regression coefficients for four different groups baased on gender and racial categories.  It is, de facto, an empirical investigation of work-force discrimination.  "
   ]
  },
  {
   "cell_type": "code",
   "execution_count": 2,
   "metadata": {},
   "outputs": [
    {
     "data": {
      "text/html": [
       "<div>\n",
       "<style scoped>\n",
       "    .dataframe tbody tr th:only-of-type {\n",
       "        vertical-align: middle;\n",
       "    }\n",
       "\n",
       "    .dataframe tbody tr th {\n",
       "        vertical-align: top;\n",
       "    }\n",
       "\n",
       "    .dataframe thead th {\n",
       "        text-align: right;\n",
       "    }\n",
       "</style>\n",
       "<table border=\"1\" class=\"dataframe\">\n",
       "  <thead>\n",
       "    <tr style=\"text-align: right;\">\n",
       "      <th></th>\n",
       "      <th>age</th>\n",
       "      <th>asian</th>\n",
       "      <th>black</th>\n",
       "      <th>divorced</th>\n",
       "      <th>educ</th>\n",
       "      <th>exper</th>\n",
       "      <th>faminc</th>\n",
       "      <th>female</th>\n",
       "      <th>hrswork</th>\n",
       "      <th>insure</th>\n",
       "      <th>...</th>\n",
       "      <th>metro</th>\n",
       "      <th>midwest</th>\n",
       "      <th>nchild</th>\n",
       "      <th>northeast</th>\n",
       "      <th>single</th>\n",
       "      <th>south</th>\n",
       "      <th>union</th>\n",
       "      <th>wage</th>\n",
       "      <th>west</th>\n",
       "      <th>white</th>\n",
       "    </tr>\n",
       "  </thead>\n",
       "  <tbody>\n",
       "    <tr>\n",
       "      <th>0</th>\n",
       "      <td>45</td>\n",
       "      <td>0</td>\n",
       "      <td>0</td>\n",
       "      <td>0</td>\n",
       "      <td>13</td>\n",
       "      <td>26</td>\n",
       "      <td>39200</td>\n",
       "      <td>1</td>\n",
       "      <td>38</td>\n",
       "      <td>1</td>\n",
       "      <td>...</td>\n",
       "      <td>0</td>\n",
       "      <td>0</td>\n",
       "      <td>0</td>\n",
       "      <td>1</td>\n",
       "      <td>0</td>\n",
       "      <td>0</td>\n",
       "      <td>1</td>\n",
       "      <td>14.38</td>\n",
       "      <td>0</td>\n",
       "      <td>1</td>\n",
       "    </tr>\n",
       "  </tbody>\n",
       "</table>\n",
       "<p>1 rows × 23 columns</p>\n",
       "</div>"
      ],
      "text/plain": [
       "   age  asian  black  divorced  educ  exper  faminc  female  hrswork  insure  \\\n",
       "0   45      0      0         0    13     26   39200       1       38       1   \n",
       "\n",
       "   ...  metro  midwest  nchild  northeast  single  south  union   wage  west  \\\n",
       "0  ...      0        0       0          1       0      0      1  14.38     0   \n",
       "\n",
       "   white  \n",
       "0      1  \n",
       "\n",
       "[1 rows x 23 columns]"
      ]
     },
     "execution_count": 2,
     "metadata": {},
     "output_type": "execute_result"
    }
   ],
   "source": [
    "Tab1 = pd.read_csv('cps5.csv');\n",
    "Tab1.head(1)"
   ]
  },
  {
   "cell_type": "code",
   "execution_count": 3,
   "metadata": {},
   "outputs": [],
   "source": [
    "Aframer = Tab1.iloc[:,2]; exper = Tab1.iloc[:,5]; female = Tab1.iloc[:,7]; edu = Tab1.iloc[:,4];\n",
    "wage = Tab1.iloc[:,20]; white = Tab1.iloc[:,22];"
   ]
  },
  {
   "cell_type": "code",
   "execution_count": 4,
   "metadata": {},
   "outputs": [],
   "source": [
    "Aframer1= np.array(Aframer); exper1 = np.array(exper); female1 = np.array(female);\n",
    "wage1 = np.array(wage); white1 = np.array(white);\n",
    "wage2 = np.log(wage1);\n"
   ]
  },
  {
   "cell_type": "markdown",
   "metadata": {},
   "source": [
    "We extract from the data set subsets of data by gender and race (African American and white)."
   ]
  },
  {
   "cell_type": "code",
   "execution_count": 5,
   "metadata": {},
   "outputs": [],
   "source": [
    "Data = np.hstack([wage1.reshape(-1,1), np.ones((9799,1)), exper1.reshape(-1,1)])\n",
    "WhiteMale = np.logical_and(female1==0 , white1==1)\n",
    "AframerMale = np.logical_and(Aframer1== 1 , female1==0)\n",
    "WhiteFemale =  np.logical_and(female1==1 , white1== 1)\n",
    "AframerFemale = np.logical_and(Aframer1== 1 , female1== 1)"
   ]
  },
  {
   "cell_type": "code",
   "execution_count": 6,
   "metadata": {},
   "outputs": [],
   "source": [
    "Data_WhiteMale = Data[WhiteMale,:];\n",
    "Data_AframerMale = Data[AframerMale,:];\n",
    "Data_WhiteFemale = Data[WhiteFemale,:];\n",
    "Data_AframerFemale = Data[AframerFemale,:];"
   ]
  },
  {
   "cell_type": "code",
   "execution_count": 7,
   "metadata": {},
   "outputs": [],
   "source": [
    "CV_WhiteMale =  100 * np.std(Data_WhiteMale[:,0],ddof=1)/np.mean(Data_WhiteMale[:,0]);\n",
    "CV_AframerMale =  100 * np.std(Data_AframerMale[:,0],ddof=1)/np.mean(Data_AframerMale[:,0]);\n",
    "CV_WhiteFemale =  100 * np.std(Data_WhiteFemale[:,0],ddof=1)/np.mean(Data_WhiteFemale[:,0]);\n",
    "CV_AframerFemale =  100 * np.std(Data_AframerFemale[:,0],ddof=1)/np.mean(Data_AframerFemale[:,0]);"
   ]
  },
  {
   "cell_type": "code",
   "execution_count": 8,
   "metadata": {},
   "outputs": [
    {
     "data": {
      "text/plain": [
       "[61.078005175743385, 56.643433405471995, 79.88263907959818, 68.7235291246936]"
      ]
     },
     "execution_count": 8,
     "metadata": {},
     "output_type": "execute_result"
    }
   ],
   "source": [
    "[CV_WhiteMale, CV_AframerMale, CV_WhiteFemale, CV_AframerFemale]"
   ]
  },
  {
   "cell_type": "markdown",
   "metadata": {},
   "source": [
    "We see that white females have greater variation in their wages, then African American females, relative to their male counterparts."
   ]
  },
  {
   "cell_type": "markdown",
   "metadata": {},
   "source": [
    "Lets do a regression for each subset, of log(wage) on a constant and experience."
   ]
  },
  {
   "cell_type": "code",
   "execution_count": 9,
   "metadata": {},
   "outputs": [],
   "source": [
    "yy_WhiteMale = np.log(Data_WhiteMale[:,0]); xx_WhiteMale = Data_WhiteMale[:,1:];\n",
    "yy_AframerMale = np.log(Data_AframerMale[:,0]); xx_AframerMale = Data_AframerMale[:,1:];\n",
    "yy_WhiteFemale = np.log(Data_WhiteFemale[:,0]); xx_WhiteFemale = Data_WhiteFemale[:,1:];\n",
    "yy_AframerFemale = np.log(Data_AframerFemale[:,0]); \n",
    "xx_AframerFemale = Data_AframerFemale[:,1:];\n"
   ]
  },
  {
   "cell_type": "code",
   "execution_count": 10,
   "metadata": {},
   "outputs": [],
   "source": [
    "results_WhiteMale = sm.OLS(yy_WhiteMale, xx_WhiteMale).fit()\n",
    "results_WhiteFemale = sm.OLS(yy_WhiteFemale, xx_WhiteFemale).fit()\n",
    "results_AframerMale = sm.OLS(yy_AframerMale, xx_AframerMale).fit()\n",
    "results_AframerFemale = sm.OLS(yy_AframerFemale, xx_AframerFemale).fit()"
   ]
  },
  {
   "cell_type": "markdown",
   "metadata": {},
   "source": [
    "Let's look at the confidence intervals for the experience coefficient for the four subsets"
   ]
  },
  {
   "cell_type": "code",
   "execution_count": 12,
   "metadata": {},
   "outputs": [
    {
     "data": {
      "text/plain": [
       "array([[0.00539516, 0.00787116],\n",
       "       [0.00219849, 0.00492729],\n",
       "       [0.00150336, 0.00898454],\n",
       "       [0.00062896, 0.00826427]])"
      ]
     },
     "execution_count": 12,
     "metadata": {},
     "output_type": "execute_result"
    }
   ],
   "source": [
    "np.array([results_WhiteMale.conf_int()[1,:], results_WhiteFemale.conf_int()[1,:], results_AframerMale.conf_int()[1,:],results_AframerFemale.conf_int()[1,:]])"
   ]
  },
  {
   "cell_type": "markdown",
   "metadata": {},
   "source": [
    "You readily see that while male coefficient is always above that of White Females, but not always above that of African Amerian males and female."
   ]
  },
  {
   "cell_type": "code",
   "execution_count": 13,
   "metadata": {},
   "outputs": [
    {
     "data": {
      "text/plain": [
       "[0.022757519927815273,\n",
       " 0.0070877934153377176,\n",
       " 0.018543712882534535,\n",
       " 0.010999470074775752]"
      ]
     },
     "execution_count": 13,
     "metadata": {},
     "output_type": "execute_result"
    }
   ],
   "source": [
    "[results_WhiteMale.rsquared, results_WhiteFemale.rsquared, results_AframerMale.rsquared,results_AframerFemale.rsquared]"
   ]
  },
  {
   "cell_type": "markdown",
   "metadata": {},
   "source": [
    "Above we see the overall goodness of fit. The highest  R-squared  measure is for the white males."
   ]
  },
  {
   "cell_type": "code",
   "execution_count": 14,
   "metadata": {},
   "outputs": [
    {
     "name": "stdout",
     "output_type": "stream",
     "text": [
      "                            OLS Regression Results                            \n",
      "==============================================================================\n",
      "Dep. Variable:                      y   R-squared:                       0.023\n",
      "Model:                            OLS   Adj. R-squared:                  0.023\n",
      "Method:                 Least Squares   F-statistic:                     110.3\n",
      "Date:                Tue, 01 Feb 2022   Prob (F-statistic):           1.57e-25\n",
      "Time:                        19:36:47   Log-Likelihood:                -3982.6\n",
      "No. Observations:                4740   AIC:                             7969.\n",
      "Df Residuals:                    4738   BIC:                             7982.\n",
      "Df Model:                           1                                         \n",
      "Covariance Type:            nonrobust                                         \n",
      "==============================================================================\n",
      "                 coef    std err          t      P>|t|      [0.025      0.975]\n",
      "------------------------------------------------------------------------------\n",
      "const          2.9009      0.017    173.446      0.000       2.868       2.934\n",
      "x1             0.0066      0.001     10.504      0.000       0.005       0.008\n",
      "==============================================================================\n",
      "Omnibus:                       35.956   Durbin-Watson:                   1.696\n",
      "Prob(Omnibus):                  0.000   Jarque-Bera (JB):               28.041\n",
      "Skew:                           0.102   Prob(JB):                     8.15e-07\n",
      "Kurtosis:                       2.684   Cond. No.                         54.5\n",
      "==============================================================================\n",
      "\n",
      "Warnings:\n",
      "[1] Standard Errors assume that the covariance matrix of the errors is correctly specified.\n"
     ]
    }
   ],
   "source": [
    "print(results_WhiteMale.summary())"
   ]
  },
  {
   "cell_type": "code",
   "execution_count": null,
   "metadata": {},
   "outputs": [],
   "source": []
  }
 ],
 "metadata": {
  "kernelspec": {
   "display_name": "Python 3",
   "language": "python",
   "name": "python3"
  },
  "language_info": {
   "codemirror_mode": {
    "name": "ipython",
    "version": 3
   },
   "file_extension": ".py",
   "mimetype": "text/x-python",
   "name": "python",
   "nbconvert_exporter": "python",
   "pygments_lexer": "ipython3",
   "version": "3.7.6"
  }
 },
 "nbformat": 4,
 "nbformat_minor": 2
}
