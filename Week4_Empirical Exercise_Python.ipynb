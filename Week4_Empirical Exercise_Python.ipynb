{
 "cells": [
  {
   "cell_type": "markdown",
   "metadata": {},
   "source": [
    "$\\textbf{Empirical Exercise-Week 4}$  Page 245, Problem 5.28\n",
    "Let's look at an example about the auction market for art. "
   ]
  },
  {
   "cell_type": "code",
   "execution_count": 1,
   "metadata": {},
   "outputs": [],
   "source": [
    "import pandas as pd\n",
    "import numpy as np\n",
    "import matplotlib.pyplot as plt\n",
    "import statsmodels.api as sm"
   ]
  },
  {
   "cell_type": "code",
   "execution_count": 2,
   "metadata": {},
   "outputs": [
    {
     "data": {
      "text/html": [
       "<div>\n",
       "<style scoped>\n",
       "    .dataframe tbody tr th:only-of-type {\n",
       "        vertical-align: middle;\n",
       "    }\n",
       "\n",
       "    .dataframe tbody tr th {\n",
       "        vertical-align: top;\n",
       "    }\n",
       "\n",
       "    .dataframe thead th {\n",
       "        text-align: right;\n",
       "    }\n",
       "</style>\n",
       "<table border=\"1\" class=\"dataframe\">\n",
       "  <thead>\n",
       "    <tr style=\"text-align: right;\">\n",
       "      <th></th>\n",
       "      <th>sold</th>\n",
       "      <th>date_auctn</th>\n",
       "      <th>years_old</th>\n",
       "      <th>rhammer</th>\n",
       "      <th>inchsq</th>\n",
       "      <th>signed</th>\n",
       "      <th>creation</th>\n",
       "      <th>age</th>\n",
       "      <th>yob</th>\n",
       "      <th>drec</th>\n",
       "    </tr>\n",
       "  </thead>\n",
       "  <tbody>\n",
       "    <tr>\n",
       "      <th>0</th>\n",
       "      <td>1</td>\n",
       "      <td>2008.75</td>\n",
       "      <td>104.75</td>\n",
       "      <td>0.17327</td>\n",
       "      <td>81.04</td>\n",
       "      <td>1</td>\n",
       "      <td>1904</td>\n",
       "      <td>39</td>\n",
       "      <td>1865</td>\n",
       "      <td>1</td>\n",
       "    </tr>\n",
       "  </tbody>\n",
       "</table>\n",
       "</div>"
      ],
      "text/plain": [
       "   sold  date_auctn  years_old  rhammer  inchsq  signed  creation  age   yob  \\\n",
       "0     1     2008.75     104.75  0.17327   81.04       1      1904   39  1865   \n",
       "\n",
       "   drec  \n",
       "0     1  "
      ]
     },
     "execution_count": 2,
     "metadata": {},
     "output_type": "execute_result"
    }
   ],
   "source": [
    "Tab1 = pd.read_csv('ashcan_small.csv');  sold = Tab1.iloc[:,0]  \n",
    "Tab1.head(1)"
   ]
  },
  {
   "cell_type": "code",
   "execution_count": 3,
   "metadata": {},
   "outputs": [],
   "source": [
    "rhammer = Tab1.iloc[:,3];  inchsq = Tab1.iloc[:,4]; yrsold = Tab1.iloc[:,2];  "
   ]
  },
  {
   "cell_type": "code",
   "execution_count": 4,
   "metadata": {},
   "outputs": [],
   "source": [
    "rhammer1 = np.array(rhammer); inchsq1 = np.array(inchsq); yrsold1 = np.array(yrsold); \n",
    "sold1 = np.array(sold);\n",
    "dummy = (sold1== 1); # only use data for iterms which are sold\n",
    "rhammer2 = rhammer1[dummy]; inchsq2 = inchsq1[dummy]/10; yrsold2 = yrsold1[dummy]"
   ]
  },
  {
   "cell_type": "code",
   "execution_count": 5,
   "metadata": {},
   "outputs": [],
   "source": [
    "y = np.log(rhammer2);  xxx = np.hstack([np.ones((len(y),1)), yrsold2.reshape(-1,1), inchsq2.reshape(-1,1)])"
   ]
  },
  {
   "cell_type": "code",
   "execution_count": 7,
   "metadata": {},
   "outputs": [
    {
     "name": "stdout",
     "output_type": "stream",
     "text": [
      "Coefficient values and t values:\n",
      " [[-0.2450809  -0.52293156]\n",
      " [ 0.02161639  4.00180299]\n",
      " [ 0.02672507  9.71355484]]\n",
      "\n",
      "\n",
      "Coefficient confidence intervals:\n",
      " [[-1.16631288  0.67615108]\n",
      " [ 0.01099866  0.03223413]\n",
      " [ 0.02131696  0.03213317]]\n"
     ]
    }
   ],
   "source": [
    "result1 = sm.OLS(y,xxx).fit()\n",
    "print('Coefficient values and t values:\\n',np.array([result1.params, result1.tvalues]).T)\n",
    "print('\\n')\n",
    "print('Coefficient confidence intervals:\\n',result1.conf_int())"
   ]
  },
  {
   "cell_type": "markdown",
   "metadata": {},
   "source": [
    "Answer to question: how much paintings appreciate in one year, between 1.1% and 3.22% at the 95 percent level of confidence"
   ]
  },
  {
   "cell_type": "markdown",
   "metadata": {},
   "source": [
    "With a 95% confidence interval we can also say that an extra 10 square inches will appreciate a painting betweeh 2.13% and 3.21%. We can reject the null hypothesis that an extra 10 inches will appreciate a painting by 2% in favor of the one-sided alternative that the appreciation will be greater than 2%."
   ]
  },
  {
   "cell_type": "code",
   "execution_count": 6,
   "metadata": {},
   "outputs": [],
   "source": [
    "xxxx = np.hstack([np.ones((len(y),1)), yrsold2.reshape(-1,1), inchsq2.reshape(-1,1), (inchsq2**2).reshape(-1,1)])   # Created quadratic term"
   ]
  },
  {
   "cell_type": "code",
   "execution_count": 7,
   "metadata": {},
   "outputs": [
    {
     "data": {
      "text/plain": [
       "array([[-1.86275485e+00, -5.22132742e-02],\n",
       "       [ 1.28253995e-02,  3.31074092e-02],\n",
       "       [ 4.58945705e-02,  6.65335797e-02],\n",
       "       [-2.41952957e-04, -1.29415493e-04]])"
      ]
     },
     "execution_count": 7,
     "metadata": {},
     "output_type": "execute_result"
    }
   ],
   "source": [
    "result2 = sm.OLS(y,xxxx).fit()\n",
    "result2.conf_int()"
   ]
  },
  {
   "cell_type": "markdown",
   "metadata": {},
   "source": [
    "The addition of the quadratic term does not change the confidence interval for age."
   ]
  },
  {
   "cell_type": "code",
   "execution_count": 8,
   "metadata": {},
   "outputs": [
    {
     "data": {
      "text/plain": [
       "25.40625"
      ]
     },
     "execution_count": 8,
     "metadata": {},
     "output_type": "execute_result"
    }
   ],
   "source": [
    "np.median(inchsq2)"
   ]
  },
  {
   "cell_type": "markdown",
   "metadata": {},
   "source": [
    "Confidence interval for changing by 50, 250, 900 square inches"
   ]
  },
  {
   "cell_type": "code",
   "execution_count": 9,
   "metadata": {},
   "outputs": [
    {
     "data": {
      "text/plain": [
       "array([[0.064127  , 0.16553705],\n",
       "       [0.32063499, 0.82768523],\n",
       "       [1.15428596, 2.97966683]])"
      ]
     },
     "execution_count": 9,
     "metadata": {},
     "output_type": "execute_result"
    }
   ],
   "source": [
    "np.array([result2.conf_int()[1,:]*5 , result2.conf_int()[1,:]*25, result2.conf_int()[1,:]*90])"
   ]
  },
  {
   "cell_type": "markdown",
   "metadata": {},
   "source": [
    "Confidence interval for price-maximizing size of painting: $inchsq2^{*} = .5 * beta2/beta3$"
   ]
  },
  {
   "cell_type": "code",
   "execution_count": 10,
   "metadata": {},
   "outputs": [
    {
     "data": {
      "text/plain": [
       "[94.84192942998624, 257.05415159617553]"
      ]
     },
     "execution_count": 10,
     "metadata": {},
     "output_type": "execute_result"
    }
   ],
   "source": [
    "[-0.5*result2.conf_int()[2,0]/result2.conf_int()[3,0] , -0.5*result2.conf_int()[2,1]/result2.conf_int()[3,1]]"
   ]
  },
  {
   "cell_type": "markdown",
   "metadata": {},
   "source": [
    "Calculate expected value of auction price for 75 year old and 100 square inch painting and confidence interval"
   ]
  },
  {
   "cell_type": "code",
   "execution_count": 11,
   "metadata": {},
   "outputs": [
    {
     "data": {
      "text/plain": [
       "[1.3085685948409007, -0.4660994766082674, 3.0832366662900688]"
      ]
     },
     "execution_count": 11,
     "metadata": {},
     "output_type": "execute_result"
    }
   ],
   "source": [
    "[np.dot([1, 75, 10, 100] , result2.params), np.dot([1,75,10,100] , result2.conf_int()[:,0]), np.dot([1,75,10,100],result2.conf_int()[:,1])]"
   ]
  },
  {
   "cell_type": "markdown",
   "metadata": {},
   "source": [
    "Answer is the expected log price and the 95% confidence level. Remember that a negative log value is still a positive price."
   ]
  },
  {
   "cell_type": "code",
   "execution_count": null,
   "metadata": {},
   "outputs": [],
   "source": []
  }
 ],
 "metadata": {
  "kernelspec": {
   "display_name": "Python 3",
   "language": "python",
   "name": "python3"
  },
  "language_info": {
   "codemirror_mode": {
    "name": "ipython",
    "version": 3
   },
   "file_extension": ".py",
   "mimetype": "text/x-python",
   "name": "python",
   "nbconvert_exporter": "python",
   "pygments_lexer": "ipython3",
   "version": "3.7.6"
  }
 },
 "nbformat": 4,
 "nbformat_minor": 2
}
