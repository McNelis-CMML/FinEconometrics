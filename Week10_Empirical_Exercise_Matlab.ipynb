{
 "cells": [
  {
   "cell_type": "markdown",
   "metadata": {},
   "source": [
    "$\\textbf{Empirical Exercise-Week 10}$  International evidence on productivity and growth. File: ces.sv. Text: p. 673, 15. 23"
   ]
  },
  {
   "cell_type": "code",
   "execution_count": 3,
   "metadata": {},
   "outputs": [
    {
     "name": "stdout",
     "output_type": "stream",
     "text": [
      "\n",
      "ans =\n",
      "\n",
      "  1x44 cell array\n",
      "\n",
      "  Columns 1 through 15\n",
      "\n",
      "    {'code'}    {'year'}    {'y'}    {'k'}    {'l'}    {'e'}    {'ly'}    {'lk'}    {'ll'}    {'variabl0'}    {'hl'}    {'lhl'}    {'t'}    {'lyl'}    {'lkl'}\n",
      "\n",
      "  Columns 16 through 30\n",
      "\n",
      "    {'lkl2'}    {'d1'}    {'d2'}    {'d3'}    {'d4'}    {'d5'}    {'d6'}    {'d7'}    {'d8'}    {'d9'}    {'d10'}    {'d11'}    {'d12'}    {'d13'}    {'d14'}\n",
      "\n",
      "  Columns 31 through 44\n",
      "\n",
      "    {'d15'}    {'d16'}    {'d17'}    {'d18'}    {'d19'}    {'d20'}    {'d21'}    {'d22'}    {'d23'}    {'d24'}    {'d25'}    {'d26'}    {'d27'}    {'d28'}\n",
      "\n",
      "\n"
     ]
    }
   ],
   "source": [
    "clear all;\n",
    "addpath(genpath('c:\\LeSage7'));\n",
    "Tab1 = readtable('ces.csv');\n",
    "Tab1.Properties.VariableNames\n",
    "Tab1(1,:);"
   ]
  },
  {
   "cell_type": "code",
   "execution_count": 4,
   "metadata": {},
   "outputs": [
    {
     "name": "stdout",
     "output_type": "stream",
     "text": [
      "\n"
     ]
    }
   ],
   "source": [
    "ly = table2array(Tab1(:,7)); lk = table2array(Tab1(:,8)); ll = table2array(Tab1(:,9));\n"
   ]
  },
  {
   "cell_type": "code",
   "execution_count": 5,
   "metadata": {},
   "outputs": [
    {
     "name": "stdout",
     "output_type": "stream",
     "text": [
      "\n",
      "ans =\n",
      "\n",
      "    0.3787    3.8530\n",
      "    0.8624  176.9147\n",
      "    0.1373   20.0836\n",
      "\n",
      "\n"
     ]
    }
   ],
   "source": [
    "trend1 =  [1:28]';\n",
    "trend  = kron(ones(82,1),trend1);\n",
    "\n",
    "xx = [ones(2296,1) lk ll]; yy = ly;\n",
    "results1 = ols(yy,xx);\n",
    "[results1.beta results1.tstat]\n",
    "\n"
   ]
  },
  {
   "cell_type": "markdown",
   "metadata": {},
   "source": [
    "We see the production coefficients, with .86 on capital, .13 on labor\n",
    "Do these addup to unity? Use the tstat"
   ]
  },
  {
   "cell_type": "code",
   "execution_count": 6,
   "metadata": {},
   "outputs": [
    {
     "name": "stdout",
     "output_type": "stream",
     "text": [
      "\n",
      "ans =\n",
      "\n",
      "    0.5259\n",
      "\n",
      "\n"
     ]
    }
   ],
   "source": [
    "SIGMAB = inv(xx'*xx)* sum(results1.resid.^2)/(length(xx)-3);\n",
    "Tstat1 = results1.beta(2) + results1.beta(3) - 1;\n",
    "Tstat2 = SIGMAB(2,2)+ SIGMAB(3,3) + 2 * SIGMAB(2,3);\n",
    "Tstat3 = sqrt(Tstat2);\n",
    "TSTAT = Tstat1/Tstat3;\n",
    "dgf = length(xx)-3;\n",
    "Tprob = tcdf(TSTAT,dgf);\n",
    "1 - Tprob"
   ]
  },
  {
   "cell_type": "markdown",
   "metadata": {},
   "source": [
    "We cannot reject the null hypothesis that the coefficients add up to unity."
   ]
  },
  {
   "cell_type": "code",
   "execution_count": 7,
   "metadata": {},
   "outputs": [
    {
     "name": "stdout",
     "output_type": "stream",
     "text": [
      "\n",
      "ans =\n",
      "\n",
      "    0.2995    3.1464\n",
      "    0.8743  182.0888\n",
      "    0.1351   20.4455\n",
      "   -0.0121  -12.7926\n",
      "\n",
      "\n"
     ]
    }
   ],
   "source": [
    "xxx = [ones(2296,1) lk ll trend]; yy = ly;\n",
    "results2 = ols(yy,xxx);\n",
    "[results2.beta results2.tstat]"
   ]
  },
  {
   "cell_type": "markdown",
   "metadata": {},
   "source": [
    "Trend term does not have much effect on coefficients of labor and capital"
   ]
  },
  {
   "cell_type": "code",
   "execution_count": 189,
   "metadata": {},
   "outputs": [
    {
     "name": "stdout",
     "output_type": "stream",
     "text": [
      "\n",
      "Your variables are:\n",
      "\n",
      "SIGMAB    TSTAT     Tprob     Tstat2    ans       lk        ly        results2  trend1    xxx       \n",
      "SIGMAB1   Tab1      Tstat1    Tstat3    dgf       ll        results1  trend     xx        yy        \n",
      "\n",
      "\n"
     ]
    }
   ],
   "source": [
    "who"
   ]
  },
  {
   "cell_type": "code",
   "execution_count": 8,
   "metadata": {},
   "outputs": [
    {
     "name": "stdout",
     "output_type": "stream",
     "text": [
      "\n",
      "ans =\n",
      "\n",
      "    0.4530   10.9103\n",
      "    0.8731  183.4227\n",
      "   -0.0119  -12.6605\n",
      "\n",
      "\n"
     ]
    }
   ],
   "source": [
    "lyl = ly - ll;\n",
    "lkl = lk - ll;\n",
    "xxx = [ones(2296,1) lkl  trend]; yyy = lyl;\n",
    "results3 = ols(yyy,xxx);\n",
    "[results3.beta results3.tstat]"
   ]
  },
  {
   "cell_type": "markdown",
   "metadata": {},
   "source": [
    "Coefficient of capital/labor ratio not much different from capital coefficient"
   ]
  },
  {
   "cell_type": "code",
   "execution_count": 191,
   "metadata": {},
   "outputs": [
    {
     "name": "stdout",
     "output_type": "stream",
     "text": [
      "  PURPOSE: performs Fixed Effects Estimation for Panel Data\n",
      "           (for balanced or unbalanced data)using the within-groups \n",
      " \t\t\t  estimation procedure.\n",
      " ----------------------------------------------------------------------------------------\n",
      "  USAGE:  results = pfixed(y,index,x)\n",
      "  where:    y     \t= a (nobs x neqs) matrix of all of the individual's observations \n",
      " \t\t\t\t\t\t \t\tvertically concatenated. This matrix must include in the firt\n",
      " \t\t\t\t\t\t \t\tcolumn the dependent variable, the independent variables must follow\n",
      " \t\t\t\t\t\t \t\taccordingly.\t\n",
      " \t\t    \tindex    = index vector that identifies each observation with an individual\n",
      "                   e.g. 1  (first 2 observations  for individual # 1)\n",
      "                        1\n",
      "                        2  (next  1 observation   for individual # 2)\n",
      "                        3  (next  3 observations  for individual # 3)\n",
      "                        3 \n",
      "                        3\n",
      " \t\t\t \tx    \t\t= optional matrix of exogenous variables, \n",
      " \t\t\t\t\t\t  \t\tdummy variables. \t\t\t\t\n",
      " ---------------------------------------------------------------------------------------\n",
      " RETURNS a structure\n",
      "  results.meth  = 'pfixed'\n",
      "  results.nobs  = nobs, # of observations\n",
      "  results.nvar  = nvars, # of variables\n",
      "  results.nid   =  # of observations per individual\n",
      "  results.beta  = bhat \n",
      "  results.tstat = t-statistics \n",
      "  results.tprob = t-probabilities\n",
      "  results.resid = residuals \n",
      "  results.yhat  = predicted values \n",
      "  results.y     = actual values \n",
      "  results.sige  = e'e/(n-k)\n",
      "  results.rsqr  = r-squared\n",
      "  results.rbar  = r-squared adjusted\n",
      "  results.sige  = sigma^2 e\n",
      "  results.xmat  = matrix of independent variables\n",
      "  results.iintc = individual intercepts\n",
      "  results.idy   = identity of individual;\n",
      "  results.time  = time elapsed during the procedure\n",
      "  results.crconst = correction of the constant term\n",
      " ----------------------------------------------------------------------------------------\n",
      "\n",
      "\n"
     ]
    }
   ],
   "source": [
    "help pfixed"
   ]
  },
  {
   "cell_type": "code",
   "execution_count": 9,
   "metadata": {},
   "outputs": [
    {
     "name": "stdout",
     "output_type": "stream",
     "text": [
      "\n",
      "ans =\n",
      "\n",
      "        2296           3\n",
      "\n",
      "\n",
      "ans =\n",
      "\n",
      "    0.5862   56.2887\n",
      "    0.2909   10.7052\n",
      "\n",
      "\n"
     ]
    }
   ],
   "source": [
    "code = table2array(Tab1(:,1));\n",
    "xx = [ones(2296,1) lk ll]; yy = ly;\n",
    "size(xx)\n",
    "results3 = pfixed([yy xx(:,2:end)],code);  % fixed effects estimation\n",
    "\n",
    "[results3.beta results3.tstat]"
   ]
  },
  {
   "cell_type": "code",
   "execution_count": 201,
   "metadata": {},
   "outputs": [
    {
     "name": "stdout",
     "output_type": "stream",
     "text": [
      "\n"
     ]
    },
    {
     "data": {
      "image/png": "[encoded data removed]",
      "text/plain": [
       "<IPython.core.display.Image object>"
      ]
     },
     "metadata": {},
     "output_type": "display_data"
    }
   ],
   "source": [
    "bar(results3.iintc)"
   ]
  },
  {
   "cell_type": "code",
   "execution_count": 12,
   "metadata": {},
   "outputs": [
    {
     "name": "stdout",
     "output_type": "stream",
     "text": [
      "\n",
      "ans =\n",
      "\n",
      "     1\n",
      "\n",
      "\n"
     ]
    }
   ],
   "source": [
    "results3.crconst"
   ]
  },
  {
   "cell_type": "code",
   "execution_count": null,
   "metadata": {},
   "outputs": [],
   "source": [
    "\n"
   ]
  },
  {
   "cell_type": "code",
   "execution_count": 13,
   "metadata": {},
   "outputs": [
    {
     "name": "stdout",
     "output_type": "stream",
     "text": [
      "\n"
     ]
    }
   ],
   "source": [
    "Dummy = table2array(Tab1(:,19:end));"
   ]
  },
  {
   "cell_type": "code",
   "execution_count": 10,
   "metadata": {},
   "outputs": [
    {
     "name": "stderr",
     "output_type": "stream",
     "text": [
      "\u001b[1;31mCannot find an exact (case-sensitive) match for 'Dummy'\n",
      "\n",
      "The closest match is: dummy in C:\\Users\\mcnel\\Dropbox\\Mytoolbox\\gauss\\dummy.m\n",
      "\n",
      "\n",
      "\u001b[0m"
     ]
    },
    {
     "ename": "Error",
     "evalue": -1,
     "output_type": "error",
     "traceback": "Cannot find an exact (case-sensitive) match for 'Dummy'\n\nThe closest match is: dummy in C:\\Users\\mcnel\\Dropbox\\Mytoolbox\\gauss\\dummy.m\n\n"
    }
   ],
   "source": [
    "xx = [ones(2296,1) lk ll Dummy]; yy = ly;\n",
    "results4 = ols(yy,xx);\n",
    "[results4.beta results4.tstat];  % using dummies for each year"
   ]
  },
  {
   "cell_type": "code",
   "execution_count": 207,
   "metadata": {},
   "outputs": [
    {
     "name": "stdout",
     "output_type": "stream",
     "text": [
      "\n",
      "ans =\n",
      "\n",
      "    0.9656\n",
      "\n",
      "\n"
     ]
    }
   ],
   "source": [
    "results4.rsqr\n"
   ]
  },
  {
   "cell_type": "markdown",
   "metadata": {},
   "source": [
    "To test the differences between the fixed and the pooled regression do an F test.  We thus test to see if the individual country differences matter"
   ]
  },
  {
   "cell_type": "code",
   "execution_count": 210,
   "metadata": {},
   "outputs": [
    {
     "name": "stdout",
     "output_type": "stream",
     "text": [
      "\n",
      "ans =\n",
      "\n",
      "        2296           3\n",
      "\n",
      "\n"
     ]
    }
   ],
   "source": [
    "code = table2array(Tab1(:,1));\n",
    "xx = [ones(2296,1) lk ll]; yy = ly;\n",
    "size(xx)\n",
    "results_fixed = pfixed([yy xx(:,2:end)],code);  % fixed effects estimation\n",
    "results_pooled = ols(yy,xx);  % pooled restricted model"
   ]
  },
  {
   "cell_type": "code",
   "execution_count": 214,
   "metadata": {},
   "outputs": [
    {
     "name": "stdout",
     "output_type": "stream",
     "text": [
      "\n",
      "ans =\n",
      "\n",
      "    0.1368    0.0150\n",
      "\n",
      "\n"
     ]
    }
   ],
   "source": [
    "SSR_pooled = results_pooled.sige;\n",
    "SSR_fixed = results_fixed.sige;\n",
    "[SSR_pooled SSR_fixed]"
   ]
  },
  {
   "cell_type": "code",
   "execution_count": 219,
   "metadata": {},
   "outputs": [
    {
     "name": "stdout",
     "output_type": "stream",
     "text": [
      "\n",
      "ans =\n",
      "\n",
      "     0\n",
      "\n",
      "\n"
     ]
    }
   ],
   "source": [
    "Fnum = (SSR_pooled-SSR_fixed)/82;\n",
    "Fdenom = SSR_fixed/(results_fixed.nobs-84);\n",
    "Fstat = Fnum/Fdenom;\n",
    "Fprob =  fcdf(Fstat, 82, results_fixed.nobs-84);\n",
    "1-Fprob"
   ]
  },
  {
   "cell_type": "markdown",
   "metadata": {},
   "source": [
    "We can reject that null hypothesis that the individual country effects do not matter.\n"
   ]
  },
  {
   "cell_type": "code",
   "execution_count": null,
   "metadata": {},
   "outputs": [],
   "source": []
  }
 ],
 "metadata": {
  "kernelspec": {
   "display_name": "Matlab",
   "language": "matlab",
   "name": "matlab"
  },
  "language_info": {
   "codemirror_mode": "octave",
   "file_extension": ".m",
   "help_links": [
    {
     "text": "MetaKernel Magics",
     "url": "https://metakernel.readthedocs.io/en/latest/source/README.html"
    }
   ],
   "mimetype": "text/x-octave",
   "name": "matlab",
   "version": "0.16.11"
  }
 },
 "nbformat": 4,
 "nbformat_minor": 4
}
