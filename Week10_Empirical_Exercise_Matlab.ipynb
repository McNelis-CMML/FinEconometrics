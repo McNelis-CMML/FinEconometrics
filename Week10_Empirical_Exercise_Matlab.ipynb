{
 "cells": [
  {
   "cell_type": "markdown",
   "metadata": {},
   "source": [
    "$\\textbf{Empirical Exercise-Week 10}$  International evidence on productivity and growth. File: ces.sv. Text: p. 673, 15. 23"
   ]
  },
  {
   "cell_type": "code",
   "execution_count": 29,
   "metadata": {},
   "outputs": [
    {
     "name": "stdout",
     "output_type": "stream",
     "text": [
      "\n",
      "ans =\n",
      "\n",
      "  1x44 cell array\n",
      "\n",
      "  Columns 1 through 15\n",
      "\n",
      "    {'code'}    {'year'}    {'y'}    {'k'}    {'l'}    {'e'}    {'ly'}    {'lk'}    {'ll'}    {'variabl0'}    {'hl'}    {'lhl'}    {'t'}    {'lyl'}    {'lkl'}\n",
      "\n",
      "  Columns 16 through 30\n",
      "\n",
      "    {'lkl2'}    {'d1'}    {'d2'}    {'d3'}    {'d4'}    {'d5'}    {'d6'}    {'d7'}    {'d8'}    {'d9'}    {'d10'}    {'d11'}    {'d12'}    {'d13'}    {'d14'}\n",
      "\n",
      "  Columns 31 through 44\n",
      "\n",
      "    {'d15'}    {'d16'}    {'d17'}    {'d18'}    {'d19'}    {'d20'}    {'d21'}    {'d22'}    {'d23'}    {'d24'}    {'d25'}    {'d26'}    {'d27'}    {'d28'}\n",
      "\n",
      "\n"
     ]
    }
   ],
   "source": [
    "clear all;\n",
    "Tab1 = readtable('ces.csv');\n",
    "Tab1.Properties.VariableNames\n",
    "Tab1(1,:);\n"
   ]
  },
  {
   "cell_type": "code",
   "execution_count": 32,
   "metadata": {},
   "outputs": [
    {
     "name": "stdout",
     "output_type": "stream",
     "text": [
      "\n",
      "ans =\n",
      "\n",
      "        2296          28\n",
      "\n",
      "\n"
     ]
    }
   ],
   "source": [
    "ly = table2array(Tab1(:,7)); lk = table2array(Tab1(:,8)); ll = table2array(Tab1(:,9));\n",
    "Dummy = Tab1(:,18:end);\n",
    "Dummy = table2array(Dummy);\n",
    "size(Dummy)"
   ]
  },
  {
   "cell_type": "code",
   "execution_count": 14,
   "metadata": {},
   "outputs": [
    {
     "name": "stdout",
     "output_type": "stream",
     "text": [
      "\n",
      "ans =\n",
      "\n",
      "    28\n",
      "\n",
      "\n",
      "ans =\n",
      "\n",
      "        2296\n",
      "\n",
      "\n",
      "ans =\n",
      "\n",
      "    0.3787    0.1860    0.5714\n",
      "    0.8624    0.8528    0.8719\n",
      "    0.1373    0.1239    0.1507\n",
      "\n",
      "\n"
     ]
    }
   ],
   "source": [
    "trend1 =  [1:28]';\n",
    "length(trend1);\n",
    "trend  = kron(ones(82,1),trend1);\n",
    "\n",
    "\n",
    "\n",
    "xx = [ones(2296,1) lk ll]; yy = ly;\n",
    "[B BINT R R1 STATS] = regress(yy,xx);\n",
    "[B BINT]\n",
    "\n"
   ]
  },
  {
   "cell_type": "markdown",
   "metadata": {},
   "source": [
    "We see the production coefficients, with .86 on capital, .13 on labor\n",
    "Do these addup to unity? Use the tstat"
   ]
  },
  {
   "cell_type": "code",
   "execution_count": 4,
   "metadata": {},
   "outputs": [
    {
     "name": "stdout",
     "output_type": "stream",
     "text": [
      "\n",
      "ans =\n",
      "\n",
      "    0.5259\n",
      "\n",
      "\n"
     ]
    }
   ],
   "source": [
    "SIGMAB = inv(xx'*xx)* sum(R.^2)/(length(xx)-3);\n",
    "Tstat1 = B(2) + B(3) - 1;\n",
    "Tstat2 = SIGMAB(2,2)+ SIGMAB(3,3) + 2 * SIGMAB(2,3);\n",
    "Tstat3 = sqrt(Tstat2);\n",
    "TSTAT = Tstat1/Tstat3;\n",
    "dgf = length(xx)-3;\n",
    "Tprob = tcdf(TSTAT,dgf);\n",
    "1 - Tprob"
   ]
  },
  {
   "cell_type": "markdown",
   "metadata": {},
   "source": [
    "We cannot reject the null hypothesis that the coefficients add up to unity."
   ]
  },
  {
   "cell_type": "code",
   "execution_count": 5,
   "metadata": {},
   "outputs": [
    {
     "name": "stdout",
     "output_type": "stream",
     "text": [
      "\n",
      "ans =\n",
      "\n",
      "    0.2995    0.1128    0.4861\n",
      "    0.8743    0.8649    0.8837\n",
      "    0.1351    0.1221    0.1480\n",
      "   -0.0121   -0.0140   -0.0103\n",
      "\n",
      "\n"
     ]
    }
   ],
   "source": [
    "xxx = [ones(2296,1) lk ll trend]; yy = ly;\n",
    "[B1 BINT1 R1 RINR1 STATS1] = regress(yy,xxx);\n",
    "[B1 BINT1]"
   ]
  },
  {
   "cell_type": "markdown",
   "metadata": {},
   "source": [
    "Trend term does not have much effect on coefficients of labor and capital"
   ]
  },
  {
   "cell_type": "code",
   "execution_count": 6,
   "metadata": {},
   "outputs": [
    {
     "name": "stdout",
     "output_type": "stream",
     "text": [
      "\n",
      "Your variables are:\n",
      "\n",
      "B       BINT    R       RINR1   STATS   TSTAT   Tprob   Tstat2  ans     lk      ly      trend1  xxx     \n",
      "B1      BINT1   R1      SIGMAB  STATS1  Tab1    Tstat1  Tstat3  dgf     ll      trend   xx      yy      \n",
      "\n",
      "\n"
     ]
    }
   ],
   "source": [
    "who"
   ]
  },
  {
   "cell_type": "code",
   "execution_count": 7,
   "metadata": {},
   "outputs": [
    {
     "name": "stdout",
     "output_type": "stream",
     "text": [
      "\n",
      "ans =\n",
      "\n",
      "    0.4530    0.3716    0.5344\n",
      "    0.8731    0.8638    0.8825\n",
      "   -0.0119   -0.0137   -0.0100\n",
      "\n",
      "\n"
     ]
    }
   ],
   "source": [
    "lyl = ly - ll;\n",
    "lkl = lk - ll;\n",
    "xxx = [ones(2296,1) lkl  trend]; yyy = lyl;\n",
    "[B2 BINT2 R2 RINT2 STATS2] = regress(yyy,xxx);\n",
    "[B2 BINT2]"
   ]
  },
  {
   "cell_type": "markdown",
   "metadata": {},
   "source": [
    "Coefficient of capital/labor ratio not much different from capital coefficient"
   ]
  },
  {
   "cell_type": "markdown",
   "metadata": {},
   "source": [
    "Lets do an F statistic for individual country dummies. Do they matter?"
   ]
  },
  {
   "cell_type": "code",
   "execution_count": 65,
   "metadata": {},
   "outputs": [
    {
     "name": "stdout",
     "output_type": "stream",
     "text": [
      "\n",
      "Fstat =\n",
      "\n",
      "   33.7535\n",
      "\n",
      "\n",
      "Fprob =\n",
      "\n",
      "     0\n",
      "\n",
      "\n",
      "ans =\n",
      "\n",
      "   -0.0010   -0.0091    0.0072\n",
      "   -0.0005   -0.0082    0.0072\n",
      "   -0.0003   -0.0080    0.0074\n",
      "    0.0037   -0.0044    0.0118\n",
      "   -0.0062   -0.0141    0.0017\n",
      "   -0.0083   -0.0160   -0.0006\n",
      "   -0.0162   -0.0239   -0.0085\n",
      "   -0.0079   -0.0156   -0.0002\n",
      "    0.0043   -0.0034    0.0121\n",
      "   -0.0012   -0.0090    0.0067\n",
      "   -0.0115   -0.0192   -0.0038\n",
      "   -0.0107   -0.0185   -0.0030\n",
      "   -0.0016   -0.0094    0.0063\n",
      "   -0.0060   -0.0137    0.0017\n",
      "   -0.0023   -0.0100    0.0054\n",
      "   -0.0081   -0.0160   -0.0003\n",
      "   -0.0002   -0.0082    0.0078\n",
      "    0.0150    0.0072    0.0228\n",
      "   -0.0033   -0.0111    0.0044\n",
      "   -0.0068   -0.0145    0.0010\n",
      "   -0.0222   -0.0300   -0.0144\n",
      "   -0.0065   -0.0144    0.0013\n",
      "   -0.0170   -0.0248   -0.0092\n",
      "    0.0067   -0.0012    0.0146\n",
      "   -0.0277   -0.0355   -0.0199\n",
      "   -0.0242   -0.0320   -0.0163\n",
      "   -0.0074   -0.0152    0.0005\n",
      "   -0.0209   -0.0289   -0.0129\n",
      "   -0.0129   -0.0207   -0.0052\n",
      "   -0.0489   -0.0568   -0.0410\n",
      "   -0.0076   -0.0156    0.0004\n",
      "   -0.0209   -0.0289   -0.0130\n",
      "   -0.0106   -0.0186   -0.0026\n",
      "   -0.0239   -0.0317   -0.0161\n",
      "   -0.0255   -0.0334   -0.0176\n",
      "   -0.0145   -0.0225   -0.0065\n",
      "   -0.0333   -0.0413   -0.0252\n",
      "   -0.0197   -0.0278   -0.0116\n",
      "    0.0078   -0.0003    0.0160\n",
      "   -0.0061   -0.0141    0.0020\n",
      "   -0.0231   -0.0313   -0.0149\n",
      "   -0.0101   -0.0181   -0.0022\n",
      "   -0.0025   -0.0105    0.0056\n",
      "   -0.0173   -0.0253   -0.0092\n",
      "   -0.0119   -0.0200   -0.0038\n",
      "   -0.0130   -0.0211   -0.0050\n",
      "   -0.0153   -0.0234   -0.0072\n",
      "   -0.0300   -0.0379   -0.0220\n",
      "   -0.0016   -0.0097    0.0065\n",
      "   -0.0418   -0.0498   -0.0339\n",
      "   -0.0133   -0.0212   -0.0053\n",
      "   -0.0114   -0.0195   -0.0033\n",
      "   -0.0230   -0.0311   -0.0150\n",
      "   -0.0304   -0.0384   -0.0225\n",
      "    0.0018   -0.0062    0.0098\n",
      "   -0.0388   -0.0468   -0.0308\n",
      "   -0.0235   -0.0317   -0.0154\n",
      "   -0.0212   -0.0294   -0.0130\n",
      "   -0.0733   -0.0813   -0.0654\n",
      "   -0.0033   -0.0117    0.0050\n",
      "   -0.0208   -0.0289   -0.0127\n",
      "   -0.0175   -0.0258   -0.0092\n",
      "    0.0158    0.0073    0.0243\n",
      "   -0.0188   -0.0270   -0.0107\n",
      "   -0.0443   -0.0525   -0.0360\n",
      "   -0.0081   -0.0165    0.0003\n",
      "   -0.0057   -0.0140    0.0026\n",
      "   -0.0540   -0.0620   -0.0459\n",
      "   -0.0218   -0.0301   -0.0135\n",
      "   -0.0349   -0.0437   -0.0261\n",
      "   -0.0340   -0.0423   -0.0257\n",
      "   -0.0200   -0.0284   -0.0116\n",
      "   -0.0115   -0.0201   -0.0030\n",
      "   -0.0243   -0.0327   -0.0159\n",
      "   -0.0624   -0.0707   -0.0541\n",
      "   -0.0303   -0.0389   -0.0218\n",
      "   -0.0492   -0.0575   -0.0408\n",
      "   -0.0291   -0.0377   -0.0206\n",
      "   -0.0428   -0.0512   -0.0344\n",
      "   -0.0041   -0.0129    0.0046\n",
      "   -0.0516   -0.0606   -0.0425\n",
      "    0.8290    0.5748    1.0831\n",
      "    0.0068    0.0008    0.0128\n",
      "    0.8144    0.8013    0.8276\n",
      "    0.1921    0.1738    0.2104\n",
      "\n",
      "\n"
     ]
    }
   ],
   "source": [
    "trend = 1:28;\n",
    "trend1 = trend';\n",
    "trend2 = kron(ones(82,1),trend1);\n",
    "\n",
    "xx = [ones(82*28,1) trend2 lk ll]; yy = ly;\n",
    "Dummy1 = kron(eye(82),trend1);\n",
    "\n",
    "xxx = [Dummy1(:,2:end) xx];\n",
    "\n",
    "\n",
    "[Bfixed, BINTfixed Rfixed RINTfixed] = regress(yy,xxx);\n",
    "\n",
    "SSE = sum(Rfixed.^2);\n",
    "[nrows ncols] = size(xxx);\n",
    "DGF = nrows - ncols; \n",
    "Fdenom = SSE/DGF;\n",
    "J = 81;\n",
    "[Bfixed1, BINTfixed1, Rfixed1] = regress(yy,xx);\n",
    "SSE1 = sum(Rfixed1.^2);\n",
    "Fnum = (SSE1 - SSE)/J;\n",
    "Fstat = Fnum/Fdenom;\n",
    "Fstat\n",
    "Fprob = 1 - fcdf(Fstat,J,DGF);\n",
    "Fprob\n",
    "\n",
    "[Bfixed BINTfixed]\n"
   ]
  },
  {
   "cell_type": "code",
   "execution_count": 66,
   "metadata": {},
   "outputs": [
    {
     "name": "stdout",
     "output_type": "stream",
     "text": [
      "\n"
     ]
    },
    {
     "data": {
      "image/png": "[encoded data removed]",
      "text/plain": [
       "<IPython.core.display.Image object>"
      ]
     },
     "metadata": {},
     "output_type": "display_data"
    }
   ],
   "source": [
    "bar(Bfixed(1:end-4))"
   ]
  },
  {
   "cell_type": "markdown",
   "metadata": {},
   "source": [
    "Lets see of the country specific dummies matter. "
   ]
  },
  {
   "cell_type": "code",
   "execution_count": 67,
   "metadata": {},
   "outputs": [
    {
     "name": "stdout",
     "output_type": "stream",
     "text": [
      "\n"
     ]
    }
   ],
   "source": [
    "Dummy2 = table2array(Tab1(:,18:end));"
   ]
  },
  {
   "cell_type": "code",
   "execution_count": 68,
   "metadata": {},
   "outputs": [
    {
     "name": "stdout",
     "output_type": "stream",
     "text": [
      "\n"
     ]
    }
   ],
   "source": [
    "xxxx = [Dummy2 ones(2296,1) lk ll ]; yy = ly;\n",
    "[Bfixed2 BINTfixed2 Rfixed2] = regress(yy,xxx);\n"
   ]
  },
  {
   "cell_type": "code",
   "execution_count": 69,
   "metadata": {},
   "outputs": [
    {
     "name": "stdout",
     "output_type": "stream",
     "text": [
      "\n"
     ]
    },
    {
     "data": {
      "image/png": "[encoded data removed]",
      "text/plain": [
       "<IPython.core.display.Image object>"
      ]
     },
     "metadata": {},
     "output_type": "display_data"
    }
   ],
   "source": [
    "bar(Bfixed2(1:27))\n"
   ]
  },
  {
   "cell_type": "markdown",
   "metadata": {},
   "source": [
    "We can reject that null hypothesis that the individual country effects do not matter.\n"
   ]
  },
  {
   "cell_type": "code",
   "execution_count": null,
   "metadata": {},
   "outputs": [],
   "source": []
  }
 ],
 "metadata": {
  "kernelspec": {
   "display_name": "Matlab",
   "language": "matlab",
   "name": "matlab"
  },
  "language_info": {
   "codemirror_mode": "octave",
   "file_extension": ".m",
   "help_links": [
    {
     "text": "MetaKernel Magics",
     "url": "https://metakernel.readthedocs.io/en/latest/source/README.html"
    }
   ],
   "mimetype": "text/x-octave",
   "name": "matlab",
   "version": "0.16.11"
  }
 },
 "nbformat": 4,
 "nbformat_minor": 4
}
