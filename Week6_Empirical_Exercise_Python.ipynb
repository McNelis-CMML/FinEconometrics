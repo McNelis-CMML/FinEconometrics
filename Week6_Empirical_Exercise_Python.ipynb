{
 "cells": [
  {
   "cell_type": "markdown",
   "metadata": {},
   "source": [
    "$\\textbf{Empirical Exercise-Week 6}$  Page 402, Problem 8.1\n",
    "Heteroskedasticity and Labor Market Discrimination "
   ]
  },
  {
   "cell_type": "code",
   "execution_count": 1,
   "metadata": {},
   "outputs": [],
   "source": [
    "import pandas as pd\n",
    "import numpy as np\n",
    "import matplotlib.pyplot as plt\n",
    "import statsmodels.api as sm\n",
    "from sklearn.covariance import MinCovDet\n",
    "from statsmodels.graphics.tsaplots import plot_acf\n",
    "from scipy.stats import t, f, chi2\n",
    "%matplotlib inline"
   ]
  },
  {
   "cell_type": "code",
   "execution_count": 2,
   "metadata": {},
   "outputs": [],
   "source": [
    "Tab1 = pd.read_csv('cps5.csv')"
   ]
  },
  {
   "cell_type": "code",
   "execution_count": 3,
   "metadata": {},
   "outputs": [
    {
     "data": {
      "text/html": [
       "<div>\n",
       "<style scoped>\n",
       "    .dataframe tbody tr th:only-of-type {\n",
       "        vertical-align: middle;\n",
       "    }\n",
       "\n",
       "    .dataframe tbody tr th {\n",
       "        vertical-align: top;\n",
       "    }\n",
       "\n",
       "    .dataframe thead th {\n",
       "        text-align: right;\n",
       "    }\n",
       "</style>\n",
       "<table border=\"1\" class=\"dataframe\">\n",
       "  <thead>\n",
       "    <tr style=\"text-align: right;\">\n",
       "      <th></th>\n",
       "      <th>age</th>\n",
       "      <th>asian</th>\n",
       "      <th>black</th>\n",
       "      <th>divorced</th>\n",
       "      <th>educ</th>\n",
       "      <th>exper</th>\n",
       "      <th>faminc</th>\n",
       "      <th>female</th>\n",
       "      <th>hrswork</th>\n",
       "      <th>insure</th>\n",
       "      <th>...</th>\n",
       "      <th>metro</th>\n",
       "      <th>midwest</th>\n",
       "      <th>nchild</th>\n",
       "      <th>northeast</th>\n",
       "      <th>single</th>\n",
       "      <th>south</th>\n",
       "      <th>union</th>\n",
       "      <th>wage</th>\n",
       "      <th>west</th>\n",
       "      <th>white</th>\n",
       "    </tr>\n",
       "  </thead>\n",
       "  <tbody>\n",
       "    <tr>\n",
       "      <td>0</td>\n",
       "      <td>45</td>\n",
       "      <td>0</td>\n",
       "      <td>0</td>\n",
       "      <td>0</td>\n",
       "      <td>13</td>\n",
       "      <td>26</td>\n",
       "      <td>39200</td>\n",
       "      <td>1</td>\n",
       "      <td>38</td>\n",
       "      <td>1</td>\n",
       "      <td>...</td>\n",
       "      <td>0</td>\n",
       "      <td>0</td>\n",
       "      <td>0</td>\n",
       "      <td>1</td>\n",
       "      <td>0</td>\n",
       "      <td>0</td>\n",
       "      <td>1</td>\n",
       "      <td>14.38</td>\n",
       "      <td>0</td>\n",
       "      <td>1</td>\n",
       "    </tr>\n",
       "  </tbody>\n",
       "</table>\n",
       "<p>1 rows × 23 columns</p>\n",
       "</div>"
      ],
      "text/plain": [
       "   age  asian  black  divorced  educ  exper  faminc  female  hrswork  insure  \\\n",
       "0   45      0      0         0    13     26   39200       1       38       1   \n",
       "\n",
       "   ...  metro  midwest  nchild  northeast  single  south  union   wage  west  \\\n",
       "0  ...      0        0       0          1       0      0      1  14.38     0   \n",
       "\n",
       "   white  \n",
       "0      1  \n",
       "\n",
       "[1 rows x 23 columns]"
      ]
     },
     "execution_count": 3,
     "metadata": {},
     "output_type": "execute_result"
    }
   ],
   "source": [
    "Tab1.head(1)"
   ]
  },
  {
   "cell_type": "code",
   "execution_count": 4,
   "metadata": {},
   "outputs": [],
   "source": [
    "wage = np.array(Tab1.iloc[:,20]); educ = np.array(Tab1.iloc[:,4]);\n",
    "exper = np.array(Tab1.iloc[:,5]); female = np.array(Tab1.iloc[:,7]);\n",
    "aframer = np.array(Tab1.iloc[:,2]); metro = np.array(Tab1.iloc[:,13]);\n",
    "south = np.array(Tab1.iloc[:,18]); midwest = np.array(Tab1.iloc[:,14]);\n",
    "west = np.array(Tab1.iloc[:,21]);"
   ]
  },
  {
   "cell_type": "code",
   "execution_count": 5,
   "metadata": {},
   "outputs": [],
   "source": [
    "y = np.log(wage)\n",
    "x = np.vstack([np.ones(len(y)), educ, exper, (exper**2), female, aframer, metro, south, midwest, west]).T"
   ]
  },
  {
   "cell_type": "code",
   "execution_count": 6,
   "metadata": {},
   "outputs": [
    {
     "data": {
      "text/plain": [
       "[array([ 1.20138202e+00,  1.01229613e-01,  2.96216959e-02, -4.45780477e-04,\n",
       "        -1.65501980e-01, -1.11525250e-01,  1.19020410e-01, -4.57554333e-02,\n",
       "        -6.39432877e-02, -6.58910218e-03]),\n",
       " array([ 37.40888367,  57.57373339,  22.77992395, -16.91478706,\n",
       "        -17.36799457,  -6.58261129,   9.67114697,  -3.37396013,\n",
       "         -4.53380516,  -0.45750133])]"
      ]
     },
     "execution_count": 6,
     "metadata": {},
     "output_type": "execute_result"
    }
   ],
   "source": [
    "results1 = sm.OLS(y,x).fit();\n",
    "[results1.params, results1.tvalues]"
   ]
  },
  {
   "cell_type": "markdown",
   "metadata": {},
   "source": [
    "You see that the coefficient for female = 1 has a depressive effect on wages.  Given equal education, experience, location, women earn less in the United States.\n",
    "Lets do a Goldfeld-Quandt test on equalty of variances for the residuals of wages for men and women in the US workforce. "
   ]
  },
  {
   "cell_type": "code",
   "execution_count": 7,
   "metadata": {},
   "outputs": [],
   "source": [
    "ehat = results1.resid\n",
    "ehat_women = ehat[female==1]\n",
    "ehat_men = ehat[female==0]"
   ]
  },
  {
   "cell_type": "code",
   "execution_count": 8,
   "metadata": {},
   "outputs": [
    {
     "data": {
      "text/plain": [
       "[0.2112234206666959, 0.22147928391399793]"
      ]
     },
     "execution_count": 8,
     "metadata": {},
     "output_type": "execute_result"
    }
   ],
   "source": [
    "Var_women = ehat_women.var();  Var_men = ehat_men.var()\n",
    "[Var_women, Var_men]"
   ]
  },
  {
   "cell_type": "code",
   "execution_count": 9,
   "metadata": {},
   "outputs": [
    {
     "data": {
      "text/plain": [
       "1.1828861974821618"
      ]
     },
     "execution_count": 9,
     "metadata": {},
     "output_type": "execute_result"
    }
   ],
   "source": [
    "dgf_women = len(ehat_women)-10; dgf_men = len(ehat_men)-10;\n",
    "F_stat =  (Var_women/dgf_women)/(Var_men/dgf_men)\n",
    "F_stat"
   ]
  },
  {
   "cell_type": "code",
   "execution_count": 10,
   "metadata": {},
   "outputs": [
    {
     "data": {
      "text/plain": [
       "2.410876831504538e-09"
      ]
     },
     "execution_count": 10,
     "metadata": {},
     "output_type": "execute_result"
    }
   ],
   "source": [
    "Fprob = f.cdf(F_stat, dgf_women, dgf_men)\n",
    "pval = 1 - Fprob\n",
    "pval"
   ]
  },
  {
   "cell_type": "markdown",
   "metadata": {},
   "source": [
    "We can reject the hypothesis of equaltiy of variances between the men and women wage-equation residuals."
   ]
  },
  {
   "cell_type": "markdown",
   "metadata": {},
   "source": [
    "New we do the N $R^2$ test for Heteroskeasticity.  We regress the squared residuals on three variables, on Metro, Female, Black and their cross terms. If the null is true, no heteroskedascity, the term N $R^2$ has a $\\chi^{2}$ distribution with K*(K+3)/2 degress of freedom"
   ]
  },
  {
   "cell_type": "code",
   "execution_count": 11,
   "metadata": {},
   "outputs": [],
   "source": [
    "yy = ehat**2\n",
    "x1 = np.ones(len(yy))"
   ]
  },
  {
   "cell_type": "code",
   "execution_count": 12,
   "metadata": {},
   "outputs": [],
   "source": [
    "xfa = female * aframer\n",
    "xfm = female * metro\n",
    "xma = metro * aframer"
   ]
  },
  {
   "cell_type": "code",
   "execution_count": 13,
   "metadata": {},
   "outputs": [],
   "source": [
    "xx = np.vstack([x1, female, aframer, metro, xfa, xfm, xma]).T"
   ]
  },
  {
   "cell_type": "code",
   "execution_count": 14,
   "metadata": {},
   "outputs": [],
   "source": [
    "results2 = sm.OLS(yy,xx).fit()"
   ]
  },
  {
   "cell_type": "code",
   "execution_count": 15,
   "metadata": {},
   "outputs": [
    {
     "data": {
      "text/plain": [
       "32.29820661387902"
      ]
     },
     "execution_count": 15,
     "metadata": {},
     "output_type": "execute_result"
    }
   ],
   "source": [
    "Chistat = results2.rsquared * len(ehat)\n",
    "dgf2 = 7*10/2\n",
    "Chistat"
   ]
  },
  {
   "cell_type": "code",
   "execution_count": 16,
   "metadata": {},
   "outputs": [
    {
     "data": {
      "text/plain": [
       "0.5992168652863528"
      ]
     },
     "execution_count": 16,
     "metadata": {},
     "output_type": "execute_result"
    }
   ],
   "source": [
    "Chip = chi2.cdf(Chistat, dgf2)\n",
    "pval2 = 1 - Chip\n",
    "pval2"
   ]
  },
  {
   "cell_type": "markdown",
   "metadata": {},
   "source": [
    "So we caonnot reject homoskedasticity with these variables in this test.  Let repeat it with all of the explanatory variables, as your book suggests\n"
   ]
  },
  {
   "cell_type": "code",
   "execution_count": 17,
   "metadata": {},
   "outputs": [
    {
     "data": {
      "text/plain": [
       "0.0004718645891164108"
      ]
     },
     "execution_count": 17,
     "metadata": {},
     "output_type": "execute_result"
    }
   ],
   "source": [
    "results3 = sm.OLS(yy,x).fit()\n",
    "dgf4 =  10 * 13/2\n",
    "Chistat =  len(yy)*results3.rsquared\n",
    "Chip = chi2.cdf(Chistat, dgf4)\n",
    "pval3 = 1-Chip\n",
    "pval3"
   ]
  },
  {
   "cell_type": "markdown",
   "metadata": {},
   "source": [
    "We can now reject homoskecasticty when we use all of the regressors.\n",
    "White test is similar, with quadratic expansion on the variables. "
   ]
  },
  {
   "cell_type": "code",
   "execution_count": 18,
   "metadata": {},
   "outputs": [],
   "source": [
    "xxx= np.vstack([np.ones(len(yy)), educ,  educ**2, exper, exper**2, educ*exper, \\\n",
    "female, aframer, metro, south, midwest, west, female**aframer, metro**aframer, \\\n",
    "metro*south, metro*female]).T\n",
    "results4 = sm.OLS(yy,xxx).fit()\n",
    "dgf5 = 15\n",
    "White = len(yy) * results4.rsquared"
   ]
  },
  {
   "cell_type": "code",
   "execution_count": 19,
   "metadata": {},
   "outputs": [
    {
     "data": {
      "text/plain": [
       "0.0"
      ]
     },
     "execution_count": 19,
     "metadata": {},
     "output_type": "execute_result"
    }
   ],
   "source": [
    "White_test = chi2.cdf(White,dgf5)\n",
    "pval4 = 1 - White_test\n",
    "pval4"
   ]
  },
  {
   "cell_type": "markdown",
   "metadata": {},
   "source": [
    "We can reject homoskedasticity with the White test"
   ]
  },
  {
   "cell_type": "code",
   "execution_count": 20,
   "metadata": {},
   "outputs": [
    {
     "name": "stdout",
     "output_type": "stream",
     "text": [
      "[[ 0.0011 -0.0001 -0.      0.     -0.     -0.     -0.0001 -0.0001 -0.0001 -0.0001]\n",
      " [-0.0001  0.     -0.      0.     -0.      0.     -0.      0.      0.      0.    ]\n",
      " [-0.     -0.      0.     -0.      0.      0.     -0.     -0.     -0.     -0.    ]\n",
      " [ 0.      0.     -0.      0.     -0.      0.      0.      0.      0.      0.    ]\n",
      " [-0.     -0.      0.     -0.      0.0001 -0.      0.     -0.     -0.      0.    ]\n",
      " [-0.      0.      0.      0.     -0.      0.0003 -0.     -0.     -0.      0.    ]\n",
      " [-0.0001 -0.     -0.      0.      0.     -0.      0.0001 -0.      0.     -0.    ]\n",
      " [-0.0001  0.     -0.      0.     -0.     -0.     -0.      0.0002  0.0001  0.0001]\n",
      " [-0.0001  0.     -0.      0.     -0.     -0.      0.      0.0001  0.0002  0.0001]\n",
      " [-0.0001  0.     -0.      0.      0.      0.     -0.      0.0001  0.0001  0.0002]]\n"
     ]
    }
   ],
   "source": [
    "np.set_printoptions(precision=4,suppress=True,linewidth=100)\n",
    "print(results1.cov_HC0)"
   ]
  },
  {
   "cell_type": "code",
   "execution_count": 21,
   "metadata": {},
   "outputs": [
    {
     "data": {
      "text/plain": [
       "array([[  1.2014,   0.0328,  36.6527],\n",
       "       [  0.1012,   0.0019,  53.1431],\n",
       "       [  0.0296,   0.0013,  22.5391],\n",
       "       [ -0.0004,   0.    , -16.1615],\n",
       "       [ -0.1655,   0.0095, -17.4517],\n",
       "       [ -0.1115,   0.0161,  -6.9333],\n",
       "       [  0.119 ,   0.0116,  10.2814],\n",
       "       [ -0.0458,   0.0139,  -3.2931],\n",
       "       [ -0.0639,   0.0137,  -4.6615],\n",
       "       [ -0.0066,   0.0145,  -0.4529]])"
      ]
     },
     "execution_count": 21,
     "metadata": {},
     "output_type": "execute_result"
    }
   ],
   "source": [
    "np.array([results1.params,results1.HC0_se,results1.params/results1.HC0_se]).T"
   ]
  },
  {
   "cell_type": "markdown",
   "metadata": {},
   "source": [
    "We see that being female or African American have negative effects on wages."
   ]
  },
  {
   "cell_type": "markdown",
   "metadata": {},
   "source": [
    "Now we turn to FGLS estimators, Feasible Generalized Least Squares Estimators.\n"
   ]
  },
  {
   "cell_type": "code",
   "execution_count": 22,
   "metadata": {},
   "outputs": [],
   "source": [
    "from scipy.linalg import toeplitz\n",
    "resid=results1.resid\n",
    "resid_fit=sm.OLS(resid[1:], sm.add_constant(resid[:-1])).fit()\n",
    "rho=resid_fit.params[1]\n",
    "order=toeplitz(range(len(resid)))\n",
    "sigma = rho**order"
   ]
  },
  {
   "cell_type": "code",
   "execution_count": 23,
   "metadata": {},
   "outputs": [
    {
     "data": {
      "text/plain": [
       "array([[  1.2235,   0.033 ,  37.1014],\n",
       "       [  0.0996,   0.0018,  55.792 ],\n",
       "       [  0.0296,   0.0013,  22.6168],\n",
       "       [ -0.0004,   0.    , -16.747 ],\n",
       "       [ -0.1648,   0.0093, -17.6437],\n",
       "       [ -0.1136,   0.0174,  -6.5376],\n",
       "       [  0.1193,   0.0132,   9.0308],\n",
       "       [ -0.0461,   0.0146,  -3.1536],\n",
       "       [ -0.0644,   0.0152,  -4.2279],\n",
       "       [ -0.0072,   0.0156,  -0.4661]])"
      ]
     },
     "execution_count": 23,
     "metadata": {},
     "output_type": "execute_result"
    }
   ],
   "source": [
    "gresults=sm.GLS(y,x,sigma=sigma).fit()\n",
    "np.array([gresults.params,gresults.bse,gresults.params/gresults.bse]).T"
   ]
  },
  {
   "cell_type": "markdown",
   "metadata": {},
   "source": [
    "We see that the FGLS are similar to the White estimates."
   ]
  },
  {
   "cell_type": "code",
   "execution_count": 24,
   "metadata": {},
   "outputs": [
    {
     "data": {
      "text/plain": [
       "array([[ 1.2014,  1.2235],\n",
       "       [ 0.1012,  0.0996],\n",
       "       [ 0.0296,  0.0296],\n",
       "       [-0.0004, -0.0004],\n",
       "       [-0.1655, -0.1648],\n",
       "       [-0.1115, -0.1136],\n",
       "       [ 0.119 ,  0.1193],\n",
       "       [-0.0458, -0.0461],\n",
       "       [-0.0639, -0.0644],\n",
       "       [-0.0066, -0.0072]])"
      ]
     },
     "execution_count": 24,
     "metadata": {},
     "output_type": "execute_result"
    }
   ],
   "source": [
    "np.array([results1.params,gresults.params]).T"
   ]
  },
  {
   "cell_type": "markdown",
   "metadata": {},
   "source": [
    "The White estimators are more restrictive than the FGLS estimators.  However it is always good to check for robustness with respect to estimaiton procedure"
   ]
  },
  {
   "cell_type": "code",
   "execution_count": null,
   "metadata": {},
   "outputs": [],
   "source": []
  }
 ],
 "metadata": {
  "kernelspec": {
   "display_name": "Python 3",
   "language": "python",
   "name": "python3"
  },
  "language_info": {
   "codemirror_mode": {
    "name": "ipython",
    "version": 3
   },
   "file_extension": ".py",
   "mimetype": "text/x-python",
   "name": "python",
   "nbconvert_exporter": "python",
   "pygments_lexer": "ipython3",
   "version": "3.7.6"
  }
 },
 "nbformat": 4,
 "nbformat_minor": 2
}
