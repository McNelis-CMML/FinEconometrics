{
 "cells": [
  {
   "cell_type": "code",
   "execution_count": 1,
   "metadata": {},
   "outputs": [],
   "source": [
    "import pandas as pd\n",
    "import numpy as np\n",
    "import matplotlib.pyplot as plt\n",
    "import statsmodels.api as sm\n",
    "from sklearn.covariance import MinCovDet\n",
    "from statsmodels.graphics.tsaplots import plot_acf\n",
    "from scipy.stats import t, f, chi2\n",
    "%matplotlib inline"
   ]
  },
  {
   "cell_type": "markdown",
   "metadata": {},
   "source": [
    "$\\textbf{Empirical Exercise-Week 10}$  International evidence on productivity and growth. File: ces.sv. Text: p. 673, 15. 23"
   ]
  },
  {
   "cell_type": "code",
   "execution_count": 2,
   "metadata": {},
   "outputs": [
    {
     "data": {
      "text/plain": [
       "code        1.000000e+00\n",
       "year        1.960000e+03\n",
       "y           8.460000e+10\n",
       "k           1.620000e+11\n",
       "l           3.556000e+06\n",
       "e           7.350000e+00\n",
       "ly          2.516130e+01\n",
       "lk          2.581086e+01\n",
       "ll          1.508415e+01\n",
       "variabl0    1.994700e+00\n",
       "hl          2.610000e+07\n",
       "lhl         1.707885e+01\n",
       "t           1.000000e+00\n",
       "lyl         1.007715e+01\n",
       "lkl         1.072672e+01\n",
       "lkl2        1.150624e+02\n",
       "d1          1.000000e+00\n",
       "d2          0.000000e+00\n",
       "d3          0.000000e+00\n",
       "d4          0.000000e+00\n",
       "d5          0.000000e+00\n",
       "d6          0.000000e+00\n",
       "d7          0.000000e+00\n",
       "d8          0.000000e+00\n",
       "d9          0.000000e+00\n",
       "d10         0.000000e+00\n",
       "d11         0.000000e+00\n",
       "d12         0.000000e+00\n",
       "d13         0.000000e+00\n",
       "d14         0.000000e+00\n",
       "d15         0.000000e+00\n",
       "d16         0.000000e+00\n",
       "d17         0.000000e+00\n",
       "d18         0.000000e+00\n",
       "d19         0.000000e+00\n",
       "d20         0.000000e+00\n",
       "d21         0.000000e+00\n",
       "d22         0.000000e+00\n",
       "d23         0.000000e+00\n",
       "d24         0.000000e+00\n",
       "d25         0.000000e+00\n",
       "d26         0.000000e+00\n",
       "d27         0.000000e+00\n",
       "d28         0.000000e+00\n",
       "Name: 0, dtype: float64"
      ]
     },
     "execution_count": 2,
     "metadata": {},
     "output_type": "execute_result"
    }
   ],
   "source": [
    "Tab1 = pd.read_csv('ces.csv')\n",
    "Tab1.iloc[0,:]"
   ]
  },
  {
   "cell_type": "code",
   "execution_count": 13,
   "metadata": {},
   "outputs": [],
   "source": [
    "ly = np.array(Tab1.iloc[:,6]); lk = np.array(Tab1.iloc[:,7]); ll = np.array(Tab1.iloc[:,8])"
   ]
  },
  {
   "cell_type": "code",
   "execution_count": 14,
   "metadata": {},
   "outputs": [
    {
     "data": {
      "text/plain": [
       "[array([0.37869971, 0.86238313, 0.13726957]),\n",
       " array([  3.85300922, 176.91471933,  20.08362411])]"
      ]
     },
     "execution_count": 14,
     "metadata": {},
     "output_type": "execute_result"
    }
   ],
   "source": [
    "trend1 =  np.array(range(1, 29))\n",
    "trend  = np.kron(np.ones(82),trend1)\n",
    "\n",
    "xx = np.array([np.ones(2296), lk, ll]).T; yy = ly\n",
    "results1 = sm.OLS(yy,xx).fit()\n",
    "[results1.params, results1.tvalues]"
   ]
  },
  {
   "cell_type": "markdown",
   "metadata": {},
   "source": [
    "We see the production coefficients, with .86 on capital, .13 on labor\n",
    "Do these addup to unity? Use the tstat"
   ]
  },
  {
   "cell_type": "code",
   "execution_count": 15,
   "metadata": {},
   "outputs": [
    {
     "data": {
      "text/plain": [
       "0.525858138210839"
      ]
     },
     "execution_count": 15,
     "metadata": {},
     "output_type": "execute_result"
    }
   ],
   "source": [
    "SIGMAB = np.linalg.inv(xx.T.dot(xx)) * np.sum(results1.resid**2)/(len(xx)-3)\n",
    "Tstat1 = results1.params[1] + results1.params[2] - 1\n",
    "Tstat2 = SIGMAB[1,1]+ SIGMAB[2,2] + 2 * SIGMAB[1,2]\n",
    "Tstat3 = np.sqrt(Tstat2)\n",
    "TSTAT = Tstat1/Tstat3\n",
    "dgf = len(xx)-3\n",
    "Tprob = t.cdf(TSTAT,dgf)\n",
    "(1 - Tprob)"
   ]
  },
  {
   "cell_type": "markdown",
   "metadata": {},
   "source": [
    "We cannot reject the null hypothesis that the coefficients add up to unity."
   ]
  },
  {
   "cell_type": "code",
   "execution_count": 16,
   "metadata": {},
   "outputs": [
    {
     "data": {
      "text/plain": [
       "[array([ 0.29947172,  0.8742899 ,  0.13508103, -0.01213207]),\n",
       " array([  3.14644934, 182.088847  ,  20.44550142, -12.79259568])]"
      ]
     },
     "execution_count": 16,
     "metadata": {},
     "output_type": "execute_result"
    }
   ],
   "source": [
    "xxx = np.array([np.ones(2296), lk, ll, trend]).T; yy = ly;\n",
    "results2 = sm.OLS(yy,xxx).fit()\n",
    "[results2.params, results2.tvalues]"
   ]
  },
  {
   "cell_type": "markdown",
   "metadata": {},
   "source": [
    "Trend term does not have much effect on coefficients of labor and capital"
   ]
  },
  {
   "cell_type": "code",
   "execution_count": 17,
   "metadata": {},
   "outputs": [
    {
     "data": {
      "text/plain": [
       "[array([ 0.45297586,  0.87313408, -0.01188515]),\n",
       " array([ 10.91032719, 183.4227077 , -12.66051615])]"
      ]
     },
     "execution_count": 17,
     "metadata": {},
     "output_type": "execute_result"
    }
   ],
   "source": [
    "lyl = ly - ll\n",
    "lkl = lk - ll\n",
    "xxx = np.array([np.ones(2296), lkl, trend]).T; yyy = lyl\n",
    "results3 = sm.OLS(yyy,xxx).fit()\n",
    "[results3.params, results3.tvalues]"
   ]
  },
  {
   "cell_type": "markdown",
   "metadata": {},
   "source": [
    "Coefficient of capital/labor ratio not much different from capital coefficient"
   ]
  },
  {
   "cell_type": "code",
   "execution_count": null,
   "metadata": {},
   "outputs": [],
   "source": [
    "from linearmodels.panel import PanelOLS\n",
    "from linearmodels import RandomEffects\n",
    "help(PanelOLS)"
   ]
  },
  {
   "cell_type": "code",
   "execution_count": 20,
   "metadata": {},
   "outputs": [
    {
     "data": {
      "text/plain": [
       "<BarContainer object of 82 artists>"
      ]
     },
     "execution_count": 20,
     "metadata": {},
     "output_type": "execute_result"
    },
    {
     "data": {
      "image/png": "[encoded data removed]",
      "text/plain": [
       "<Figure size 432x288 with 1 Axes>"
      ]
     },
     "metadata": {},
     "output_type": "display_data"
    }
   ],
   "source": [
    "code = np.array(Tab1.iloc[:,0])\n",
    "year=np.array(Tab1.iloc[:,1])\n",
    "data = pd.DataFrame({'yy': yy, 'lk': lk, 'll': ll,'code':code,'year':year})\n",
    "data=data.set_index(['code','year'])\n",
    "mod = PanelOLS(data.yy, data[['lk', 'll']], entity_effects=True)  # fixed effects estimation\n",
    "results3 = mod.fit()\n",
    "\n",
    "labels=list(results3.estimated_effects.index.levels[0])\n",
    "effects=[]\n",
    "for i in labels:\n",
    "    effects.append(float(results3.estimated_effects.loc[i,:].iloc[0,:]))\n",
    "plt.bar(labels,effects)"
   ]
  },
  {
   "cell_type": "code",
   "execution_count": 21,
   "metadata": {},
   "outputs": [],
   "source": [
    "Dummy = np.array(Tab1.iloc[:,18:])"
   ]
  },
  {
   "cell_type": "code",
   "execution_count": 22,
   "metadata": {},
   "outputs": [
    {
     "data": {
      "text/plain": [
       "array([[  0.2469,   2.5051],\n",
       "       [  0.8741, 181.4531],\n",
       "       [  0.1352,  20.4055],\n",
       "       [ -0.0159,  -0.3283],\n",
       "       [ -0.0116,  -0.2397],\n",
       "       [ -0.0143,  -0.295 ],\n",
       "       [ -0.0194,  -0.4009],\n",
       "       [ -0.03  ,  -0.618 ],\n",
       "       [ -0.0504,  -1.0393],\n",
       "       [ -0.0521,  -1.0731],\n",
       "       [ -0.0473,  -0.9752],\n",
       "       [ -0.0488,  -1.0058],\n",
       "       [ -0.06  ,  -1.2361],\n",
       "       [ -0.0646,  -1.3293],\n",
       "       [ -0.0733,  -1.5093],\n",
       "       [ -0.0916,  -1.8845],\n",
       "       [ -0.1279,  -2.6322],\n",
       "       [ -0.1334,  -2.7438],\n",
       "       [ -0.147 ,  -3.0228],\n",
       "       [ -0.164 ,  -3.3698],\n",
       "       [ -0.1688,  -3.4679],\n",
       "       [ -0.1958,  -4.0221],\n",
       "       [ -0.2257,  -4.6337],\n",
       "       [ -0.2566,  -5.2657],\n",
       "       [ -0.2754,  -5.6495],\n",
       "       [ -0.2811,  -5.7662],\n",
       "       [ -0.2884,  -5.9137],\n",
       "       [ -0.2889,  -5.9217],\n",
       "       [ -0.2862,  -5.8658]])"
      ]
     },
     "execution_count": 22,
     "metadata": {},
     "output_type": "execute_result"
    }
   ],
   "source": [
    "xx = np.hstack([np.ones((2296,1)), lk.reshape(-1,1), ll.reshape(-1,1), Dummy]); yy = ly;\n",
    "results4 = sm.OLS(yy,xx).fit()\n",
    "np.set_printoptions(precision=4,suppress=True)\n",
    "np.array([results4.params, results4.tvalues]).T # using dummies for each year"
   ]
  },
  {
   "cell_type": "code",
   "execution_count": 23,
   "metadata": {},
   "outputs": [
    {
     "data": {
      "text/plain": [
       "0.9656130459860399"
      ]
     },
     "execution_count": 23,
     "metadata": {},
     "output_type": "execute_result"
    }
   ],
   "source": [
    "results4.rsquared"
   ]
  },
  {
   "cell_type": "markdown",
   "metadata": {},
   "source": [
    "To test the differences between the fixed and the pooled regression do an F test. We thus test to see if the individual country differences matter"
   ]
  },
  {
   "cell_type": "code",
   "execution_count": 24,
   "metadata": {},
   "outputs": [
    {
     "data": {
      "text/plain": [
       "[0.13678833335114943, 0.015027837186911744]"
      ]
     },
     "execution_count": 24,
     "metadata": {},
     "output_type": "execute_result"
    }
   ],
   "source": [
    "results_fixed =results3 #fixed effects estimation\n",
    "results_pooled=results1 #pooled restricted model\n",
    "SSR_pooled = results_pooled.mse_resid\n",
    "SSR_fixed = results3.resid_ss/2296\n",
    "[SSR_pooled, SSR_fixed]"
   ]
  },
  {
   "cell_type": "code",
   "execution_count": 31,
   "metadata": {},
   "outputs": [
    {
     "data": {
      "text/plain": [
       "1.1102230246251565e-16"
      ]
     },
     "execution_count": 31,
     "metadata": {},
     "output_type": "execute_result"
    }
   ],
   "source": [
    "Fnum = (SSR_pooled-SSR_fixed)/82;\n",
    "Fdenom = SSR_fixed/(results_fixed.nobs-84);\n",
    "Fstat = Fnum/Fdenom;\n",
    "Fprob =  f.cdf(Fstat, 82, results_fixed.nobs-84);\n",
    "1-Fprob"
   ]
  },
  {
   "cell_type": "code",
   "execution_count": null,
   "metadata": {},
   "outputs": [],
   "source": []
  }
 ],
 "metadata": {
  "kernelspec": {
   "display_name": "Python 3",
   "language": "python",
   "name": "python3"
  },
  "language_info": {
   "codemirror_mode": {
    "name": "ipython",
    "version": 3
   },
   "file_extension": ".py",
   "mimetype": "text/x-python",
   "name": "python",
   "nbconvert_exporter": "python",
   "pygments_lexer": "ipython3",
   "version": "3.7.6"
  }
 },
 "nbformat": 4,
 "nbformat_minor": 2
}
