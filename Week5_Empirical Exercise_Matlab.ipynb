{
 "cells": [
  {
   "cell_type": "markdown",
   "metadata": {},
   "source": [
    "$\\textbf{Empirical Exercise-Week 5}$  Page 308, Problem 6.29\n",
    "Let's look at inequality and tax rates on income "
   ]
  },
  {
   "cell_type": "markdown",
   "metadata": {},
   "source": [
    "We will do an example of the Chow test for a simple model of income inequality on the tax rate for US Data. You can use other country data as a check on robustness.  "
   ]
  },
  {
   "cell_type": "code",
   "execution_count": 1,
   "metadata": {},
   "outputs": [
    {
     "name": "stdout",
     "output_type": "stream",
     "text": [
      "\n"
     ]
    }
   ],
   "source": [
    "addpath(genpath('c:\\LeSage7'));\n",
    "Tab1 = readtable('inequality.csv');"
   ]
  },
  {
   "cell_type": "code",
   "execution_count": 2,
   "metadata": {},
   "outputs": [
    {
     "name": "stdout",
     "output_type": "stream",
     "text": [
      "\n",
      "ans =\n",
      "\n",
      "  1x17 table\n",
      "\n",
      "    year    aus_gdp    aus_gwth    aus_share    aus_tax    ca_gdp    ca_gwth    ca_share    ca_tax    nz_gdp    nz_gwth    nz_share    nz_tax    us_gdp    us_gwth    us_share    us_tax\n",
      "    ____    _______    ________    _________    _______    ______    _______    ________    ______    ______    _______    ________    ______    ______    _______    ________    ______\n",
      "\n",
      "     1      4910.8      3.0388       11.63       11.1       3357     -13.064      17.6       4.2      5128.1    -8.2824     15.47       10.5     5322.7    -4.1351     15.47        12  \n",
      "\n",
      "\n"
     ]
    }
   ],
   "source": [
    "Tab1(1,:)"
   ]
  },
  {
   "cell_type": "code",
   "execution_count": 3,
   "metadata": {},
   "outputs": [
    {
     "name": "stdout",
     "output_type": "stream",
     "text": [
      "\n"
     ]
    }
   ],
   "source": [
    "year = Tab1(:,1); share = Tab1(:,16); tax = Tab1(:,17); growth = Tab1(:,15);"
   ]
  },
  {
   "cell_type": "code",
   "execution_count": 4,
   "metadata": {},
   "outputs": [
    {
     "name": "stdout",
     "output_type": "stream",
     "text": [
      "\n"
     ]
    }
   ],
   "source": [
    "year1 = table2array(year); share1 = table2array(share); tax1 = table2array(tax); \n",
    "growth1 = table2array(growth);"
   ]
  },
  {
   "cell_type": "markdown",
   "metadata": {},
   "source": [
    "First do a regression on the full sample."
   ]
  },
  {
   "cell_type": "code",
   "execution_count": 5,
   "metadata": {},
   "outputs": [
    {
     "name": "stdout",
     "output_type": "stream",
     "text": [
      "\n",
      "result1 = \n",
      "\n",
      "  struct with fields:\n",
      "\n",
      "     meth: 'ols'\n",
      "        y: [80x1 double]\n",
      "     nobs: 80\n",
      "     nvar: 2\n",
      "     beta: [2x1 double]\n",
      "     yhat: [80x1 double]\n",
      "    resid: [80x1 double]\n",
      "     sige: 0.0238\n",
      "     bstd: [2x1 double]\n",
      "     bint: [2x2 double]\n",
      "    tstat: [2x1 double]\n",
      "     rsqr: 0.7302\n",
      "     rbar: 0.7267\n",
      "       dw: 0.1916\n",
      "\n",
      "\n",
      "ans =\n",
      "\n",
      "    2.9569   72.9519\n",
      "   -0.0151  -14.5279\n",
      "\n",
      "\n"
     ]
    }
   ],
   "source": [
    "y = log(share1);\n",
    "xx =  [ones(length(y),1) tax1];\n",
    "result1 = ols(y,xx);\n",
    "[result1.beta result1.tstat];\n",
    "result1\n",
    "[result1.beta result1.tstat]\n",
    "\n"
   ]
  },
  {
   "cell_type": "markdown",
   "metadata": {},
   "source": [
    "We see that the tax rate has a negative effect on the share of the highest one percent.   calculate the sum of squared residuals.\n"
   ]
  },
  {
   "cell_type": "code",
   "execution_count": 6,
   "metadata": {},
   "outputs": [
    {
     "name": "stdout",
     "output_type": "stream",
     "text": [
      "\n",
      "SSR1 =\n",
      "\n",
      "    1.8539\n",
      "\n",
      "\n"
     ]
    }
   ],
   "source": [
    "SSR1 = sum((result1.resid).^2)"
   ]
  },
  {
   "cell_type": "markdown",
   "metadata": {},
   "source": [
    "The sum of squared residuals for the full sample is 1.8539. Now lets split the sample in half. \n"
   ]
  },
  {
   "cell_type": "markdown",
   "metadata": {},
   "source": [
    "Year 40 is 1961 since year 1 is 1921."
   ]
  },
  {
   "cell_type": "code",
   "execution_count": null,
   "metadata": {},
   "outputs": [],
   "source": []
  },
  {
   "cell_type": "code",
   "execution_count": 7,
   "metadata": {},
   "outputs": [
    {
     "name": "stdout",
     "output_type": "stream",
     "text": [
      "\n",
      "ans =\n",
      "\n",
      "    2.9020   89.5990\n",
      "   -0.0126  -12.5609\n",
      "\n",
      "\n",
      "SSR2 =\n",
      "\n",
      "    0.5213\n",
      "\n",
      "\n"
     ]
    }
   ],
   "source": [
    "yy = log(share1(1:40,:));\n",
    "\n",
    "tax11=tax1(1:40,:);\n",
    "xxx =  [ones(length(yy),1) tax11];\n",
    "\n",
    "result2 = ols(yy,xxx);\n",
    "[result2.beta result2.tstat]\n",
    "SSR2 = sum(result2.resid.^2)\n"
   ]
  },
  {
   "cell_type": "markdown",
   "metadata": {},
   "source": [
    "We see that the sum of squared residuals for the first half is .5213. Is this coefficient different from the later part? Let's see."
   ]
  },
  {
   "cell_type": "code",
   "execution_count": 8,
   "metadata": {},
   "outputs": [
    {
     "name": "stdout",
     "output_type": "stream",
     "text": [
      "\n",
      "ans =\n",
      "\n",
      "    3.4696   23.0798\n",
      "   -0.0270   -8.0477\n",
      "\n",
      "\n",
      "SSR3 =\n",
      "\n",
      "    0.9563\n",
      "\n",
      "\n"
     ]
    }
   ],
   "source": [
    "yyy = log(share1(40:end,:));\n",
    "\n",
    "tax111=tax1(40:end,:);\n",
    "xxxx =  [ones(length(yyy),1) tax111];\n",
    "\n",
    "result3 = ols(yyy,xxxx);\n",
    "[result3.beta result3.tstat]\n",
    "SSR3 = sum(result3.resid.^2)"
   ]
  },
  {
   "cell_type": "markdown",
   "metadata": {},
   "source": [
    "We see that the residuals are different and that the coefficient of the tax rate is different.  Let's do a Chow Test"
   ]
  },
  {
   "cell_type": "code",
   "execution_count": 9,
   "metadata": {},
   "outputs": [
    {
     "name": "stdout",
     "output_type": "stream",
     "text": [
      "\n",
      "Ftest =\n",
      "\n",
      "    9.6777\n",
      "\n",
      "\n"
     ]
    }
   ],
   "source": [
    "Fchow1 =  (SSR1- (SSR2+SSR3))/2;\n",
    "Fchow2 = (SSR2+SSR3)/(80-4);\n",
    "Ftest= Fchow1/Fchow2"
   ]
  },
  {
   "cell_type": "code",
   "execution_count": 10,
   "metadata": {},
   "outputs": [
    {
     "name": "stdout",
     "output_type": "stream",
     "text": [
      "\n",
      "Pvalue =\n",
      "\n",
      "   1.8022e-04\n",
      "\n",
      "\n"
     ]
    }
   ],
   "source": [
    "Pvalue = 1-fcdf(Ftest,2,76)"
   ]
  },
  {
   "cell_type": "markdown",
   "metadata": {},
   "source": [
    "We see that that is evidence of structural change in the way tax rates affect inequalty before and after 1961. Tax rates are more effective after 1961 than before."
   ]
  },
  {
   "cell_type": "code",
   "execution_count": null,
   "metadata": {},
   "outputs": [],
   "source": []
  },
  {
   "cell_type": "markdown",
   "metadata": {},
   "source": [
    "Higher tax rates reduce the share of national income of the top 1%. No let's go back to main sample.  Run a regression on year and year-squared as well as constant term and tax rate."
   ]
  },
  {
   "cell_type": "code",
   "execution_count": 11,
   "metadata": {},
   "outputs": [
    {
     "name": "stdout",
     "output_type": "stream",
     "text": [
      "\n",
      "ans =\n",
      "\n",
      "    3.1325   76.2059\n",
      "   -0.0080   -5.0849\n",
      "   -0.0272   -6.7142\n",
      "    0.0003    7.3179\n",
      "\n",
      "\n"
     ]
    }
   ],
   "source": [
    "xxx = [xx year1 year1.^2];\n",
    "result2 = ols(y,xxx);\n",
    "[result2.beta result2.tstat] % year 1 is for 1921"
   ]
  },
  {
   "cell_type": "code",
   "execution_count": 12,
   "metadata": {},
   "outputs": [
    {
     "name": "stdout",
     "output_type": "stream",
     "text": [
      "\n",
      "year_min =\n",
      "\n",
      "   43.7508\n",
      "\n",
      "\n"
     ]
    }
   ],
   "source": [
    "year_min = - .5* result2.beta(3,1)/result2.beta(4,1)"
   ]
  },
  {
   "cell_type": "markdown",
   "metadata": {},
   "source": [
    "Share minimizing year is 1965 since we start at 1921."
   ]
  },
  {
   "cell_type": "markdown",
   "metadata": {},
   "source": [
    "95% confidence interval for the share minizing year"
   ]
  },
  {
   "cell_type": "code",
   "execution_count": 8,
   "metadata": {},
   "outputs": [
    {
     "name": "stdout",
     "output_type": "stream",
     "text": [
      "\n",
      "ans =\n",
      "\n",
      "   77.9420\n",
      "   24.1892\n",
      "\n",
      "\n"
     ]
    }
   ],
   "source": [
    "[-.5* result2.bint(3,1)/result2.bint(4,1); -.5* result2.bint(3,2)/result2.bint(4,2)]"
   ]
  },
  {
   "cell_type": "markdown",
   "metadata": {},
   "source": [
    "Confidence interval for share-minimizing years: 1945 and 1999."
   ]
  },
  {
   "cell_type": "code",
   "execution_count": 13,
   "metadata": {},
   "outputs": [
    {
     "name": "stdout",
     "output_type": "stream",
     "text": [
      "\n",
      "ans =\n",
      "\n",
      "    3.1264   76.4003\n",
      "   -0.0081   -5.2119\n",
      "   -0.0271   -6.7387\n",
      "    0.0003    7.3554\n",
      "    0.0035    1.5526\n",
      "\n",
      "\n"
     ]
    }
   ],
   "source": [
    "xxxx = [xxx growth1]; % Add a growth term\n",
    "result3 = ols(y,xxxx);\n",
    "[result3.beta result3.tstat]"
   ]
  },
  {
   "cell_type": "markdown",
   "metadata": {},
   "source": [
    "Growth term is not significant"
   ]
  },
  {
   "cell_type": "markdown",
   "metadata": {},
   "source": [
    "Find tax rate which would get the share of the top 1% to 12% in 2001."
   ]
  },
  {
   "cell_type": "code",
   "execution_count": 14,
   "metadata": {},
   "outputs": [
    {
     "name": "stdout",
     "output_type": "stream",
     "text": [
      "\n",
      "tax_star =\n",
      "\n",
      "   57.7310\n",
      "\n",
      "\n"
     ]
    }
   ],
   "source": [
    "tax_star = (log(12)-result3.beta(1,:) - result3.beta(3,:)*80 - result3.beta(4,1) * 80^2 - result3.beta(5,1) ...\n",
    "* 3)/result3.beta(2,1)"
   ]
  },
  {
   "cell_type": "markdown",
   "metadata": {},
   "source": [
    "Taxes would have to be 58% to get the share of the top 1% down to 12% of income in 2001."
   ]
  },
  {
   "cell_type": "code",
   "execution_count": 11,
   "metadata": {},
   "outputs": [
    {
     "name": "stdout",
     "output_type": "stream",
     "text": [
      "\n",
      "tax_star_min =\n",
      "\n",
      "  -71.5475\n",
      "\n",
      "\n"
     ]
    }
   ],
   "source": [
    "tax_star_min = (log(12)-result3.bint(1,1) - result3.bint(3,1)*80 - result3.bint(4,1) * 80^2 - result3.bint(5,1) ...\n",
    "* 3)/result3.bint(2,1)"
   ]
  },
  {
   "cell_type": "code",
   "execution_count": 12,
   "metadata": {},
   "outputs": [
    {
     "name": "stdout",
     "output_type": "stream",
     "text": [
      "\n",
      "tax_star_max =\n",
      "\n",
      "  346.9802\n",
      "\n",
      "\n"
     ]
    }
   ],
   "source": [
    "tax_star_max = (log(12)-result3.bint(1,2) - result3.bint(3,2)*80 - result3.bint(4,2) * 80^2 - result3.bint(5,2) ...\n",
    "* 3)/result3.bint(2,2)"
   ]
  },
  {
   "cell_type": "markdown",
   "metadata": {},
   "source": [
    "So a crazy confidence interval\n",
    "Now lets do an easy Chow test.\n"
   ]
  },
  {
   "cell_type": "markdown",
   "metadata": {},
   "source": [
    "help chowtest: just tpe in the full sample y,xx and the timing of the break point"
   ]
  },
  {
   "cell_type": "code",
   "execution_count": 17,
   "metadata": {},
   "outputs": [
    {
     "name": "stdout",
     "output_type": "stream",
     "text": [
      " CHOWTEST Chow tests for structural change\n",
      " \n",
      "  Syntax:\n",
      " \n",
      "    [h,pValue,stat,cValue] = chowtest(X,y,bp)\n",
      "    [h,pValue,stat,cValue] = chowtest(Tbl,bp)\n",
      "    [h,pValue,stat,cValue] = chowtest(...,param,val,...)\n",
      " \n",
      "  Description:\n",
      " \n",
      "    Chow tests assess the stability of coefficients b in a multiple linear\n",
      "    regression model of the form y = X*b + e. Data are split at specified\n",
      "    break points in bp. Coefficients are estimated in initial subsamples,\n",
      "    then tested for compatibility with data in complementary subsamples.\n",
      " \n",
      "  Input Arguments:\n",
      " \n",
      "    X - numObs-by-numPreds matrix of predictor data for a multiple linear                                                                                                                                                                                                                                                                                                                                                                                                                                                                                                                                                                                         \n",
      "        regression model.\n",
      " \n",
      "    y - numObs-by-1 vector of response data for a multiple linear\n",
      "        regression model.\n",
      " \n",
      "    Tbl - numObs-by-numPreds+1 tabular array of data for a multiple linear\n",
      "        regression model, with predictor data X in the first numPreds\n",
      "        columns and response data y in the last column. \n",
      " \n",
      "    Observations with missing (NaN) values in the predictors or the\n",
      "    response are removed from the data.\n",
      " \n",
      "    bp - Scalar or vector of break points to be used in the tests. Each\n",
      "       breakpoint is the index of a specific observation in the data. Test\n",
      "       subsamples are formed from observations 1:bp and (bp+1):end.\n",
      " \n",
      "    If bp is a scalar, the number of tests, numTests, is determined by the\n",
      "    common dimension of input parameter values, and the same bp is used in\n",
      "    each test. Otherwise, the length of bp determines numTests, and\n",
      "    separate tests are run for each value in bp.\n",
      " \n",
      "  Optional Input Parameter Name/Value Pairs:\n",
      " \n",
      "    NAME        VALUE\n",
      " \n",
      "    'Intercept' Logical scalar or vector of length numTests indicating\n",
      "                whether or not to add an intercept when fitting the model.\n",
      "                The default is true. The number of coefficients in the\n",
      "                model, numCoeffs, is numPreds plus 'Intercept'.\n",
      " \n",
      "    'Test'      String or cell vector of strings of length numTests\n",
      "                indicating the type of test. Values are 'breakpoint' or\n",
      "                'forecast'. A 'breakpoint' test assesses coefficient\n",
      "                equality constraints directly, using an F statistic. In\n",
      "                this case, subsamples must both have size greater than\n",
      "                numCoeffs. A 'forecast' test assesses forecast performance,\n",
      "                using a modified F statistic. In this case, only the\n",
      "                initial subsample must have size greater than numCoeffs.\n",
      "                The default is 'breakpoint'.\n",
      " \n",
      "    'Coeffs'    Logical vector or array indicating which elements of b to\n",
      "                test for equality. The default is true(1,numCoeffs), to\n",
      "                test all of b. Vector values must be of length numCoeffs.\n",
      "                Array values must be of size numTests-by-numCoeffs. If\n",
      "                'Intercept' contains mixed logical values, numCoeffs is\n",
      "                numPreds+1, and values in the first column of 'Coeffs' are\n",
      "                ignored for models without an intercept.\n",
      " \n",
      "    'Alpha'     Scalar or vector of length numTests of nominal significance\n",
      "                levels for the tests. Values must be greater than zero and\n",
      "                less than one. The default is 0.05.\n",
      " \n",
      "    'Display'   String indicating whether or not to display the results of\n",
      "                the tests in the command window. Values are 'summary' and\n",
      "                'off'. The default is 'off' for a single test and 'summary'\n",
      "                for multiple tests.\n",
      " \n",
      "    Scalar and single string parameter values, other than 'Display', are\n",
      "    expanded to the size of numTests. Vector values and 'Coeffs' arrays\n",
      "    must share a common dimension, equal to numTests.\n",
      " \n",
      "    If bp or any parameter value, other than 'Coeffs', is a row vector, all\n",
      "    outputs are row vectors.\n",
      " \n",
      "  Output Arguments:\n",
      " \n",
      "    h - Vector of Boolean decisions for the tests, with length equal to\n",
      "        numTests. Hypotheses are independent of the value of 'Test':\n",
      " \n",
      "        H0: Coefficients in b selected by the 'Coeffs' parameter are\n",
      "            identical across subsamples.\n",
      " \n",
      "        H1: Some coefficient in b selected by the 'Coeffs' parameter\n",
      "            exhibits significant change across subsamples.\n",
      " \n",
      "        Values of h equal to true indicate rejection of H0 in favor of H1.\n",
      "        Values of h equal to false indicate a failure to reject H0.\n",
      " \n",
      "    pValue - Vector of p-values of the statistics, with length equal to\n",
      "             numTests.\n",
      " \n",
      "    stat - Vector of statistics, with length equal to numTests. These are\n",
      "           Chow's F statistics, given in [1].\n",
      " \n",
      "    cValue - Vector of critical values for the tests, determined by\n",
      "             'Alpha', with length equal to numTests.\n",
      " \n",
      "  Notes:\n",
      " \n",
      "    o The Chow test assumes continuity of the innovations variance across\n",
      "      structural breaks. Heteroscedasticity distorts the size and power of\n",
      "      the test. It is recommended that this assumption be verified before\n",
      "      using test results for inference.\n",
      " \n",
      "    o The 'breakpoint' test is a standard F test from the analysis of\n",
      "      covariance. The 'forecast' test makes use of the standard theory of\n",
      "      prediction intervals. Chow's contribution in [1] is to place both\n",
      "      tests within the framework of general linear hypotheses, and develop\n",
      "      appropriate statistics for testing subsets of coefficients\n",
      "      (CHOWTEST's 'Coeffs' parameter).\n",
      " \n",
      "    o The 'forecast' test can be applied to cases where both subsamples\n",
      "      have size greater than numCoeffs, where a 'breakpoint' test is\n",
      "      typically used. In such cases, however, the 'forecast' test may have\n",
      "      significantly reduced power relative to a 'breakpoint' test.\n",
      "      Nevertheless, [4] suggests use of the 'forecast' test in the presence\n",
      "      of unknown specification errors.\n",
      " \n",
      "    o The 'forecast' test is based on the unbiased predictions, with zero\n",
      "      mean error, that result from stable coefficients. However, zero mean\n",
      "      forecast error does not, in general, guarantee coefficient stability.\n",
      "      Thus, 'forecast' tests are most effective in checking for structural\n",
      "      breaks, rather than model continuity [3].\n",
      " \n",
      "    o Diagnostic statistics on each subsample regression (coefficient\n",
      "      estimates, standard errors, etc.) can be obtained using the methods\n",
      "      of the LinearModel class, such as FITLM.\n",
      " \n",
      "  Example:\n",
      " \n",
      "    % Test the stability of an explanatory model of U.S. real GNP using\n",
      "    % World War II as a breakpoint:\n",
      " \n",
      "    load Data_NelsonPlosser\n",
      "    span = (1915 <= dates) & (dates <= 1970);\n",
      "    Mdl = DataTable(span,[4,5,10,1]);\n",
      "    datesMdl = dates(span);\n",
      "    bp = find(datesMdl == 1945);\n",
      "    h = chowtest(Mdl,bp,'Display','summary');\n",
      " \n",
      "  References:\n",
      " \n",
      "    [1] Chow, G. C. \"Tests of Equality Between Sets of Coefficients in Two\n",
      "        Linear Regressions.\" Econometrica. Vol. 28, 1960, pp. 591–605.\n",
      " \n",
      "    [2] Fisher, F. M. \"Tests of Equality Between Sets of Coefficients in\n",
      "        Two Linear Regressions: An Expository Note.\" Econometrica. Vol. 38,\n",
      "        1970, pp. 361-66.\n",
      " \n",
      "    [3] Rea, J. D. \"Indeterminacy of the Chow Test When the Number of\n",
      "        Observations is Insufficient.\" Econometrica. Vol. 46, 1978, p. 229.\n",
      " \n",
      "    [4] Wilson, A. L. \"When is the Chow Test UMP?\" The American\n",
      "        Statistician. Vol.32, 1978, pp. 66-68.\n",
      " \n",
      "  See also CUSUMTEST, RECREG, FITLM\n",
      "\n",
      "    Documentation for chowtest\n",
      "       doc chowtest\n",
      "\n",
      "\n",
      "\n"
     ]
    }
   ],
   "source": [
    "help chowtest"
   ]
  },
  {
   "cell_type": "code",
   "execution_count": 22,
   "metadata": {},
   "outputs": [
    {
     "name": "stdout",
     "output_type": "stream",
     "text": [
      "\n",
      "h =\n",
      "\n",
      "  logical\n",
      "\n",
      "   1\n",
      "\n",
      "\n",
      "p =\n",
      "\n",
      "   7.3263e-05\n",
      "\n",
      "\n"
     ]
    }
   ],
   "source": [
    "[h,p]= chowtest(xx(:,2),y,40)"
   ]
  },
  {
   "cell_type": "code",
   "execution_count": null,
   "metadata": {},
   "outputs": [],
   "source": []
  }
 ],
 "metadata": {
  "kernelspec": {
   "display_name": "Matlab",
   "language": "matlab",
   "name": "matlab"
  },
  "language_info": {
   "codemirror_mode": "octave",
   "file_extension": ".m",
   "help_links": [
    {
     "text": "MetaKernel Magics",
     "url": "https://metakernel.readthedocs.io/en/latest/source/README.html"
    }
   ],
   "mimetype": "text/x-octave",
   "name": "matlab",
   "version": "0.16.11"
  }
 },
 "nbformat": 4,
 "nbformat_minor": 2
}
