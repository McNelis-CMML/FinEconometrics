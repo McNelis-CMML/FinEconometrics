{
 "cells": [
  {
   "cell_type": "markdown",
   "metadata": {},
   "source": [
    "$\\textbf{Estimation Software:}$: Ordinary Least Squares (OLS)\n",
    "\n",
    "To use OLS, it is easiest to download and use the LeSage Spatial Econometrics Toolbox.\n",
    "It can be found on the website:   https://www.spatial-econometrics.com/\n",
    "Download version 7 into a folder, eg, C:\\LeSage7, or anywhere else in your system. Then add in the command \n",
    "addpath(genpath('C:\\LeSage7'));\n",
    "at the start of your session.  Simple.\n",
    "After you have finished your estimation, you should remove the LeSage7 path with the matlab command,\n",
    "rmpath('C:\\LeSage7');\n",
    "\n",
    "However, if you have the Stats and Econoetrics toolboxes with Matlab, we can make use of packages contained in these programs. \n",
    "\n",
    "We will show examples with both\n"
   ]
  },
  {
   "cell_type": "markdown",
   "metadata": {},
   "source": [
    "$\\textbf{Empirical Exercise-Week 1}$  Page 91, Problem 2.26\n",
    "Lets look at another example from your book, relating food expenditure to income and an indicator variable for education.  "
   ]
  },
  {
   "cell_type": "code",
   "execution_count": 4,
   "metadata": {},
   "outputs": [
    {
     "name": "stdout",
     "output_type": "stream",
     "text": [
      "\n"
     ]
    }
   ],
   "source": [
    "clear all\n",
    "Tab1 = readtable('cex5_small.csv'); warning off;\n",
    "%   This is a tabular data file"
   ]
  },
  {
   "cell_type": "code",
   "execution_count": 3,
   "metadata": {},
   "outputs": [
    {
     "name": "stdout",
     "output_type": "stream",
     "text": [
      "\n",
      "ans =\n",
      "\n",
      "  5x10 table\n",
      "\n",
      "    advanced    alcbev    appar    college    entert     food     foodaway    health    income    smsa\n",
      "    ________    ______    _____    _______    ______    ______    ________    ______    ______    ____\n",
      "\n",
      "       0        11.11         0       0       43.44       9.63      47.56      58.22     123.7     1  \n",
      "       0            0      6.22       0       17.56      94.22      77.04       3.33     59.68     1  \n",
      "       0           10         0       1           5      38.52      39.81      33.33     80.99     1  \n",
      "       0        11.11     29.44       1          20     173.33          0     130.59    133.24     1  \n",
      "       0            0     22.44       1          56     173.33     108.33     135.11     81.01     0  \n",
      "\n",
      "\n"
     ]
    }
   ],
   "source": [
    "size(Tab1);\n",
    "Tab1(1:5,1:end)"
   ]
  },
  {
   "cell_type": "markdown",
   "metadata": {},
   "source": [
    "foodaway is expenditures on Food away from home and income is household monthly income in $100 units. foodaway is in column 7 and income in column 9. Health expenditures are in column 8. So define the variables:"
   ]
  },
  {
   "cell_type": "code",
   "execution_count": 5,
   "metadata": {},
   "outputs": [
    {
     "name": "stdout",
     "output_type": "stream",
     "text": [
      "\n"
     ]
    }
   ],
   "source": [
    "foodaway = Tab1(:,7); income = Tab1(:,9);  health = Tab1(:,8);"
   ]
  },
  {
   "cell_type": "markdown",
   "metadata": {},
   "source": [
    "Change the format of both variables to a real \"array\" number from a table format."
   ]
  },
  {
   "cell_type": "code",
   "execution_count": 3,
   "metadata": {},
   "outputs": [
    {
     "name": "stdout",
     "output_type": "stream",
     "text": [
      "\n"
     ]
    }
   ],
   "source": [
    "foodaway1 = table2array(foodaway); income1 = table2array(income); \n",
    "health1 = table2array(health);"
   ]
  },
  {
   "cell_type": "markdown",
   "metadata": {},
   "source": [
    "It is always good to look at the data first. We plot the historgram for each variable."
   ]
  },
  {
   "cell_type": "code",
   "execution_count": 4,
   "metadata": {},
   "outputs": [
    {
     "name": "stdout",
     "output_type": "stream",
     "text": [
      "\n"
     ]
    },
    {
     "data": {
      "image/png": "[encoded data removed]",
      "text/plain": [
       "<IPython.core.display.Image object>"
      ]
     },
     "metadata": {},
     "output_type": "display_data"
    }
   ],
   "source": [
    "subplot(311); hist(foodaway1); title('Food Exp'); subplot(312); \n",
    "hist(income1); title('Income'); subplot(313); hist(health1); \n",
    "title('Health Exp');"
   ]
  },
  {
   "cell_type": "markdown",
   "metadata": {},
   "source": [
    "Look at some of the statistics"
   ]
  },
  {
   "cell_type": "code",
   "execution_count": 5,
   "metadata": {},
   "outputs": [
    {
     "name": "stdout",
     "output_type": "stream",
     "text": [
      "\n",
      "ans =\n",
      "\n",
      "   49.2709   65.2836\n",
      "   72.1426   41.6523\n",
      "\n",
      "\n",
      "ans =\n",
      "\n",
      "   84.1471  124.5632\n",
      "\n",
      "\n"
     ]
    }
   ],
   "source": [
    "[mean(foodaway1) std(foodaway1); mean(income1) std(income1)] \n",
    "[mean(health1) std(health1)]"
   ]
  },
  {
   "cell_type": "markdown",
   "metadata": {},
   "source": [
    "We see that foodaway has higher volatility than income but a lower mean."
   ]
  },
  {
   "cell_type": "markdown",
   "metadata": {},
   "source": [
    "Now lets setup a regression. Simple one."
   ]
  },
  {
   "cell_type": "markdown",
   "metadata": {},
   "source": [
    "Lets do a regression of foodaway1 on a constant term and income1."
   ]
  },
  {
   "cell_type": "code",
   "execution_count": 6,
   "metadata": {},
   "outputs": [
    {
     "name": "stdout",
     "output_type": "stream",
     "text": [
      "\n"
     ]
    }
   ],
   "source": [
    "x1 = ones(1200,1);\n",
    "xx = [x1 income1];yy = foodaway1;"
   ]
  },
  {
   "cell_type": "code",
   "execution_count": 8,
   "metadata": {},
   "outputs": [
    {
     "name": "stdout",
     "output_type": "stream",
     "text": [
      "\n",
      "Your variables are:\n",
      "\n",
      "Tab1       ans        foodaway   foodaway1  health     health1    income     income1    x1         xx         yy         \n",
      "\n",
      "\n"
     ]
    }
   ],
   "source": [
    "who"
   ]
  },
  {
   "cell_type": "code",
   "execution_count": 7,
   "metadata": {},
   "outputs": [
    {
     "name": "stdout",
     "output_type": "stream",
     "text": [
      "  PURPOSE: least-squares regression \n",
      " ---------------------------------------------------\n",
      "  USAGE: results = ols(y,x)\n",
      "  where: y = dependent variable vector    (nobs x 1)\n",
      "         x = independent variables matrix (nobs x nvar)\n",
      " ---------------------------------------------------\n",
      "  RETURNS: a structure\n",
      "         results.meth  = 'ols'\n",
      "         results.beta  = bhat     (nvar x 1)\n",
      "         results.tstat = t-stats  (nvar x 1)\n",
      "         results.bstd  = std deviations for bhat (nvar x 1)\n",
      "         results.yhat  = yhat     (nobs x 1)\n",
      "         results.resid = residuals (nobs x 1)\n",
      "         results.sige  = e'*e/(n-k)   scalar\n",
      "         results.rsqr  = rsquared     scalar\n",
      "         results.rbar  = rbar-squared scalar\n",
      "         results.dw    = Durbin-Watson Statistic\n",
      "         results.nobs  = nobs\n",
      "         results.nvar  = nvars\n",
      "         results.y     = y data vector (nobs x 1)\n",
      "         results.bint  = (nvar x2 ) vector with 95% confidence intervals on beta\n",
      " ---------------------------------------------------\n",
      "  SEE ALSO: prt(results), plt(results)\n",
      " ---------------------------------------------------\n",
      "\n",
      "\n"
     ]
    }
   ],
   "source": [
    "addpath(genpath('c:\\LeSage7'));\n",
    "help ols"
   ]
  },
  {
   "cell_type": "code",
   "execution_count": 8,
   "metadata": {},
   "outputs": [
    {
     "name": "stdout",
     "output_type": "stream",
     "text": [
      "\n",
      "beta =\n",
      "\n",
      "   13.7138\n",
      "    0.4929\n",
      "\n",
      "\n"
     ]
    }
   ],
   "source": [
    "results = ols(yy,xx);\n",
    "beta = results.beta;\n",
    "beta"
   ]
  },
  {
   "cell_type": "code",
   "execution_count": null,
   "metadata": {},
   "outputs": [],
   "source": [
    "who"
   ]
  },
  {
   "cell_type": "code",
   "execution_count": 11,
   "metadata": {},
   "outputs": [
    {
     "name": "stdout",
     "output_type": "stream",
     "text": [
      "\n",
      "tstat =\n",
      "\n",
      "    3.8301\n",
      "   11.4658\n",
      "\n",
      "\n"
     ]
    }
   ],
   "source": [
    "tstat = results.tstat"
   ]
  },
  {
   "cell_type": "markdown",
   "metadata": {},
   "source": [
    "Now lets do a regression of foodaway1 on a constant and an indicator variable, advanced."
   ]
  },
  {
   "cell_type": "code",
   "execution_count": 12,
   "metadata": {},
   "outputs": [
    {
     "name": "stdout",
     "output_type": "stream",
     "text": [
      "\n"
     ]
    }
   ],
   "source": [
    "advanced = Tab1(:,1); advanced1 = table2array(advanced); \n",
    "xxx = [x1 advanced1];"
   ]
  },
  {
   "cell_type": "code",
   "execution_count": 13,
   "metadata": {},
   "outputs": [
    {
     "name": "stdout",
     "output_type": "stream",
     "text": [
      "\n"
     ]
    }
   ],
   "source": [
    "result1 = ols(yy,xxx);"
   ]
  },
  {
   "cell_type": "code",
   "execution_count": 14,
   "metadata": {},
   "outputs": [
    {
     "name": "stdout",
     "output_type": "stream",
     "text": [
      "\n",
      "beta1 =\n",
      "\n",
      "   42.7616\n",
      "   30.3933\n",
      "\n",
      "\n"
     ]
    }
   ],
   "source": [
    "beta1 = result1.beta"
   ]
  },
  {
   "cell_type": "markdown",
   "metadata": {},
   "source": [
    "Answer to question: mean expenditures on food away for a household with an advanced degree is 42.7616 + 30.3933. For a household with no advanced degree, it is 42.7616. So we can conclude that households with advanced degree members spend a lot more on food away from home. Now a good exercise is to see if the households with advanced degrees spend more on health. Do a similar regression, defining the new variable health1 as the dependent variable. A good exercise is to plot the residuals. We learn a lot from the residuals. Lets do it for the regression of food expenditures on income."
   ]
  },
  {
   "cell_type": "code",
   "execution_count": 15,
   "metadata": {},
   "outputs": [
    {
     "name": "stdout",
     "output_type": "stream",
     "text": [
      "\n"
     ]
    },
    {
     "data": {
      "image/png": "[encoded data removed]",
      "text/plain": [
       "<IPython.core.display.Image object>"
      ]
     },
     "metadata": {},
     "output_type": "display_data"
    }
   ],
   "source": [
    "ehat = results.resid;\n",
    "plot(ehat)"
   ]
  },
  {
   "cell_type": "code",
   "execution_count": 16,
   "metadata": {
    "scrolled": true
   },
   "outputs": [
    {
     "name": "stdout",
     "output_type": "stream",
     "text": [
      "\n"
     ]
    },
    {
     "data": {
      "image/png": "[encoded data removed]",
      "text/plain": [
       "<IPython.core.display.Image object>"
      ]
     },
     "metadata": {},
     "output_type": "display_data"
    }
   ],
   "source": [
    "hist(ehat)"
   ]
  },
  {
   "cell_type": "markdown",
   "metadata": {},
   "source": [
    "We will come back to further discussion. We are now just working with the simple linear model."
   ]
  },
  {
   "cell_type": "code",
   "execution_count": 17,
   "metadata": {},
   "outputs": [
    {
     "name": "stdout",
     "output_type": "stream",
     "text": [
      " REGRESS Multiple linear regression using least squares.\n",
      "    B = REGRESS(Y,X) returns the vector B of regression coefficients in the\n",
      "    linear model Y = X*B.  X is an n-by-p design matrix, with rows\n",
      "    corresponding to observations and columns to predictor variables.  Y is\n",
      "    an n-by-1 vector of response observations.\n",
      " \n",
      "    [B,BINT] = REGRESS(Y,X) returns a matrix BINT of 95% confidence\n",
      "    intervals for B.\n",
      " \n",
      "    [B,BINT,R] = REGRESS(Y,X) returns a vector R of residuals.\n",
      " \n",
      "    [B,BINT,R,RINT] = REGRESS(Y,X) returns a matrix RINT of intervals that\n",
      "    can be used to diagnose outliers.  If RINT(i,:) does not contain zero,\n",
      "    then the i-th residual is larger than would be expected, at the 5%\n",
      "    significance level.  This is evidence that the I-th observation is an\n",
      "    outlier.\n",
      " \n",
      "    [B,BINT,R,RINT,STATS] = REGRESS(Y,X) returns a vector STATS containing, in\n",
      "    the following order, the R-square statistic, the F statistic and p value\n",
      "    for the full model, and an estimate of the error variance.\n",
      " \n",
      "    [...] = REGRESS(Y,X,ALPHA) uses a 100*(1-ALPHA)% confidence level to\n",
      "    compute BINT, and a (100*ALPHA)% significance level to compute RINT.\n",
      " \n",
      "    X should include a column of ones so that the model contains a constant\n",
      "    term.  The F statistic and p value are computed under the assumption\n",
      "    that the model contains a constant term, and they are not correct for\n",
      "    models without a constant.  The R-square value is one minus the ratio of\n",
      "    the error sum of squares to the total sum of squares.  This value can\n",
      "    be negative for models without a constant, which indicates that the\n",
      "    model is not appropriate for the data.\n",
      " \n",
      "    If columns of X are linearly dependent, REGRESS sets the maximum\n",
      "    possible number of elements of B to zero to obtain a \"basic solution\",\n",
      "    and returns zeros in elements of BINT corresponding to the zero\n",
      "    elements of B.\n",
      " \n",
      "    REGRESS treats NaNs in X or Y as missing values, and removes them.\n",
      " \n",
      "    See also LSCOV, POLYFIT, REGSTATS, ROBUSTFIT, STEPWISE.\n",
      "\n",
      "    Documentation for regress\n",
      "       doc regress\n",
      "\n",
      "    Folders named regress\n",
      "\n",
      "       LeSage7\\regress\n",
      "\n",
      "\n"
     ]
    }
   ],
   "source": [
    "help regress"
   ]
  },
  {
   "cell_type": "code",
   "execution_count": 18,
   "metadata": {},
   "outputs": [
    {
     "name": "stdout",
     "output_type": "stream",
     "text": [
      "\n"
     ]
    }
   ],
   "source": [
    "[B,BINT,R,RINT,STATS] =  regress(yy,xx);"
   ]
  },
  {
   "cell_type": "code",
   "execution_count": 19,
   "metadata": {},
   "outputs": [
    {
     "name": "stdout",
     "output_type": "stream",
     "text": [
      "\n",
      "ans =\n",
      "\n",
      "   13.7138    6.6891   20.7386\n",
      "    0.4929    0.4085    0.5772\n",
      "\n",
      "\n"
     ]
    }
   ],
   "source": [
    "[B BINT]"
   ]
  },
  {
   "cell_type": "markdown",
   "metadata": {},
   "source": [
    "The cell above gives the intercept and slope, as well as their 95 confidence intervals."
   ]
  },
  {
   "cell_type": "code",
   "execution_count": 19,
   "metadata": {},
   "outputs": [
    {
     "name": "stdout",
     "output_type": "stream",
     "text": [
      "\n"
     ]
    },
    {
     "data": {
      "image/png": "[encoded data removed]",
      "text/plain": [
       "<IPython.core.display.Image object>"
      ]
     },
     "metadata": {},
     "output_type": "display_data"
    }
   ],
   "source": [
    "plot(R);  % Plot residuals again\n",
    "save Output_Week1;  % Save regression results from week 1"
   ]
  },
  {
   "cell_type": "code",
   "execution_count": 20,
   "metadata": {},
   "outputs": [
    {
     "name": "stdout",
     "output_type": "stream",
     "text": [
      "\n",
      "Your variables are:\n",
      "\n",
      "B          RINT       advanced   beta       foodaway   health1    result1    x1         yy         \n",
      "BINT       STATS      advanced1  beta1      foodaway1  income     results    xx         \n",
      "R          Tab1       ans        ehat       health     income1    tstat      xxx        \n",
      "\n",
      "\n"
     ]
    }
   ],
   "source": [
    "who\n"
   ]
  },
  {
   "cell_type": "markdown",
   "metadata": {},
   "source": [
    "When we take the log of foodaway1, some observations are zero so we cannot take a log of zero.  This is the problem with the use of logs.  One way to get around this is to add a constant to make the smallest observation equal to 1, not zero, and take the logs."
   ]
  },
  {
   "cell_type": "code",
   "execution_count": 21,
   "metadata": {},
   "outputs": [
    {
     "name": "stdout",
     "output_type": "stream",
     "text": [
      "\n",
      "ans =\n",
      "\n",
      "     0\n",
      "\n",
      "\n"
     ]
    }
   ],
   "source": [
    "min(foodaway1)\n",
    "xxx = [x1 log(income1)]; yyy = log(foodaway1+1);\n"
   ]
  },
  {
   "cell_type": "code",
   "execution_count": 22,
   "metadata": {},
   "outputs": [
    {
     "name": "stdout",
     "output_type": "stream",
     "text": [
      "\n"
     ]
    }
   ],
   "source": [
    "[B,BINT,R,RINT,STATS] =  regress(yyy,xxx);"
   ]
  },
  {
   "cell_type": "code",
   "execution_count": 22,
   "metadata": {},
   "outputs": [
    {
     "name": "stdout",
     "output_type": "stream",
     "text": [
      "\n",
      "ans =\n",
      "\n",
      "   -0.1777   -0.7133    0.3580\n",
      "    0.8107    0.6815    0.9399\n",
      "\n",
      "\n"
     ]
    }
   ],
   "source": [
    "[B BINT]"
   ]
  },
  {
   "cell_type": "code",
   "execution_count": 23,
   "metadata": {},
   "outputs": [
    {
     "name": "stdout",
     "output_type": "stream",
     "text": [
      "\n",
      "STATS =\n",
      "\n",
      "    0.1123  151.5081    0.0000    2.1194\n",
      "\n",
      "\n"
     ]
    }
   ],
   "source": [
    "STATS"
   ]
  },
  {
   "cell_type": "code",
   "execution_count": 24,
   "metadata": {},
   "outputs": [
    {
     "name": "stdout",
     "output_type": "stream",
     "text": [
      "\n",
      "ans =\n",
      "\n",
      "    0.1123\n",
      "\n",
      "\n"
     ]
    }
   ],
   "source": [
    "1-var(R)/var(yyy)"
   ]
  },
  {
   "cell_type": "markdown",
   "metadata": {},
   "source": [
    "The coefficient of variation or overall explanatory power of the model is .11.  Far away from a perfect fit of 1.  But better than nothing.  The overall F-stat and the p-value for the F-stat show that the model is more than just a constant term, that we have significant, thought small, explanatory power."
   ]
  },
  {
   "cell_type": "code",
   "execution_count": null,
   "metadata": {},
   "outputs": [],
   "source": []
  }
 ],
 "metadata": {
  "kernelspec": {
   "display_name": "Matlab",
   "language": "matlab",
   "name": "matlab"
  },
  "language_info": {
   "codemirror_mode": "octave",
   "file_extension": ".m",
   "help_links": [
    {
     "text": "MetaKernel Magics",
     "url": "https://metakernel.readthedocs.io/en/latest/source/README.html"
    }
   ],
   "mimetype": "text/x-octave",
   "name": "matlab",
   "version": "0.16.11"
  }
 },
 "nbformat": 4,
 "nbformat_minor": 2
}
