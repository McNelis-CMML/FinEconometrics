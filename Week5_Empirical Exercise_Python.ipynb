{
 "cells": [
  {
   "cell_type": "markdown",
   "metadata": {},
   "source": [
    "$\\textbf{Empirical Exercise-Week 5}$  Page 308, Problem 6.29\n",
    "Let's look at inequality and tax rates on income "
   ]
  },
  {
   "cell_type": "code",
   "execution_count": 1,
   "metadata": {},
   "outputs": [],
   "source": [
    "import pandas as pd\n",
    "import numpy as np\n",
    "import matplotlib.pyplot as plt\n",
    "import statsmodels.api as sm"
   ]
  },
  {
   "cell_type": "code",
   "execution_count": 2,
   "metadata": {},
   "outputs": [],
   "source": [
    "Tab1 = pd.read_csv('inequality.csv')"
   ]
  },
  {
   "cell_type": "code",
   "execution_count": 3,
   "metadata": {},
   "outputs": [
    {
     "data": {
      "text/html": [
       "<div>\n",
       "<style scoped>\n",
       "    .dataframe tbody tr th:only-of-type {\n",
       "        vertical-align: middle;\n",
       "    }\n",
       "\n",
       "    .dataframe tbody tr th {\n",
       "        vertical-align: top;\n",
       "    }\n",
       "\n",
       "    .dataframe thead th {\n",
       "        text-align: right;\n",
       "    }\n",
       "</style>\n",
       "<table border=\"1\" class=\"dataframe\">\n",
       "  <thead>\n",
       "    <tr style=\"text-align: right;\">\n",
       "      <th></th>\n",
       "      <th>year</th>\n",
       "      <th>aus_gdp</th>\n",
       "      <th>aus_gwth</th>\n",
       "      <th>aus_share</th>\n",
       "      <th>aus_tax</th>\n",
       "      <th>ca_gdp</th>\n",
       "      <th>ca_gwth</th>\n",
       "      <th>ca_share</th>\n",
       "      <th>ca_tax</th>\n",
       "      <th>nz_gdp</th>\n",
       "      <th>nz_gwth</th>\n",
       "      <th>nz_share</th>\n",
       "      <th>nz_tax</th>\n",
       "      <th>us_gdp</th>\n",
       "      <th>us_gwth</th>\n",
       "      <th>us_share</th>\n",
       "      <th>us_tax</th>\n",
       "    </tr>\n",
       "  </thead>\n",
       "  <tbody>\n",
       "    <tr>\n",
       "      <th>0</th>\n",
       "      <td>1</td>\n",
       "      <td>4910.8</td>\n",
       "      <td>3.038755</td>\n",
       "      <td>11.63</td>\n",
       "      <td>11.1</td>\n",
       "      <td>3357.0</td>\n",
       "      <td>-13.06407</td>\n",
       "      <td>17.6</td>\n",
       "      <td>4.2</td>\n",
       "      <td>5128.1</td>\n",
       "      <td>-8.282444</td>\n",
       "      <td>15.47</td>\n",
       "      <td>10.5</td>\n",
       "      <td>5322.7</td>\n",
       "      <td>-4.135091</td>\n",
       "      <td>15.47</td>\n",
       "      <td>12.0</td>\n",
       "    </tr>\n",
       "  </tbody>\n",
       "</table>\n",
       "</div>"
      ],
      "text/plain": [
       "   year  aus_gdp  aus_gwth  aus_share  aus_tax  ca_gdp   ca_gwth  ca_share  \\\n",
       "0     1   4910.8  3.038755      11.63     11.1  3357.0 -13.06407      17.6   \n",
       "\n",
       "   ca_tax  nz_gdp   nz_gwth  nz_share  nz_tax  us_gdp   us_gwth  us_share  \\\n",
       "0     4.2  5128.1 -8.282444     15.47    10.5  5322.7 -4.135091     15.47   \n",
       "\n",
       "   us_tax  \n",
       "0    12.0  "
      ]
     },
     "execution_count": 3,
     "metadata": {},
     "output_type": "execute_result"
    }
   ],
   "source": [
    "Tab1.head(1)"
   ]
  },
  {
   "cell_type": "code",
   "execution_count": 4,
   "metadata": {},
   "outputs": [],
   "source": [
    "year = Tab1.iloc[:,0]; share = Tab1.iloc[:,15]; tax = Tab1.iloc[:,16]; growth = Tab1.iloc[:,14]"
   ]
  },
  {
   "cell_type": "code",
   "execution_count": 5,
   "metadata": {},
   "outputs": [],
   "source": [
    "year1 = np.array(year); share1 = np.array(share); tax1 = np.array(tax); \n",
    "growth1 = np.array(growth);"
   ]
  },
  {
   "cell_type": "code",
   "execution_count": 6,
   "metadata": {},
   "outputs": [
    {
     "data": {
      "text/plain": [
       "array([[ 2.95690397e+00,  7.29519080e+01],\n",
       "       [-1.50737705e-02, -1.45279253e+01]])"
      ]
     },
     "execution_count": 6,
     "metadata": {},
     "output_type": "execute_result"
    }
   ],
   "source": [
    "y = np.log(share1);\n",
    "xx = np.hstack([np.ones((len(y),1)), tax1.reshape(-1,1)])\n",
    "result1 = sm.OLS(y,xx).fit()\n",
    "np.array([result1.params, result1.tvalues]).T"
   ]
  },
  {
   "cell_type": "markdown",
   "metadata": {},
   "source": [
    "Higher tax rates reduce the share of national income of the top 1%."
   ]
  },
  {
   "cell_type": "code",
   "execution_count": 8,
   "metadata": {},
   "outputs": [
    {
     "data": {
      "text/plain": [
       "array([[ 3.13249341e+00,  7.62058847e+01],\n",
       "       [-7.98492192e-03, -5.08493024e+00],\n",
       "       [-2.72166376e-02, -6.71419543e+00],\n",
       "       [ 3.11041768e-04,  7.31786456e+00]])"
      ]
     },
     "execution_count": 8,
     "metadata": {},
     "output_type": "execute_result"
    }
   ],
   "source": [
    "xxx = np.hstack([xx, year1.reshape(-1,1), (year1**2).reshape(-1,1)])\n",
    "result2 = sm.OLS(y,xxx).fit()\n",
    "np.array([result2.params, result2.tvalues]).T # year 1 is for 1921"
   ]
  },
  {
   "cell_type": "code",
   "execution_count": 9,
   "metadata": {},
   "outputs": [
    {
     "data": {
      "text/plain": [
       "43.75077626180348"
      ]
     },
     "execution_count": 9,
     "metadata": {},
     "output_type": "execute_result"
    }
   ],
   "source": [
    "year_min = - .5* result2.params[2]/result2.params[3]\n",
    "year_min"
   ]
  },
  {
   "cell_type": "markdown",
   "metadata": {},
   "source": [
    "Share minimizing year is 1965 since we start at 1921.\n",
    "\n"
   ]
  },
  {
   "cell_type": "markdown",
   "metadata": {},
   "source": [
    "95% confidence interval for the share minizing year"
   ]
  },
  {
   "cell_type": "code",
   "execution_count": 10,
   "metadata": {},
   "outputs": [
    {
     "data": {
      "text/plain": [
       "[77.941977136454, 24.1892346373913]"
      ]
     },
     "execution_count": 10,
     "metadata": {},
     "output_type": "execute_result"
    }
   ],
   "source": [
    "[-.5* result2.conf_int()[2,0]/result2.conf_int()[3,0], -.5* result2.conf_int()[2,1]/result2.conf_int()[3,1]]"
   ]
  },
  {
   "cell_type": "markdown",
   "metadata": {},
   "source": [
    "Confidence interval for share-minimizing years: 1945 and 1999."
   ]
  },
  {
   "cell_type": "code",
   "execution_count": 11,
   "metadata": {},
   "outputs": [
    {
     "data": {
      "text/plain": [
       "array([[ 3.12635725e+00,  7.64002889e+01],\n",
       "       [-8.12252749e-03, -5.21188978e+00],\n",
       "       [-2.70730890e-02, -6.73868933e+00],\n",
       "       [ 3.09828487e-04,  7.35538490e+00],\n",
       "       [ 3.47193632e-03,  1.55257986e+00]])"
      ]
     },
     "execution_count": 11,
     "metadata": {},
     "output_type": "execute_result"
    }
   ],
   "source": [
    "xxxx = np.hstack([xxx, growth1.reshape(-1,1)]) # Add a growth term\n",
    "result3 =sm.OLS(y,xxxx).fit()\n",
    "np.array([result3.params, result3.tvalues]).T"
   ]
  },
  {
   "cell_type": "markdown",
   "metadata": {},
   "source": [
    "Growth term is not significant"
   ]
  },
  {
   "cell_type": "markdown",
   "metadata": {},
   "source": [
    "Find tax rate which would get the share of the top 1% to 12% in 2001."
   ]
  },
  {
   "cell_type": "code",
   "execution_count": 12,
   "metadata": {},
   "outputs": [
    {
     "data": {
      "text/plain": [
       "57.730996703451666"
      ]
     },
     "execution_count": 12,
     "metadata": {},
     "output_type": "execute_result"
    }
   ],
   "source": [
    "tax_star = (np.log(12)-result3.params[0] - result3.params[2]*80 - result3.params[3] * (80**2) - result3.params[4]* 3)/result3.params[1]\n",
    "tax_star"
   ]
  },
  {
   "cell_type": "markdown",
   "metadata": {},
   "source": [
    "Taxes would have to be 58% to get the share of the top 1% down to 12% of income in 2001."
   ]
  },
  {
   "cell_type": "code",
   "execution_count": 13,
   "metadata": {},
   "outputs": [
    {
     "data": {
      "text/plain": [
       "-71.54746078287313"
      ]
     },
     "execution_count": 13,
     "metadata": {},
     "output_type": "execute_result"
    }
   ],
   "source": [
    "tax_star_min = (np.log(12)-result3.conf_int()[0,0] - result3.conf_int()[2,0]*80 - result3.conf_int()[3,0] * 80**2 - result3.conf_int()[4,0]* 3)/result3.conf_int()[1,0]\n",
    "tax_star_min"
   ]
  },
  {
   "cell_type": "code",
   "execution_count": 14,
   "metadata": {},
   "outputs": [
    {
     "data": {
      "text/plain": [
       "346.98018719492643"
      ]
     },
     "execution_count": 14,
     "metadata": {},
     "output_type": "execute_result"
    }
   ],
   "source": [
    "tax_star_max = (np.log(12)-result3.conf_int()[0,1] - result3.conf_int()[2,1]*80 - result3.conf_int()[3,1] * 80**2 - result3.conf_int()[4,1]* 3)/result3.conf_int()[1,1]\n",
    "tax_star_max"
   ]
  },
  {
   "cell_type": "code",
   "execution_count": null,
   "metadata": {},
   "outputs": [],
   "source": []
  }
 ],
 "metadata": {
  "kernelspec": {
   "display_name": "Python 3",
   "language": "python",
   "name": "python3"
  },
  "language_info": {
   "codemirror_mode": {
    "name": "ipython",
    "version": 3
   },
   "file_extension": ".py",
   "mimetype": "text/x-python",
   "name": "python",
   "nbconvert_exporter": "python",
   "pygments_lexer": "ipython3",
   "version": "3.7.6"
  }
 },
 "nbformat": 4,
 "nbformat_minor": 2
}
